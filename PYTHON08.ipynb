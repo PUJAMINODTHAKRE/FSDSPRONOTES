{
 "cells": [
  {
   "cell_type": "code",
   "execution_count": 5,
   "id": "9e15287a-bdfa-480f-a2d9-5edfd5178496",
   "metadata": {},
   "outputs": [
    {
     "name": "stdout",
     "output_type": "stream",
     "text": [
      "+ve number\n",
      "this is always prints\n"
     ]
    }
   ],
   "source": [
    "number=2\n",
    "\n",
    "if number >0:\n",
    "    print(\"+ve number\")\n",
    "elif number==0:\n",
    "    print(\"zero\")\n",
    "else:\n",
    "    print(\"-ve number\")\n",
    "    \n",
    "print(\"this is always prints\")    "
   ]
  },
  {
   "cell_type": "code",
   "execution_count": 6,
   "id": "48be6f72-4734-4adf-8b96-951c7f875a5a",
   "metadata": {},
   "outputs": [
    {
     "name": "stdout",
     "output_type": "stream",
     "text": [
      "0\n",
      "1\n",
      "2\n",
      "3\n",
      "4\n"
     ]
    }
   ],
   "source": [
    "for i in range(5):\n",
    "    print(i)"
   ]
  },
  {
   "cell_type": "code",
   "execution_count": 7,
   "id": "79bd3738-f25b-4e48-b956-25d318f199a0",
   "metadata": {},
   "outputs": [
    {
     "name": "stdout",
     "output_type": "stream",
     "text": [
      "today is mon\n",
      "today is tues\n",
      "today is wednes\n",
      "today is thurs\n",
      "today is fri\n",
      "today is sat\n",
      "today is sun\n"
     ]
    }
   ],
   "source": [
    "days=0\n",
    "week=['mon','tues','wednes','thurs','fri','sat','sun']\n",
    "\n",
    "while days<7:\n",
    "    print(\"today is \"+week[days])\n",
    "    days+=1\n",
    "#     days=days+1"
   ]
  },
  {
   "cell_type": "code",
   "execution_count": 8,
   "id": "a4dbd191-f256-4cf7-9d05-55339d7e6d7c",
   "metadata": {},
   "outputs": [
    {
     "data": {
      "text/plain": [
       "'mon'"
      ]
     },
     "execution_count": 8,
     "metadata": {},
     "output_type": "execute_result"
    }
   ],
   "source": [
    "week[0]"
   ]
  },
  {
   "cell_type": "raw",
   "id": "51cd9f89-1d99-427c-9565-3cbaab30ae57",
   "metadata": {},
   "source": [
    "Split() Function"
   ]
  },
  {
   "cell_type": "code",
   "execution_count": 10,
   "id": "6eeba17c-bf2c-4ca7-81e1-4d234288a2be",
   "metadata": {},
   "outputs": [
    {
     "data": {
      "text/plain": [
       "['ATUL', 'KUMAR', 'TRIPATHI']"
      ]
     },
     "execution_count": 10,
     "metadata": {},
     "output_type": "execute_result"
    }
   ],
   "source": [
    "text=\"ATUL KUMAR TRIPATHI \"\n",
    "text.split()"
   ]
  },
  {
   "cell_type": "code",
   "execution_count": 11,
   "id": "63a986a8-5380-4f95-b00c-6099eb9c69bb",
   "metadata": {},
   "outputs": [
    {
     "data": {
      "text/plain": [
       "['i', 'love', 'python']"
      ]
     },
     "execution_count": 11,
     "metadata": {},
     "output_type": "execute_result"
    }
   ],
   "source": [
    "text=\"i love python\"\n",
    "text.split()"
   ]
  },
  {
   "cell_type": "code",
   "execution_count": 12,
   "id": "930fffac-1035-445c-b983-deb6d808d7ea",
   "metadata": {},
   "outputs": [
    {
     "name": "stdin",
     "output_type": "stream",
     "text": [
      "enter 3 word message Welcome to pwskills \n"
     ]
    }
   ],
   "source": [
    "x=input(\"enter 3 word message\")"
   ]
  },
  {
   "cell_type": "code",
   "execution_count": 13,
   "id": "23d37d30-8841-4b06-bc7c-94ce266e5142",
   "metadata": {},
   "outputs": [
    {
     "data": {
      "text/plain": [
       "'Welcome to pwskills '"
      ]
     },
     "execution_count": 13,
     "metadata": {},
     "output_type": "execute_result"
    }
   ],
   "source": [
    "x"
   ]
  },
  {
   "cell_type": "code",
   "execution_count": 14,
   "id": "0727c0ec-b098-4c4e-b12f-63798d2901e1",
   "metadata": {},
   "outputs": [],
   "source": [
    "y=1"
   ]
  },
  {
   "cell_type": "code",
   "execution_count": 15,
   "id": "50916c7f-f260-42ce-98cf-e1ea2b9bdf9c",
   "metadata": {},
   "outputs": [],
   "source": [
    "y,w=2,3"
   ]
  },
  {
   "cell_type": "code",
   "execution_count": 16,
   "id": "6c858e66-5483-475f-a389-4e19cecc8b65",
   "metadata": {},
   "outputs": [
    {
     "data": {
      "text/plain": [
       "3"
      ]
     },
     "execution_count": 16,
     "metadata": {},
     "output_type": "execute_result"
    }
   ],
   "source": [
    "w"
   ]
  },
  {
   "cell_type": "code",
   "execution_count": 17,
   "id": "ca9c1b27-1284-4883-83eb-8e56fe5292d0",
   "metadata": {},
   "outputs": [
    {
     "data": {
      "text/plain": [
       "['Welcome', 'to', 'pwskills']"
      ]
     },
     "execution_count": 17,
     "metadata": {},
     "output_type": "execute_result"
    }
   ],
   "source": [
    "x.split()"
   ]
  },
  {
   "cell_type": "code",
   "execution_count": 18,
   "id": "05b93e59-73b2-42b2-ae9b-fa53c04ec5d6",
   "metadata": {},
   "outputs": [],
   "source": [
    "word1,word2,word3=x.split()"
   ]
  },
  {
   "cell_type": "code",
   "execution_count": 19,
   "id": "1edf6532-917a-4e3d-bcba-7fa2e62c8be7",
   "metadata": {},
   "outputs": [
    {
     "data": {
      "text/plain": [
       "'Welcome'"
      ]
     },
     "execution_count": 19,
     "metadata": {},
     "output_type": "execute_result"
    }
   ],
   "source": [
    "word1"
   ]
  },
  {
   "cell_type": "code",
   "execution_count": 20,
   "id": "083e7390-de15-47a2-8793-681d74473752",
   "metadata": {},
   "outputs": [
    {
     "data": {
      "text/plain": [
       "'to'"
      ]
     },
     "execution_count": 20,
     "metadata": {},
     "output_type": "execute_result"
    }
   ],
   "source": [
    "word2"
   ]
  },
  {
   "cell_type": "code",
   "execution_count": 21,
   "id": "8cf9f1e0-38e0-463d-bba6-4861267c999c",
   "metadata": {},
   "outputs": [
    {
     "data": {
      "text/plain": [
       "'pwskills'"
      ]
     },
     "execution_count": 21,
     "metadata": {},
     "output_type": "execute_result"
    }
   ],
   "source": [
    "word3"
   ]
  },
  {
   "cell_type": "code",
   "execution_count": 24,
   "id": "e2a07760-d7fd-4be9-8c92-0af069baab89",
   "metadata": {},
   "outputs": [
    {
     "name": "stdin",
     "output_type": "stream",
     "text": [
      "Enter first numbers: 1\n",
      "Enter second numbers: 2\n"
     ]
    },
    {
     "name": "stdout",
     "output_type": "stream",
     "text": [
      "2\n"
     ]
    }
   ],
   "source": [
    "a=int(input(\"Enter first numbers:\"))\n",
    "b=int(input(\"Enter second numbers:\"))\n",
    "print(a*b)"
   ]
  },
  {
   "cell_type": "code",
   "execution_count": 1,
   "id": "fb6ad237-5229-4ca3-9b03-2dedbe97173d",
   "metadata": {},
   "outputs": [
    {
     "name": "stdin",
     "output_type": "stream",
     "text": [
      "Enter first numbers: 1 2\n"
     ]
    },
    {
     "name": "stdout",
     "output_type": "stream",
     "text": [
      "3\n"
     ]
    }
   ],
   "source": [
    "a,b=input(\"Enter first numbers:\").split()\n",
    "c=int(a)+int(b)\n",
    "print(c)"
   ]
  },
  {
   "cell_type": "code",
   "execution_count": 32,
   "id": "e731358b-d9f2-4522-9bc1-8b9f77b71fae",
   "metadata": {},
   "outputs": [
    {
     "name": "stdin",
     "output_type": "stream",
     "text": [
      "Enter a value 1 2\n"
     ]
    },
    {
     "ename": "ValueError",
     "evalue": "invalid literal for int() with base 10: '1 2'",
     "output_type": "error",
     "traceback": [
      "\u001b[0;31m---------------------------------------------------------------------------\u001b[0m",
      "\u001b[0;31mValueError\u001b[0m                                Traceback (most recent call last)",
      "Cell \u001b[0;32mIn[32], line 1\u001b[0m\n\u001b[0;32m----> 1\u001b[0m A\u001b[38;5;241m=\u001b[39m\u001b[38;5;28;43mint\u001b[39;49m\u001b[43m(\u001b[49m\u001b[38;5;28;43minput\u001b[39;49m\u001b[43m(\u001b[49m\u001b[38;5;124;43m\"\u001b[39;49m\u001b[38;5;124;43mEnter a value\u001b[39;49m\u001b[38;5;124;43m\"\u001b[39;49m\u001b[43m)\u001b[49m\u001b[43m)\u001b[49m\n\u001b[1;32m      2\u001b[0m B\u001b[38;5;241m=\u001b[39mA\u001b[38;5;241m.\u001b[39msplit()[\u001b[38;5;241m0\u001b[39m]\n\u001b[1;32m      3\u001b[0m C\u001b[38;5;241m=\u001b[39mA\u001b[38;5;241m.\u001b[39msplit()[\u001b[38;5;241m1\u001b[39m]\n",
      "\u001b[0;31mValueError\u001b[0m: invalid literal for int() with base 10: '1 2'"
     ]
    }
   ],
   "source": [
    "A=input(\"Enter two  values separated by spaces\")\n",
    "B=A.split()[0]\n",
    "C=A.split()[1]\n",
    "# Wrong"
   ]
  },
  {
   "cell_type": "code",
   "execution_count": 4,
   "id": "bc61013d-351c-4891-8138-88d66883dab8",
   "metadata": {},
   "outputs": [
    {
     "name": "stdin",
     "output_type": "stream",
     "text": [
      "enter rollno,name,and percentage 2 atul 99\n"
     ]
    },
    {
     "name": "stdout",
     "output_type": "stream",
     "text": [
      "2\n",
      "atul\n",
      "99\n"
     ]
    }
   ],
   "source": [
    "s=input(\"enter rollno,name,and percentage\")\n",
    "roll,name,percent=s.split()\n",
    "print(roll)\n",
    "print(name)\n",
    "print(percent)"
   ]
  },
  {
   "cell_type": "code",
   "execution_count": 11,
   "id": "f9cdcc7d-dd24-4db1-b131-1b50b20d44d0",
   "metadata": {},
   "outputs": [
    {
     "name": "stdout",
     "output_type": "stream",
     "text": [
      "['A', 'B', 'C', 'D E F']\n"
     ]
    }
   ],
   "source": [
    "s1=\"A B C D E F\"\n",
    "print(s1.split(' ',3))"
   ]
  },
  {
   "cell_type": "code",
   "execution_count": 13,
   "id": "a3ed9704-a36c-42b8-9ec8-521b5a8525d8",
   "metadata": {},
   "outputs": [
    {
     "name": "stdout",
     "output_type": "stream",
     "text": [
      "['HI', 'HI', 'HI@HI@HI']\n"
     ]
    }
   ],
   "source": [
    "s1=\"HI@HI@HI@HI@HI\"\n",
    "print(s1.split('@',2))"
   ]
  },
  {
   "cell_type": "raw",
   "id": "d376b323-00e3-425d-a023-1d3a60b3ae1e",
   "metadata": {},
   "source": [
    "BREAK STATEMENT"
   ]
  },
  {
   "cell_type": "code",
   "execution_count": 14,
   "id": "740dc8eb-929d-4a4a-b731-e64947195ce3",
   "metadata": {},
   "outputs": [
    {
     "name": "stdout",
     "output_type": "stream",
     "text": [
      "letter p\n",
      "letter w\n",
      "letter s\n",
      "letter k\n",
      "letter i\n",
      "letter l\n",
      "letter s\n",
      "letter s\n"
     ]
    }
   ],
   "source": [
    "for letter in \"pwskilss\":\n",
    "    print('letter',letter)"
   ]
  },
  {
   "cell_type": "code",
   "execution_count": 17,
   "id": "7af02a66-84b8-4582-8c3f-6272683733ea",
   "metadata": {},
   "outputs": [
    {
     "name": "stdout",
     "output_type": "stream",
     "text": [
      "letter p\n",
      "letter w\n",
      "letter s\n",
      "letter k\n",
      "letter i\n"
     ]
    }
   ],
   "source": [
    "for letter in \"pwskilss\":\n",
    "    if letter==\"l\":\n",
    "       break\n",
    "    print('letter',letter)"
   ]
  },
  {
   "cell_type": "code",
   "execution_count": 25,
   "id": "bb92e99e-f0ba-4dab-94b2-7a5b56fd4ee4",
   "metadata": {},
   "outputs": [
    {
     "name": "stdout",
     "output_type": "stream",
     "text": [
      "0\n",
      "1\n",
      "2\n"
     ]
    }
   ],
   "source": [
    "for i in  range(5):\n",
    "    if i==3:\n",
    "        break\n",
    "    print(i)"
   ]
  },
  {
   "cell_type": "code",
   "execution_count": 26,
   "id": "3cad9dac-1a44-425c-b81c-538f56ddb6b8",
   "metadata": {},
   "outputs": [
    {
     "data": {
      "text/plain": [
       "[0, 1, 2, 3, 4]"
      ]
     },
     "execution_count": 26,
     "metadata": {},
     "output_type": "execute_result"
    }
   ],
   "source": [
    "list(range(5))"
   ]
  },
  {
   "cell_type": "code",
   "execution_count": 27,
   "id": "ed710139-f35f-482a-b9c7-36af512f5c73",
   "metadata": {},
   "outputs": [
    {
     "name": "stdout",
     "output_type": "stream",
     "text": [
      "1\n",
      "2\n",
      "3\n",
      "4\n",
      "5\n"
     ]
    }
   ],
   "source": [
    "i=1\n",
    "\n",
    "while i<=10:\n",
    "    print(i)\n",
    "    \n",
    "    if i>=5:\n",
    "        break\n",
    "    i=i+1  \n",
    "        "
   ]
  },
  {
   "cell_type": "code",
   "execution_count": 29,
   "id": "955d235b-6f54-43bb-9695-2bf297a7bbc7",
   "metadata": {},
   "outputs": [
    {
     "name": "stdout",
     "output_type": "stream",
     "text": [
      "10\n",
      "20\n",
      "30\n",
      "40\n"
     ]
    }
   ],
   "source": [
    "numbers=[10,20,30,40,130,230]\n",
    "\n",
    "for i in numbers:\n",
    "    if i>=100:\n",
    "        break\n",
    "    print(i)"
   ]
  },
  {
   "cell_type": "code",
   "execution_count": 37,
   "id": "cdaf5498-4c11-41b2-8272-ef92d1b72adf",
   "metadata": {},
   "outputs": [
    {
     "name": "stdout",
     "output_type": "stream",
     "text": [
      "H\n",
      "e\n",
      "l\n",
      "l\n",
      "o\n",
      ",\n"
     ]
    }
   ],
   "source": [
    "s=\"Hello, world\"\n",
    "for char in s:\n",
    "    print(char)\n",
    "    if char==',':\n",
    "        \n",
    "        break\n",
    "        "
   ]
  },
  {
   "cell_type": "code",
   "execution_count": 40,
   "id": "c0d02b90-e113-412f-a9e9-1a0a79595082",
   "metadata": {},
   "outputs": [
    {
     "name": "stdout",
     "output_type": "stream",
     "text": [
      "letter p\n",
      "letter w\n",
      "letter s\n",
      "letter k\n",
      "letter l\n",
      "letter s\n",
      "letter s\n"
     ]
    }
   ],
   "source": [
    "for letter in \"pwskilss\":\n",
    "    if letter=='i':\n",
    "        continue\n",
    "    print('letter',letter)"
   ]
  },
  {
   "cell_type": "code",
   "execution_count": 1,
   "id": "405110f8-9506-44b9-b552-0aacacb7088a",
   "metadata": {},
   "outputs": [
    {
     "name": "stdout",
     "output_type": "stream",
     "text": [
      "0\n",
      "1\n",
      "2\n",
      "4\n"
     ]
    }
   ],
   "source": [
    "for i in  range(5):\n",
    "    if i==3:\n",
    "        continue\n",
    "    print(i)"
   ]
  },
  {
   "cell_type": "markdown",
   "id": "1d82eff2-f88a-4b3c-bce0-ab930ef69dc6",
   "metadata": {},
   "source": [
    "break--- end the loop\n",
    "continue--- skip the current iteration of the loop"
   ]
  },
  {
   "cell_type": "code",
   "execution_count": 2,
   "id": "ec55ca93-e12f-42fd-9e65-cd0c67618c63",
   "metadata": {},
   "outputs": [],
   "source": [
    "# write a progra to print odd numbers from 1 to 10"
   ]
  },
  {
   "cell_type": "code",
   "execution_count": 3,
   "id": "17201fc4-fc8c-45f9-98e5-42eb9fabd6f2",
   "metadata": {},
   "outputs": [
    {
     "name": "stdout",
     "output_type": "stream",
     "text": [
      "1\n",
      "3\n",
      "5\n",
      "7\n",
      "9\n"
     ]
    }
   ],
   "source": [
    "for i in range(1,11):\n",
    "    if i%2==0:\n",
    "        continue\n",
    "    print(i)"
   ]
  },
  {
   "cell_type": "code",
   "execution_count": 4,
   "id": "d3d62036-ad71-4a7f-95f9-cd456401c944",
   "metadata": {},
   "outputs": [
    {
     "name": "stdout",
     "output_type": "stream",
     "text": [
      "Hello\n"
     ]
    }
   ],
   "source": [
    "n=10 \n",
    "\n",
    "if n>=10:\n",
    "    pass\n",
    "print(\"Hello\")"
   ]
  },
  {
   "cell_type": "code",
   "execution_count": null,
   "id": "92bccd7e-4d64-499d-8165-15f7c17f04e7",
   "metadata": {},
   "outputs": [],
   "source": [
    "if n>45:\n",
    "    "
   ]
  },
  {
   "cell_type": "code",
   "execution_count": 5,
   "id": "cb9d3ff8-3e14-4152-aa9d-699a33a15b34",
   "metadata": {},
   "outputs": [
    {
     "name": "stdout",
     "output_type": "stream",
     "text": [
      "1\n",
      "2\n",
      "3\n",
      "4\n",
      "5\n",
      "6\n",
      "7\n",
      "8\n",
      "9\n",
      "10\n"
     ]
    }
   ],
   "source": [
    "for i in range(1,11):\n",
    "    if i%2==0:\n",
    "        pass\n",
    "    print(i)"
   ]
  },
  {
   "cell_type": "raw",
   "id": "6945f060-a719-4a47-b0ec-745af06bf389",
   "metadata": {},
   "source": []
  },
  {
   "cell_type": "code",
   "execution_count": null,
   "id": "254f4c43-b2ee-4aab-ae2c-597c74aa629a",
   "metadata": {},
   "outputs": [],
   "source": []
  }
 ],
 "metadata": {
  "kernelspec": {
   "display_name": "Python 3 (ipykernel)",
   "language": "python",
   "name": "python3"
  },
  "language_info": {
   "codemirror_mode": {
    "name": "ipython",
    "version": 3
   },
   "file_extension": ".py",
   "mimetype": "text/x-python",
   "name": "python",
   "nbconvert_exporter": "python",
   "pygments_lexer": "ipython3",
   "version": "3.10.8"
  }
 },
 "nbformat": 4,
 "nbformat_minor": 5
}
