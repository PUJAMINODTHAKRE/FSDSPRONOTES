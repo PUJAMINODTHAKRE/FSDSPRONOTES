{
 "cells": [
  {
   "cell_type": "markdown",
   "id": "a7bbd292-a2c0-4c12-b334-5235b02f8bc1",
   "metadata": {},
   "source": [
    "PYTHON VARIABLE"
   ]
  },
  {
   "cell_type": "markdown",
   "id": "f9e926f7-65bf-4683-92b0-9d93e49cdcad",
   "metadata": {},
   "source": [
    "--> A PLACE HOLDER ,where i will be able to keep a variety of data which i can process by writing a logic"
   ]
  },
  {
   "cell_type": "markdown",
   "id": "f735fd17-cf96-4bdb-8709-99b8839375e2",
   "metadata": {},
   "source": [
    "eg."
   ]
  },
  {
   "cell_type": "code",
   "execution_count": 5,
   "id": "784c633d-6c04-4574-9721-ea599086b5d1",
   "metadata": {},
   "outputs": [],
   "source": [
    " a=10 #(10 is a number i am trying to store and giving a references 'a')"
   ]
  },
  {
   "cell_type": "code",
   "execution_count": 4,
   "id": "e6569e42-e28c-4f41-bc69-97cf6dfc8dda",
   "metadata": {},
   "outputs": [
    {
     "data": {
      "text/plain": [
       "10"
      ]
     },
     "execution_count": 4,
     "metadata": {},
     "output_type": "execute_result"
    }
   ],
   "source": [
    "a"
   ]
  },
  {
   "cell_type": "code",
   "execution_count": 6,
   "id": "70e23816-c745-466c-90b6-c6af48ad6655",
   "metadata": {},
   "outputs": [],
   "source": [
    "atul =2424"
   ]
  },
  {
   "cell_type": "code",
   "execution_count": 8,
   "id": "df202b96-d32b-456d-bbc1-81ef366ab746",
   "metadata": {},
   "outputs": [
    {
     "data": {
      "text/plain": [
       "2424"
      ]
     },
     "execution_count": 8,
     "metadata": {},
     "output_type": "execute_result"
    }
   ],
   "source": [
    "atul  #(whenever i am calling a reference,i am able to get a data as a return )"
   ]
  },
  {
   "cell_type": "code",
   "execution_count": 9,
   "id": "e4d63976-1663-464b-a8be-13d7f824900d",
   "metadata": {},
   "outputs": [],
   "source": [
    "#variable name could be anything like alphabets ,anyone names"
   ]
  },
  {
   "cell_type": "code",
   "execution_count": 10,
   "id": "81d6874c-d239-463d-866e-7ef8d9538bce",
   "metadata": {},
   "outputs": [],
   "source": [
    "# '='----->assingment operator,it is use to assin any value"
   ]
  },
  {
   "cell_type": "markdown",
   "id": "9000b9a7-a891-478b-bc23-63172f92f42b",
   "metadata": {},
   "source": [
    "\n",
    "FUNCTION"
   ]
  },
  {
   "cell_type": "markdown",
   "id": "d8fcc8b9-c847-4d81-85dd-7c5a0dd03285",
   "metadata": {},
   "source": [
    "=> functions are nothing but a kind inbuilt logic or in built syntexes"
   ]
  },
  {
   "cell_type": "code",
   "execution_count": 12,
   "id": "c272f6d9-9287-4d96-b519-e216156cdd1a",
   "metadata": {},
   "outputs": [
    {
     "data": {
      "text/plain": [
       "int"
      ]
     },
     "execution_count": 12,
     "metadata": {},
     "output_type": "execute_result"
    }
   ],
   "source": [
    "type(atul) \n"
   ]
  },
  {
   "cell_type": "code",
   "execution_count": 13,
   "id": "b2732a6d-e182-4655-bb85-d66e9e26615f",
   "metadata": {},
   "outputs": [],
   "source": [
    "s = \"pwskills\""
   ]
  },
  {
   "cell_type": "code",
   "execution_count": 14,
   "id": "4dfa38b1-2e4f-46e2-b5c9-06975868ea2c",
   "metadata": {},
   "outputs": [
    {
     "data": {
      "text/plain": [
       "str"
      ]
     },
     "execution_count": 14,
     "metadata": {},
     "output_type": "execute_result"
    }
   ],
   "source": [
    "type(s)"
   ]
  },
  {
   "cell_type": "code",
   "execution_count": 15,
   "id": "7317da0e-0178-4569-8a8d-133b2a11b0d7",
   "metadata": {},
   "outputs": [
    {
     "data": {
      "text/plain": [
       "'pwskills'"
      ]
     },
     "execution_count": 15,
     "metadata": {},
     "output_type": "execute_result"
    }
   ],
   "source": [
    "s"
   ]
  },
  {
   "cell_type": "code",
   "execution_count": 16,
   "id": "e7db9031-ac47-4913-9bc7-2016cb5d0982",
   "metadata": {},
   "outputs": [],
   "source": [
    "s1 = ' this is my 1st python lecture'"
   ]
  },
  {
   "cell_type": "code",
   "execution_count": 17,
   "id": "a41ea0cd-688e-4de8-9dea-4da7acc70d21",
   "metadata": {},
   "outputs": [
    {
     "data": {
      "text/plain": [
       "' this is my 1st python lecture'"
      ]
     },
     "execution_count": 17,
     "metadata": {},
     "output_type": "execute_result"
    }
   ],
   "source": [
    "s1"
   ]
  },
  {
   "cell_type": "markdown",
   "id": "2600cd2a-5e0c-471f-8237-a475b55ace47",
   "metadata": {},
   "source": [
    "STRING--a combination of character character should be anything"
   ]
  },
  {
   "cell_type": "code",
   "execution_count": 18,
   "id": "7a4cd2b9-b420-42a4-8ec9-7b1db7e9f929",
   "metadata": {},
   "outputs": [
    {
     "data": {
      "text/plain": [
       "str"
      ]
     },
     "execution_count": 18,
     "metadata": {},
     "output_type": "execute_result"
    }
   ],
   "source": [
    "type(s1)\n"
   ]
  },
  {
   "cell_type": "code",
   "execution_count": 19,
   "id": "338c3b51-e6a3-4f71-8616-09e1d268a4c7",
   "metadata": {},
   "outputs": [],
   "source": [
    "f = 456.544"
   ]
  },
  {
   "cell_type": "code",
   "execution_count": 20,
   "id": "c43b5ffb-0584-47ba-9613-82d65e1f0623",
   "metadata": {},
   "outputs": [
    {
     "data": {
      "text/plain": [
       "float"
      ]
     },
     "execution_count": 20,
     "metadata": {},
     "output_type": "execute_result"
    }
   ],
   "source": [
    "type(f)"
   ]
  },
  {
   "cell_type": "code",
   "execution_count": 25,
   "id": "f1398242-e07f-4f68-9b20-82e70005dd77",
   "metadata": {},
   "outputs": [],
   "source": [
    "c = 3 + 4j"
   ]
  },
  {
   "cell_type": "code",
   "execution_count": 26,
   "id": "6b7a8cb6-b0d6-42e3-8fe0-c28ed9b3f67c",
   "metadata": {},
   "outputs": [
    {
     "data": {
      "text/plain": [
       "complex"
      ]
     },
     "execution_count": 26,
     "metadata": {},
     "output_type": "execute_result"
    }
   ],
   "source": [
    "type(c)"
   ]
  },
  {
   "cell_type": "code",
   "execution_count": 27,
   "id": "56922cee-7a3b-4487-9b8c-7535e5749aa7",
   "metadata": {},
   "outputs": [],
   "source": [
    "#j is a notation for iota not i.if i will put i rather than j then it will not able to recognize"
   ]
  },
  {
   "cell_type": "code",
   "execution_count": 28,
   "id": "ff124277-e122-4910-afca-883f9c48fff7",
   "metadata": {},
   "outputs": [
    {
     "data": {
      "text/plain": [
       "(3+4j)"
      ]
     },
     "execution_count": 28,
     "metadata": {},
     "output_type": "execute_result"
    }
   ],
   "source": [
    "c"
   ]
  },
  {
   "cell_type": "code",
   "execution_count": 30,
   "id": "308dbf0a-dd2e-40f1-b39e-88fd3488daef",
   "metadata": {},
   "outputs": [
    {
     "data": {
      "text/plain": [
       "3.0"
      ]
     },
     "execution_count": 30,
     "metadata": {},
     "output_type": "execute_result"
    }
   ],
   "source": [
    "c.real\n"
   ]
  },
  {
   "cell_type": "code",
   "execution_count": 31,
   "id": "f1538aea-e241-4121-85ba-4c18add3877e",
   "metadata": {},
   "outputs": [
    {
     "data": {
      "text/plain": [
       "4.0"
      ]
     },
     "execution_count": 31,
     "metadata": {},
     "output_type": "execute_result"
    }
   ],
   "source": [
    "c.imag"
   ]
  },
  {
   "cell_type": "code",
   "execution_count": 33,
   "id": "f2483a6d-4de0-46e6-966b-67f249a7cca6",
   "metadata": {},
   "outputs": [],
   "source": [
    "b = True"
   ]
  },
  {
   "cell_type": "code",
   "execution_count": 34,
   "id": "52c5db6a-c078-49e2-b01d-2152dee0df2b",
   "metadata": {},
   "outputs": [
    {
     "data": {
      "text/plain": [
       "bool"
      ]
     },
     "execution_count": 34,
     "metadata": {},
     "output_type": "execute_result"
    }
   ],
   "source": [
    "type(b)"
   ]
  },
  {
   "cell_type": "code",
   "execution_count": 38,
   "id": "4c354766-cb22-437a-8bab-e2d79574516e",
   "metadata": {},
   "outputs": [],
   "source": [
    "b1 = False #boolian variable"
   ]
  },
  {
   "cell_type": "code",
   "execution_count": 36,
   "id": "2012aa76-e45e-480e-9210-065438ed7d7e",
   "metadata": {},
   "outputs": [
    {
     "data": {
      "text/plain": [
       "False"
      ]
     },
     "execution_count": 36,
     "metadata": {},
     "output_type": "execute_result"
    }
   ],
   "source": [
    "b1"
   ]
  },
  {
   "cell_type": "code",
   "execution_count": 37,
   "id": "1e1cec11-92f5-4d7c-b460-7fb7bd414d4e",
   "metadata": {},
   "outputs": [
    {
     "data": {
      "text/plain": [
       "bool"
      ]
     },
     "execution_count": 37,
     "metadata": {},
     "output_type": "execute_result"
    }
   ],
   "source": [
    "type(b1)"
   ]
  },
  {
   "cell_type": "code",
   "execution_count": 40,
   "id": "03f43609-b98e-4cda-9858-d1fe4dc9eab9",
   "metadata": {},
   "outputs": [],
   "source": [
    "a1 = 45\n",
    "a2 = 35\n",
    "\n"
   ]
  },
  {
   "cell_type": "code",
   "execution_count": 41,
   "id": "8b0946e3-8567-481a-92ff-742dec937a6f",
   "metadata": {},
   "outputs": [
    {
     "data": {
      "text/plain": [
       "80"
      ]
     },
     "execution_count": 41,
     "metadata": {},
     "output_type": "execute_result"
    }
   ],
   "source": [
    "a1+a2"
   ]
  },
  {
   "cell_type": "code",
   "execution_count": 42,
   "id": "5916d421-aad7-43de-9883-393181159c8a",
   "metadata": {},
   "outputs": [
    {
     "data": {
      "text/plain": [
       "1575"
      ]
     },
     "execution_count": 42,
     "metadata": {},
     "output_type": "execute_result"
    }
   ],
   "source": [
    "a1*a2"
   ]
  },
  {
   "cell_type": "code",
   "execution_count": 43,
   "id": "58c9f1ee-8a7c-45c6-87d1-2ecc8b3450a0",
   "metadata": {},
   "outputs": [
    {
     "data": {
      "text/plain": [
       "10"
      ]
     },
     "execution_count": 43,
     "metadata": {},
     "output_type": "execute_result"
    }
   ],
   "source": [
    "a1-a2"
   ]
  },
  {
   "cell_type": "code",
   "execution_count": 44,
   "id": "880aaae8-c300-453a-908f-4ee8bf6b6874",
   "metadata": {},
   "outputs": [
    {
     "data": {
      "text/plain": [
       "1.2857142857142858"
      ]
     },
     "execution_count": 44,
     "metadata": {},
     "output_type": "execute_result"
    }
   ],
   "source": [
    "a1/a2"
   ]
  },
  {
   "cell_type": "code",
   "execution_count": 45,
   "id": "de260144-359c-4bf9-b3e3-b3159f39b11e",
   "metadata": {},
   "outputs": [],
   "source": [
    "a1,a2 = 23,34"
   ]
  },
  {
   "cell_type": "code",
   "execution_count": 46,
   "id": "25644d51-71b8-46f5-8b76-c4f778b69533",
   "metadata": {},
   "outputs": [
    {
     "data": {
      "text/plain": [
       "23"
      ]
     },
     "execution_count": 46,
     "metadata": {},
     "output_type": "execute_result"
    }
   ],
   "source": [
    "a1"
   ]
  },
  {
   "cell_type": "code",
   "execution_count": 47,
   "id": "383d9cc4-171d-4d1d-8914-0b7ba349fcdb",
   "metadata": {},
   "outputs": [
    {
     "data": {
      "text/plain": [
       "34"
      ]
     },
     "execution_count": 47,
     "metadata": {},
     "output_type": "execute_result"
    }
   ],
   "source": [
    "a2\n",
    "\n"
   ]
  },
  {
   "cell_type": "code",
   "execution_count": 48,
   "id": "bd79de8c-8748-4dcb-9d44-b83323e8a3e7",
   "metadata": {},
   "outputs": [],
   "source": [
    "a,b,c,d= 23,45.67,\"pooja\",True"
   ]
  },
  {
   "cell_type": "code",
   "execution_count": 49,
   "id": "93c10940-c36f-4d5b-a0d6-95865b1975ee",
   "metadata": {},
   "outputs": [
    {
     "data": {
      "text/plain": [
       "23"
      ]
     },
     "execution_count": 49,
     "metadata": {},
     "output_type": "execute_result"
    }
   ],
   "source": [
    "a"
   ]
  },
  {
   "cell_type": "code",
   "execution_count": 50,
   "id": "aa3de99b-c796-490e-a4a1-5e0b58271462",
   "metadata": {},
   "outputs": [
    {
     "data": {
      "text/plain": [
       "45.67"
      ]
     },
     "execution_count": 50,
     "metadata": {},
     "output_type": "execute_result"
    }
   ],
   "source": [
    "b"
   ]
  },
  {
   "cell_type": "code",
   "execution_count": 51,
   "id": "e82b8259-f4ce-4c13-a061-8649e85e9de2",
   "metadata": {},
   "outputs": [
    {
     "data": {
      "text/plain": [
       "True"
      ]
     },
     "execution_count": 51,
     "metadata": {},
     "output_type": "execute_result"
    }
   ],
   "source": [
    "d"
   ]
  },
  {
   "cell_type": "code",
   "execution_count": 52,
   "id": "c127f9eb-034a-413b-ac4a-5055aa190bf6",
   "metadata": {},
   "outputs": [
    {
     "data": {
      "text/plain": [
       "'pooja'"
      ]
     },
     "execution_count": 52,
     "metadata": {},
     "output_type": "execute_result"
    }
   ],
   "source": [
    "c"
   ]
  },
  {
   "cell_type": "code",
   "execution_count": 53,
   "id": "0d4bf9bd-a99e-4e0c-966d-98ca1d4be644",
   "metadata": {},
   "outputs": [
    {
     "name": "stderr",
     "output_type": "stream",
     "text": [
      "UsageError: Line magic function `%a` not found.\n"
     ]
    }
   ],
   "source": [
    "%a = 456"
   ]
  },
  {
   "cell_type": "code",
   "execution_count": 54,
   "id": "bebe69a9-0edd-4a3a-bb0a-78025334c7af",
   "metadata": {},
   "outputs": [],
   "source": [
    "#   % is a special character ,are not allowed a before variable"
   ]
  },
  {
   "cell_type": "code",
   "execution_count": 7,
   "id": "c5e0b0e7-d772-49b4-bd5e-cdd26bc008ee",
   "metadata": {},
   "outputs": [],
   "source": [
    "b0 = 3432"
   ]
  },
  {
   "cell_type": "code",
   "execution_count": 8,
   "id": "9a3c7688-c6e5-4236-818b-32c3b47a4567",
   "metadata": {},
   "outputs": [
    {
     "ename": "SyntaxError",
     "evalue": "invalid syntax. Maybe you meant '==' or ':=' instead of '='? (780623940.py, line 1)",
     "output_type": "error",
     "traceback": [
      "\u001b[0;36m  Cell \u001b[0;32mIn[8], line 1\u001b[0;36m\u001b[0m\n\u001b[0;31m    @g=56\u001b[0m\n\u001b[0m     ^\u001b[0m\n\u001b[0;31mSyntaxError\u001b[0m\u001b[0;31m:\u001b[0m invalid syntax. Maybe you meant '==' or ':=' instead of '='?\n"
     ]
    }
   ],
   "source": [
    "@g=56"
   ]
  },
  {
   "cell_type": "code",
   "execution_count": 9,
   "id": "5a1b1097-17c9-43bb-8a40-95405b31a682",
   "metadata": {},
   "outputs": [],
   "source": [
    "_a=34"
   ]
  },
  {
   "cell_type": "code",
   "execution_count": 10,
   "id": "77fafd68-53c2-4099-afc2-47a11943d9d8",
   "metadata": {},
   "outputs": [
    {
     "ename": "SyntaxError",
     "evalue": "cannot assign to expression here. Maybe you meant '==' instead of '='? (4016949545.py, line 1)",
     "output_type": "error",
     "traceback": [
      "\u001b[0;36m  Cell \u001b[0;32mIn[10], line 1\u001b[0;36m\u001b[0m\n\u001b[0;31m    -g=54\u001b[0m\n\u001b[0m    ^\u001b[0m\n\u001b[0;31mSyntaxError\u001b[0m\u001b[0;31m:\u001b[0m cannot assign to expression here. Maybe you meant '==' instead of '='?\n"
     ]
    }
   ],
   "source": [
    "-g=54"
   ]
  },
  {
   "cell_type": "code",
   "execution_count": 11,
   "id": "8bf25294-46b6-4876-8c55-d0b5778acbcd",
   "metadata": {},
   "outputs": [
    {
     "ename": "SyntaxError",
     "evalue": "cannot assign to True (3695223232.py, line 1)",
     "output_type": "error",
     "traceback": [
      "\u001b[0;36m  Cell \u001b[0;32mIn[11], line 1\u001b[0;36m\u001b[0m\n\u001b[0;31m    True=45\u001b[0m\n\u001b[0m    ^\u001b[0m\n\u001b[0;31mSyntaxError\u001b[0m\u001b[0;31m:\u001b[0m cannot assign to True\n"
     ]
    }
   ],
   "source": [
    "True=45"
   ]
  },
  {
   "cell_type": "markdown",
   "id": "41ee25a0-6910-4b39-a521-374f055b9ff3",
   "metadata": {},
   "source": [
    "TRUE IS A RESERVED KEY WORD ,IT WILL NOT WORK,YOU ARE NOT SUPPOSE TO USE A SPECIAL CHARACTER,SPEC. KEY WORD"
   ]
  },
  {
   "cell_type": "code",
   "execution_count": 12,
   "id": "c8222603-12f4-4b5f-9be1-7664ceb670de",
   "metadata": {},
   "outputs": [],
   "source": [
    "b1=True"
   ]
  },
  {
   "cell_type": "code",
   "execution_count": 13,
   "id": "0aba8404-9283-4f18-b3ba-cc4d7055a7e6",
   "metadata": {},
   "outputs": [],
   "source": [
    "b2=False"
   ]
  },
  {
   "cell_type": "code",
   "execution_count": 14,
   "id": "8321ca91-1101-4ef3-bd5d-c137beb666bd",
   "metadata": {},
   "outputs": [
    {
     "data": {
      "text/plain": [
       "1"
      ]
     },
     "execution_count": 14,
     "metadata": {},
     "output_type": "execute_result"
    }
   ],
   "source": [
    "b1-b2"
   ]
  },
  {
   "cell_type": "code",
   "execution_count": 15,
   "id": "fffd0a26-71db-457d-8d56-ebb56830e7fb",
   "metadata": {},
   "outputs": [
    {
     "data": {
      "text/plain": [
       "1"
      ]
     },
     "execution_count": 15,
     "metadata": {},
     "output_type": "execute_result"
    }
   ],
   "source": [
    "b1*b1"
   ]
  },
  {
   "cell_type": "code",
   "execution_count": 16,
   "id": "d6b25889-7448-4f0d-926f-28eab419d5a0",
   "metadata": {},
   "outputs": [
    {
     "ename": "ZeroDivisionError",
     "evalue": "division by zero",
     "output_type": "error",
     "traceback": [
      "\u001b[0;31m---------------------------------------------------------------------------\u001b[0m",
      "\u001b[0;31mZeroDivisionError\u001b[0m                         Traceback (most recent call last)",
      "Cell \u001b[0;32mIn[16], line 1\u001b[0m\n\u001b[0;32m----> 1\u001b[0m \u001b[43mb1\u001b[49m\u001b[38;5;241;43m/\u001b[39;49m\u001b[43mb2\u001b[49m\n",
      "\u001b[0;31mZeroDivisionError\u001b[0m: division by zero"
     ]
    }
   ],
   "source": [
    "b1/b2"
   ]
  },
  {
   "cell_type": "code",
   "execution_count": 17,
   "id": "c2c62cb3-3756-4176-9baf-ec6d971a9631",
   "metadata": {},
   "outputs": [],
   "source": [
    "# --->zero division errror"
   ]
  },
  {
   "cell_type": "markdown",
   "id": "e1f05f32-4887-435c-a9e5-880f8a65dc5c",
   "metadata": {},
   "source": [
    "in numphy library it will not give you error ,it will give you infinity"
   ]
  },
  {
   "cell_type": "code",
   "execution_count": 19,
   "id": "0301dc83-197a-4ca8-8aa3-7b7b0e9ae9b7",
   "metadata": {},
   "outputs": [],
   "source": [
    "s1 = \"my name is puja minod thakre\""
   ]
  },
  {
   "cell_type": "code",
   "execution_count": 20,
   "id": "80c29c7d-de09-4f08-85a7-629254d6b783",
   "metadata": {},
   "outputs": [
    {
     "data": {
      "text/plain": [
       "'my name is puja minod thakre'"
      ]
     },
     "execution_count": 20,
     "metadata": {},
     "output_type": "execute_result"
    }
   ],
   "source": [
    "s1"
   ]
  },
  {
   "cell_type": "code",
   "execution_count": 21,
   "id": "dec646a7-2d17-4ee6-95f2-6b8daf4bd6b5",
   "metadata": {},
   "outputs": [
    {
     "data": {
      "text/plain": [
       "str"
      ]
     },
     "execution_count": 21,
     "metadata": {},
     "output_type": "execute_result"
    }
   ],
   "source": [
    "type(s1)"
   ]
  },
  {
   "cell_type": "code",
   "execution_count": 23,
   "id": "1f73cce3-1c76-41fc-a4bd-81c9c57dccdd",
   "metadata": {},
   "outputs": [],
   "source": [
    "s2 = \"this is my 1st phyton clas for data master's\""
   ]
  },
  {
   "cell_type": "code",
   "execution_count": 24,
   "id": "18789d19-3c8f-4435-b378-ee1624967104",
   "metadata": {},
   "outputs": [
    {
     "data": {
      "text/plain": [
       "\"this is my 1st phyton clas for data master's\""
      ]
     },
     "execution_count": 24,
     "metadata": {},
     "output_type": "execute_result"
    }
   ],
   "source": [
    "s2"
   ]
  },
  {
   "cell_type": "code",
   "execution_count": 28,
   "id": "8b99139f-8bee-4915-a083-5d9f13e6e1fa",
   "metadata": {},
   "outputs": [],
   "source": [
    " # this is my code to create string variable with quotes:\n",
    "s3= \"this is my 1st lab for data master's\""
   ]
  },
  {
   "cell_type": "code",
   "execution_count": 33,
   "id": "bcf133cd-d136-4bdc-b287-66cccead82e6",
   "metadata": {},
   "outputs": [],
   "source": [
    "''' this is my first phyton class\n",
    " i am trying to learn variabe declarstion \n",
    " so far i have learnt int,boolen,string,complex,float variable declaration'''\n",
    "a=12"
   ]
  },
  {
   "cell_type": "code",
   "execution_count": 35,
   "id": "5981bade-e1d2-4857-81f9-70c53eba21f5",
   "metadata": {},
   "outputs": [],
   "source": [
    "#three quotes for multiline comment"
   ]
  },
  {
   "cell_type": "code",
   "execution_count": 36,
   "id": "3f4edeca-5c84-4486-ad74-69cb2dcc5d88",
   "metadata": {},
   "outputs": [
    {
     "data": {
      "text/plain": [
       "12"
      ]
     },
     "execution_count": 36,
     "metadata": {},
     "output_type": "execute_result"
    }
   ],
   "source": [
    "a"
   ]
  },
  {
   "cell_type": "code",
   "execution_count": 37,
   "id": "aadfb2bb-9fd8-4122-b5c2-ac2d3303e643",
   "metadata": {},
   "outputs": [],
   "source": [
    "s1 = 'pooja'"
   ]
  },
  {
   "cell_type": "code",
   "execution_count": 38,
   "id": "055dda3f-f3db-4b4c-9f4b-6350bb021b0d",
   "metadata": {},
   "outputs": [],
   "source": [
    "a=10"
   ]
  },
  {
   "cell_type": "code",
   "execution_count": 39,
   "id": "c7c0d428-4347-4c30-b1a9-fcbfa479c2e3",
   "metadata": {},
   "outputs": [
    {
     "ename": "TypeError",
     "evalue": "can only concatenate str (not \"int\") to str",
     "output_type": "error",
     "traceback": [
      "\u001b[0;31m---------------------------------------------------------------------------\u001b[0m",
      "\u001b[0;31mTypeError\u001b[0m                                 Traceback (most recent call last)",
      "Cell \u001b[0;32mIn[39], line 1\u001b[0m\n\u001b[0;32m----> 1\u001b[0m \u001b[43ms1\u001b[49m\u001b[38;5;241;43m+\u001b[39;49m\u001b[43ma\u001b[49m\n",
      "\u001b[0;31mTypeError\u001b[0m: can only concatenate str (not \"int\") to str"
     ]
    }
   ],
   "source": [
    "s1+a"
   ]
  },
  {
   "cell_type": "code",
   "execution_count": 41,
   "id": "9446c951-a6e1-4557-8682-e802047075e0",
   "metadata": {},
   "outputs": [
    {
     "data": {
      "text/plain": [
       "'poojathakur'"
      ]
     },
     "execution_count": 41,
     "metadata": {},
     "output_type": "execute_result"
    }
   ],
   "source": [
    "'pooja'+'thakur'"
   ]
  },
  {
   "cell_type": "code",
   "execution_count": 42,
   "id": "2647aea1-a621-4b0e-9ae0-1bb3735eb3f5",
   "metadata": {},
   "outputs": [
    {
     "data": {
      "text/plain": [
       "10"
      ]
     },
     "execution_count": 42,
     "metadata": {},
     "output_type": "execute_result"
    }
   ],
   "source": [
    "a"
   ]
  },
  {
   "cell_type": "code",
   "execution_count": 43,
   "id": "a31dfd1a-c870-47be-98b3-fd2e74e3b331",
   "metadata": {},
   "outputs": [
    {
     "data": {
      "text/plain": [
       "int"
      ]
     },
     "execution_count": 43,
     "metadata": {},
     "output_type": "execute_result"
    }
   ],
   "source": [
    "type(a)"
   ]
  },
  {
   "cell_type": "code",
   "execution_count": 45,
   "id": "dd1497ed-0cab-4815-ba73-05b026f1ae7b",
   "metadata": {},
   "outputs": [
    {
     "data": {
      "text/plain": [
       "'10'"
      ]
     },
     "execution_count": 45,
     "metadata": {},
     "output_type": "execute_result"
    }
   ],
   "source": [
    "str(a)  #to convert int to string(typecasting)"
   ]
  },
  {
   "cell_type": "code",
   "execution_count": 46,
   "id": "ff805d41-afb2-486d-94bf-af90e07c7a3f",
   "metadata": {},
   "outputs": [
    {
     "data": {
      "text/plain": [
       "'10'"
      ]
     },
     "execution_count": 46,
     "metadata": {},
     "output_type": "execute_result"
    }
   ],
   "source": [
    "'10'"
   ]
  },
  {
   "cell_type": "code",
   "execution_count": 48,
   "id": "3e4b489d-da86-45ba-a148-e151366d739b",
   "metadata": {},
   "outputs": [
    {
     "data": {
      "text/plain": [
       "'pooja 10'"
      ]
     },
     "execution_count": 48,
     "metadata": {},
     "output_type": "execute_result"
    }
   ],
   "source": [
    "s1 + \" \" + str(a)"
   ]
  },
  {
   "cell_type": "code",
   "execution_count": 49,
   "id": "6c5195e0-5448-42a6-ae07-b3796bc18300",
   "metadata": {},
   "outputs": [],
   "source": [
    "b = str(a)"
   ]
  },
  {
   "cell_type": "code",
   "execution_count": 50,
   "id": "3f04e829-0ffc-4469-9e3b-05394ea51181",
   "metadata": {},
   "outputs": [
    {
     "data": {
      "text/plain": [
       "10"
      ]
     },
     "execution_count": 50,
     "metadata": {},
     "output_type": "execute_result"
    }
   ],
   "source": [
    "int(b)"
   ]
  },
  {
   "cell_type": "code",
   "execution_count": 51,
   "id": "0a3d4ade-dcdb-497f-9f91-d39ec6258033",
   "metadata": {},
   "outputs": [],
   "source": [
    "s = 'pooja'"
   ]
  },
  {
   "cell_type": "code",
   "execution_count": 52,
   "id": "63a8350e-a0ae-4768-b4c5-b3a42c1f109f",
   "metadata": {},
   "outputs": [
    {
     "ename": "ValueError",
     "evalue": "invalid literal for int() with base 10: 'pooja'",
     "output_type": "error",
     "traceback": [
      "\u001b[0;31m---------------------------------------------------------------------------\u001b[0m",
      "\u001b[0;31mValueError\u001b[0m                                Traceback (most recent call last)",
      "Cell \u001b[0;32mIn[52], line 1\u001b[0m\n\u001b[0;32m----> 1\u001b[0m \u001b[38;5;28;43mint\u001b[39;49m\u001b[43m(\u001b[49m\u001b[43ms\u001b[49m\u001b[43m)\u001b[49m\n",
      "\u001b[0;31mValueError\u001b[0m: invalid literal for int() with base 10: 'pooja'"
     ]
    }
   ],
   "source": [
    "int(s)"
   ]
  },
  {
   "cell_type": "code",
   "execution_count": 53,
   "id": "67920deb-183d-422b-a11b-fc481ca491da",
   "metadata": {},
   "outputs": [],
   "source": [
    "a = 567572345"
   ]
  },
  {
   "cell_type": "code",
   "execution_count": 54,
   "id": "23ecced0-a9f5-49b5-985a-1e197b63fe12",
   "metadata": {},
   "outputs": [
    {
     "name": "stdin",
     "output_type": "stream",
     "text": [
      " atuljhhhbkj\n"
     ]
    }
   ],
   "source": [
    "b = input()"
   ]
  },
  {
   "cell_type": "code",
   "execution_count": 55,
   "id": "5cd297bd-570c-450b-ada9-33951e3cf0c8",
   "metadata": {},
   "outputs": [
    {
     "data": {
      "text/plain": [
       "'atuljhhhbkj'"
      ]
     },
     "execution_count": 55,
     "metadata": {},
     "output_type": "execute_result"
    }
   ],
   "source": [
    "b"
   ]
  },
  {
   "cell_type": "code",
   "execution_count": 2,
   "id": "bbb282d2-f8fa-4ad1-b1d1-de05647d8def",
   "metadata": {},
   "outputs": [
    {
     "name": "stdin",
     "output_type": "stream",
     "text": [
      " 12\n"
     ]
    }
   ],
   "source": [
    "b = input()"
   ]
  },
  {
   "cell_type": "code",
   "execution_count": 3,
   "id": "44048368-3b83-43dd-82d1-8579f40b9810",
   "metadata": {},
   "outputs": [
    {
     "data": {
      "text/plain": [
       "str"
      ]
     },
     "execution_count": 3,
     "metadata": {},
     "output_type": "execute_result"
    }
   ],
   "source": [
    "type(b)"
   ]
  },
  {
   "cell_type": "code",
   "execution_count": 5,
   "id": "f7a2584e-2a80-4771-9e93-04ee894d9c0a",
   "metadata": {},
   "outputs": [
    {
     "name": "stdin",
     "output_type": "stream",
     "text": [
      " True\n"
     ]
    }
   ],
   "source": [
    "b = input()"
   ]
  },
  {
   "cell_type": "code",
   "execution_count": 6,
   "id": "10df637e-588e-4291-9045-f33deab6007c",
   "metadata": {},
   "outputs": [
    {
     "data": {
      "text/plain": [
       "str"
      ]
     },
     "execution_count": 6,
     "metadata": {},
     "output_type": "execute_result"
    }
   ],
   "source": [
    "type(b)"
   ]
  },
  {
   "cell_type": "code",
   "execution_count": 7,
   "id": "5ca70868-47a5-4146-b673-527af4a21930",
   "metadata": {},
   "outputs": [],
   "source": [
    "#any kind of input it will always give you string datatype."
   ]
  },
  {
   "cell_type": "code",
   "execution_count": 13,
   "id": "e61310d9-d772-45c6-ab7b-bc2a92e1c53e",
   "metadata": {},
   "outputs": [
    {
     "name": "stdin",
     "output_type": "stream",
     "text": [
      " 1234\n"
     ]
    }
   ],
   "source": [
    "b = int(input())"
   ]
  },
  {
   "cell_type": "code",
   "execution_count": 14,
   "id": "57e5c095-b8b6-44f9-b551-c448c36169b9",
   "metadata": {},
   "outputs": [
    {
     "data": {
      "text/plain": [
       "1234"
      ]
     },
     "execution_count": 14,
     "metadata": {},
     "output_type": "execute_result"
    }
   ],
   "source": [
    "b"
   ]
  },
  {
   "cell_type": "code",
   "execution_count": 15,
   "id": "13c6d20c-448a-41e4-ba02-38c87622c3e9",
   "metadata": {},
   "outputs": [
    {
     "data": {
      "text/plain": [
       "int"
      ]
     },
     "execution_count": 15,
     "metadata": {},
     "output_type": "execute_result"
    }
   ],
   "source": [
    "type(b)"
   ]
  },
  {
   "cell_type": "code",
   "execution_count": 16,
   "id": "c61d98f3-1c47-4b11-b771-22c48109d9e4",
   "metadata": {},
   "outputs": [
    {
     "name": "stdin",
     "output_type": "stream",
     "text": [
      " 232.343\n"
     ]
    }
   ],
   "source": [
    "b = float(input())"
   ]
  },
  {
   "cell_type": "code",
   "execution_count": 17,
   "id": "dcb108b9-335b-4401-b828-3656694e6202",
   "metadata": {},
   "outputs": [
    {
     "data": {
      "text/plain": [
       "float"
      ]
     },
     "execution_count": 17,
     "metadata": {},
     "output_type": "execute_result"
    }
   ],
   "source": [
    "type(b)"
   ]
  },
  {
   "cell_type": "code",
   "execution_count": 23,
   "id": "71c94dc9-352b-48f4-8a00-eb261c5df936",
   "metadata": {},
   "outputs": [
    {
     "name": "stdin",
     "output_type": "stream",
     "text": [
      " False\n"
     ]
    }
   ],
   "source": [
    "b = bool(input())\n"
   ]
  },
  {
   "cell_type": "code",
   "execution_count": 24,
   "id": "8eaadca0-55e6-4ae2-9ab9-ad1c3ffb1b66",
   "metadata": {},
   "outputs": [
    {
     "data": {
      "text/plain": [
       "bool"
      ]
     },
     "execution_count": 24,
     "metadata": {},
     "output_type": "execute_result"
    }
   ],
   "source": [
    "type(b)"
   ]
  },
  {
   "cell_type": "code",
   "execution_count": 20,
   "id": "9582d995-a992-4ec2-93b8-1f620054bd6f",
   "metadata": {},
   "outputs": [
    {
     "name": "stdin",
     "output_type": "stream",
     "text": [
      " 434345\n"
     ]
    }
   ],
   "source": [
    "d = input()"
   ]
  },
  {
   "cell_type": "code",
   "execution_count": 21,
   "id": "8bba30ee-0053-4494-b409-d85d8a8d279b",
   "metadata": {},
   "outputs": [
    {
     "data": {
      "text/plain": [
       "'434345'"
      ]
     },
     "execution_count": 21,
     "metadata": {},
     "output_type": "execute_result"
    }
   ],
   "source": [
    "d"
   ]
  },
  {
   "cell_type": "code",
   "execution_count": 22,
   "id": "ca48245a-4679-4321-aa20-452a0fd4034a",
   "metadata": {},
   "outputs": [
    {
     "data": {
      "text/plain": [
       "str"
      ]
     },
     "execution_count": 22,
     "metadata": {},
     "output_type": "execute_result"
    }
   ],
   "source": [
    "type(d)"
   ]
  },
  {
   "cell_type": "code",
   "execution_count": 23,
   "id": "2e204660-752b-4a1a-81a1-013319e1af77",
   "metadata": {},
   "outputs": [
    {
     "name": "stdin",
     "output_type": "stream",
     "text": [
      " 34546\n"
     ]
    }
   ],
   "source": [
    "d = int(input())"
   ]
  },
  {
   "cell_type": "code",
   "execution_count": 24,
   "id": "fc27ded4-c1f0-4a95-b403-9a82a66fef57",
   "metadata": {},
   "outputs": [
    {
     "data": {
      "text/plain": [
       "int"
      ]
     },
     "execution_count": 24,
     "metadata": {},
     "output_type": "execute_result"
    }
   ],
   "source": [
    "type(d)"
   ]
  },
  {
   "cell_type": "code",
   "execution_count": 27,
   "id": "d867c73f-eade-476b-aa67-58bbe8877b4c",
   "metadata": {},
   "outputs": [
    {
     "name": "stdin",
     "output_type": "stream",
     "text": [
      " True\n"
     ]
    }
   ],
   "source": [
    "d = bool(input())\n"
   ]
  },
  {
   "cell_type": "code",
   "execution_count": 26,
   "id": "c324bec2-366b-425f-918b-caf72fcbc8bf",
   "metadata": {},
   "outputs": [
    {
     "data": {
      "text/plain": [
       "True"
      ]
     },
     "execution_count": 26,
     "metadata": {},
     "output_type": "execute_result"
    }
   ],
   "source": [
    "d"
   ]
  },
  {
   "cell_type": "code",
   "execution_count": 27,
   "id": "114bf289-017d-4c56-b42a-0d08743dae66",
   "metadata": {},
   "outputs": [
    {
     "data": {
      "text/plain": [
       "bool"
      ]
     },
     "execution_count": 27,
     "metadata": {},
     "output_type": "execute_result"
    }
   ],
   "source": [
    "type(d)"
   ]
  },
  {
   "cell_type": "code",
   "execution_count": 28,
   "id": "d09c49d7-56ec-4c0b-aa5a-533e8dec177e",
   "metadata": {},
   "outputs": [
    {
     "name": "stdin",
     "output_type": "stream",
     "text": [
      " 435.56666\n"
     ]
    }
   ],
   "source": [
    "d = float(input())"
   ]
  },
  {
   "cell_type": "code",
   "execution_count": 29,
   "id": "bde3c352-3533-41b8-9225-5f5b212da605",
   "metadata": {},
   "outputs": [
    {
     "data": {
      "text/plain": [
       "float"
      ]
     },
     "execution_count": 29,
     "metadata": {},
     "output_type": "execute_result"
    }
   ],
   "source": [
    "type(d)"
   ]
  },
  {
   "cell_type": "code",
   "execution_count": 7,
   "id": "ded01a62-871d-4615-9dab-44e43912379b",
   "metadata": {},
   "outputs": [],
   "source": [
    "t= \"pooja\""
   ]
  },
  {
   "cell_type": "code",
   "execution_count": 8,
   "id": "c15579bc-fa1a-4c03-b3af-897e3c49a75a",
   "metadata": {},
   "outputs": [
    {
     "data": {
      "text/plain": [
       "'o'"
      ]
     },
     "execution_count": 8,
     "metadata": {},
     "output_type": "execute_result"
    }
   ],
   "source": [
    "t[1]"
   ]
  },
  {
   "cell_type": "code",
   "execution_count": 9,
   "id": "4323706f-4efa-4fa7-a51e-33e5aa94d71b",
   "metadata": {},
   "outputs": [
    {
     "ename": "IndexError",
     "evalue": "string index out of range",
     "output_type": "error",
     "traceback": [
      "\u001b[0;31m---------------------------------------------------------------------------\u001b[0m",
      "\u001b[0;31mIndexError\u001b[0m                                Traceback (most recent call last)",
      "Cell \u001b[0;32mIn[9], line 1\u001b[0m\n\u001b[0;32m----> 1\u001b[0m \u001b[43mt\u001b[49m\u001b[43m[\u001b[49m\u001b[38;5;241;43m100\u001b[39;49m\u001b[43m]\u001b[49m\n",
      "\u001b[0;31mIndexError\u001b[0m: string index out of range"
     ]
    }
   ],
   "source": [
    "t[100]"
   ]
  },
  {
   "cell_type": "code",
   "execution_count": 11,
   "id": "feee8207-e107-4f1c-9cc7-7b68511f17d7",
   "metadata": {},
   "outputs": [
    {
     "data": {
      "text/plain": [
       "'a'"
      ]
     },
     "execution_count": 11,
     "metadata": {},
     "output_type": "execute_result"
    }
   ],
   "source": [
    "t[-1]  #bacword indexing"
   ]
  },
  {
   "cell_type": "code",
   "execution_count": 13,
   "id": "588d74b0-b75e-4244-a5ac-3a2a7f1a6d9f",
   "metadata": {},
   "outputs": [
    {
     "data": {
      "text/plain": [
       "'o'"
      ]
     },
     "execution_count": 13,
     "metadata": {},
     "output_type": "execute_result"
    }
   ],
   "source": [
    "t[-4]"
   ]
  },
  {
   "cell_type": "code",
   "execution_count": 15,
   "id": "e6c80b3c-c665-45b3-97a2-40d051f8db7c",
   "metadata": {},
   "outputs": [
    {
     "ename": "IndexError",
     "evalue": "string index out of range",
     "output_type": "error",
     "traceback": [
      "\u001b[0;31m---------------------------------------------------------------------------\u001b[0m",
      "\u001b[0;31mIndexError\u001b[0m                                Traceback (most recent call last)",
      "Cell \u001b[0;32mIn[15], line 1\u001b[0m\n\u001b[0;32m----> 1\u001b[0m \u001b[43mt\u001b[49m\u001b[43m[\u001b[49m\u001b[38;5;241;43m-\u001b[39;49m\u001b[38;5;241;43m56\u001b[39;49m\u001b[43m]\u001b[49m\n",
      "\u001b[0;31mIndexError\u001b[0m: string index out of range"
     ]
    }
   ],
   "source": [
    "t[-56]"
   ]
  },
  {
   "cell_type": "code",
   "execution_count": 2,
   "id": "4dff7563-a0a2-4ca7-934f-f1202d52d0a3",
   "metadata": {},
   "outputs": [],
   "source": [
    "s1 = 'pwskills'"
   ]
  },
  {
   "cell_type": "code",
   "execution_count": 18,
   "id": "6b1638bd-270a-491f-8def-97338eb4c416",
   "metadata": {},
   "outputs": [
    {
     "data": {
      "text/plain": [
       "'pw'"
      ]
     },
     "execution_count": 18,
     "metadata": {},
     "output_type": "execute_result"
    }
   ],
   "source": [
    "s1[0:2]"
   ]
  },
  {
   "cell_type": "code",
   "execution_count": 19,
   "id": "b1dea662-f8c8-4be1-bbc9-77b4f4798385",
   "metadata": {},
   "outputs": [
    {
     "data": {
      "text/plain": [
       "'skill'"
      ]
     },
     "execution_count": 19,
     "metadata": {},
     "output_type": "execute_result"
    }
   ],
   "source": [
    "s1[2:7]"
   ]
  },
  {
   "cell_type": "code",
   "execution_count": 23,
   "id": "495f190c-6a94-47de-83dc-56a3e1e57260",
   "metadata": {},
   "outputs": [
    {
     "data": {
      "text/plain": [
       "'skills'"
      ]
     },
     "execution_count": 23,
     "metadata": {},
     "output_type": "execute_result"
    }
   ],
   "source": [
    "s1[2:8]"
   ]
  },
  {
   "cell_type": "code",
   "execution_count": 24,
   "id": "1604835d-7413-4448-b649-ba481e3c684b",
   "metadata": {},
   "outputs": [
    {
     "data": {
      "text/plain": [
       "'skills'"
      ]
     },
     "execution_count": 24,
     "metadata": {},
     "output_type": "execute_result"
    }
   ],
   "source": [
    "s1[2:567]"
   ]
  },
  {
   "cell_type": "code",
   "execution_count": 25,
   "id": "3f2f4b1b-c95b-45ee-9bd5-9c6ab102314d",
   "metadata": {},
   "outputs": [
    {
     "data": {
      "text/plain": [
       "'skills'"
      ]
     },
     "execution_count": 25,
     "metadata": {},
     "output_type": "execute_result"
    }
   ],
   "source": [
    "s1[2:]"
   ]
  },
  {
   "cell_type": "code",
   "execution_count": 28,
   "id": "53b5e6a8-879a-467d-91bf-86e46eccdba2",
   "metadata": {},
   "outputs": [
    {
     "data": {
      "text/plain": [
       "'psil'"
      ]
     },
     "execution_count": 28,
     "metadata": {},
     "output_type": "execute_result"
    }
   ],
   "source": [
    "s1[0:7:2]   #2 is jump "
   ]
  },
  {
   "cell_type": "code",
   "execution_count": 30,
   "id": "430c72f0-6807-4529-917a-9956c4a165da",
   "metadata": {},
   "outputs": [
    {
     "data": {
      "text/plain": [
       "''"
      ]
     },
     "execution_count": 30,
     "metadata": {},
     "output_type": "execute_result"
    }
   ],
   "source": [
    "s1[7:3]"
   ]
  },
  {
   "cell_type": "code",
   "execution_count": 3,
   "id": "b968f362-383e-4689-b72f-5de9110e1010",
   "metadata": {},
   "outputs": [
    {
     "data": {
      "text/plain": [
       "'slli'"
      ]
     },
     "execution_count": 3,
     "metadata": {},
     "output_type": "execute_result"
    }
   ],
   "source": [
    "s1[7:3:-1]"
   ]
  },
  {
   "cell_type": "code",
   "execution_count": 4,
   "id": "032e500f-f272-4d82-b182-6289e09028f8",
   "metadata": {},
   "outputs": [
    {
     "data": {
      "text/plain": [
       "'slkw'"
      ]
     },
     "execution_count": 4,
     "metadata": {},
     "output_type": "execute_result"
    }
   ],
   "source": [
    "s1[7:0:-2]"
   ]
  },
  {
   "cell_type": "code",
   "execution_count": 6,
   "id": "737d1313-94f9-4c2d-abe5-b48d82b620a3",
   "metadata": {},
   "outputs": [
    {
     "data": {
      "text/plain": [
       "'slli'"
      ]
     },
     "execution_count": 6,
     "metadata": {},
     "output_type": "execute_result"
    }
   ],
   "source": [
    "s1[-1:-5:-1]"
   ]
  },
  {
   "cell_type": "code",
   "execution_count": 12,
   "id": "3d2ff4e4-7a12-4b6f-b22f-aebf39af163e",
   "metadata": {},
   "outputs": [
    {
     "data": {
      "text/plain": [
       "'sllikswp'"
      ]
     },
     "execution_count": 12,
     "metadata": {},
     "output_type": "execute_result"
    }
   ],
   "source": [
    "s1[7:-9:-1] "
   ]
  },
  {
   "cell_type": "code",
   "execution_count": 13,
   "id": "c1181af0-1e15-429e-a63a-a11b088340b7",
   "metadata": {},
   "outputs": [
    {
     "data": {
      "text/plain": [
       "'sllikswp'"
      ]
     },
     "execution_count": 13,
     "metadata": {},
     "output_type": "execute_result"
    }
   ],
   "source": [
    "s1[7::-1]"
   ]
  },
  {
   "cell_type": "code",
   "execution_count": 14,
   "id": "51372df2-9b10-4763-8347-ea7761a4a3bf",
   "metadata": {},
   "outputs": [
    {
     "data": {
      "text/plain": [
       "'sllikswp'"
      ]
     },
     "execution_count": 14,
     "metadata": {},
     "output_type": "execute_result"
    }
   ],
   "source": [
    "s1[::-1]"
   ]
  },
  {
   "cell_type": "code",
   "execution_count": 19,
   "id": "2cf1886a-9947-46bf-8d9f-9f3ccc0d41dd",
   "metadata": {},
   "outputs": [
    {
     "ename": "TypeError",
     "evalue": "'str' object does not support item assignment",
     "output_type": "error",
     "traceback": [
      "\u001b[0;31m---------------------------------------------------------------------------\u001b[0m",
      "\u001b[0;31mTypeError\u001b[0m                                 Traceback (most recent call last)",
      "Cell \u001b[0;32mIn[19], line 1\u001b[0m\n\u001b[0;32m----> 1\u001b[0m \u001b[43ms1\u001b[49m\u001b[43m[\u001b[49m\u001b[38;5;241;43m0\u001b[39;49m\u001b[43m]\u001b[49m\u001b[38;5;241m=\u001b[39m\u001b[38;5;124m'\u001b[39m\u001b[38;5;124ms\u001b[39m\u001b[38;5;124m'\u001b[39m\n",
      "\u001b[0;31mTypeError\u001b[0m: 'str' object does not support item assignment"
     ]
    }
   ],
   "source": [
    "s1[0]='s'"
   ]
  },
  {
   "cell_type": "code",
   "execution_count": 16,
   "id": "f8d50f2b-d840-41dc-8a9e-8471ba377373",
   "metadata": {},
   "outputs": [],
   "source": [
    "a=10"
   ]
  },
  {
   "cell_type": "code",
   "execution_count": 17,
   "id": "1a25b4c2-6eb0-4626-a9aa-69405e251d88",
   "metadata": {},
   "outputs": [],
   "source": [
    "a=20"
   ]
  },
  {
   "cell_type": "code",
   "execution_count": 18,
   "id": "228edee5-390d-44e1-9294-727d4f8c9ac3",
   "metadata": {},
   "outputs": [
    {
     "data": {
      "text/plain": [
       "20"
      ]
     },
     "execution_count": 18,
     "metadata": {},
     "output_type": "execute_result"
    }
   ],
   "source": [
    "a"
   ]
  },
  {
   "cell_type": "code",
   "execution_count": 20,
   "id": "1c87918e-6206-4260-9794-d76d08d5030b",
   "metadata": {},
   "outputs": [],
   "source": [
    "s1 = 'swskills'"
   ]
  },
  {
   "cell_type": "code",
   "execution_count": 21,
   "id": "b454170c-0b95-47f2-a661-50fbd035d6ed",
   "metadata": {},
   "outputs": [
    {
     "data": {
      "text/plain": [
       "'swskills'"
      ]
     },
     "execution_count": 21,
     "metadata": {},
     "output_type": "execute_result"
    }
   ],
   "source": [
    "s1"
   ]
  },
  {
   "cell_type": "code",
   "execution_count": 22,
   "id": "d340667e-c837-469c-8607-21775c11f625",
   "metadata": {},
   "outputs": [
    {
     "ename": "TypeError",
     "evalue": "'str' object does not support item assignment",
     "output_type": "error",
     "traceback": [
      "\u001b[0;31m---------------------------------------------------------------------------\u001b[0m",
      "\u001b[0;31mTypeError\u001b[0m                                 Traceback (most recent call last)",
      "Cell \u001b[0;32mIn[22], line 1\u001b[0m\n\u001b[0;32m----> 1\u001b[0m \u001b[43ms1\u001b[49m\u001b[43m[\u001b[49m\u001b[38;5;241;43m0\u001b[39;49m\u001b[43m]\u001b[49m \u001b[38;5;241m=\u001b[39m \u001b[38;5;124m'\u001b[39m\u001b[38;5;124mp\u001b[39m\u001b[38;5;124m'\u001b[39m\n",
      "\u001b[0;31mTypeError\u001b[0m: 'str' object does not support item assignment"
     ]
    }
   ],
   "source": [
    "s1[0] = 'p'"
   ]
  },
  {
   "cell_type": "code",
   "execution_count": 25,
   "id": "ab39a0e0-f1c8-4c47-876c-d4a877ff0052",
   "metadata": {},
   "outputs": [
    {
     "data": {
      "text/plain": [
       "bool"
      ]
     },
     "execution_count": 25,
     "metadata": {},
     "output_type": "execute_result"
    }
   ],
   "source": [
    "type(b)"
   ]
  },
  {
   "cell_type": "code",
   "execution_count": 28,
   "id": "affb2fe2-1669-4470-bcdc-abb4fa62578e",
   "metadata": {},
   "outputs": [
    {
     "data": {
      "text/plain": [
       "True"
      ]
     },
     "execution_count": 28,
     "metadata": {},
     "output_type": "execute_result"
    }
   ],
   "source": [
    "b"
   ]
  },
  {
   "cell_type": "code",
   "execution_count": null,
   "id": "35830b57-1b60-4a49-8cd4-bb2fe4b2127d",
   "metadata": {},
   "outputs": [],
   "source": []
  }
 ],
 "metadata": {
  "kernelspec": {
   "display_name": "Python 3 (ipykernel)",
   "language": "python",
   "name": "python3"
  },
  "language_info": {
   "codemirror_mode": {
    "name": "ipython",
    "version": 3
   },
   "file_extension": ".py",
   "mimetype": "text/x-python",
   "name": "python",
   "nbconvert_exporter": "python",
   "pygments_lexer": "ipython3",
   "version": "3.10.8"
  }
 },
 "nbformat": 4,
 "nbformat_minor": 5
}
