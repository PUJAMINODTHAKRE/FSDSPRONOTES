{
 "cells": [
  {
   "cell_type": "markdown",
   "id": "e637ad7e-1fcf-4dfb-add5-367b81e98074",
   "metadata": {},
   "source": [
    "Ques. Aceept a string as a input,tasknis to determine if the string is valid password or not,for a string to be valid password,it must satisfy all conditiongiven below"
   ]
  },
  {
   "cell_type": "code",
   "execution_count": 23,
   "id": "9dae9157-a04b-4956-b6fc-22c466dc6854",
   "metadata": {},
   "outputs": [],
   "source": [
    "\n",
    "def valid_password(password: str):\n",
    "    if 8<= len(password) <=12 and password[0].isalpha() and all(char not in password for char in [\" \",\"'\",\"/\",'\"',\"=\",\"\\\\\"]):\n",
    "        return True\n",
    "    else:\n",
    "        return False                                                                                   "
   ]
  },
  {
   "cell_type": "code",
   "execution_count": 24,
   "id": "5debebc7-8710-4222-8cde-262ae496f6f9",
   "metadata": {},
   "outputs": [
    {
     "data": {
      "text/plain": [
       "False"
      ]
     },
     "execution_count": 24,
     "metadata": {},
     "output_type": "execute_result"
    }
   ],
   "source": [
    "valid_password(\"hghh76\")"
   ]
  },
  {
   "cell_type": "code",
   "execution_count": 25,
   "id": "f8a1bb14-cc79-4508-82ab-4f4196cd8f0b",
   "metadata": {},
   "outputs": [],
   "source": [
    "def greet():\n",
    "    message = 'HELLO'\n",
    "    print(\"local\",message)"
   ]
  },
  {
   "cell_type": "code",
   "execution_count": 26,
   "id": "40833fb6-f8b4-4eaf-8c6e-869d3a9acf96",
   "metadata": {},
   "outputs": [
    {
     "name": "stdout",
     "output_type": "stream",
     "text": [
      "local HELLO\n"
     ]
    }
   ],
   "source": [
    "greet()"
   ]
  },
  {
   "cell_type": "code",
   "execution_count": 29,
   "id": "a6b56a32-f937-424f-a2f7-3e8f01766fae",
   "metadata": {},
   "outputs": [
    {
     "ename": "NameError",
     "evalue": "name 'message' is not defined",
     "output_type": "error",
     "traceback": [
      "\u001b[0;31m---------------------------------------------------------------------------\u001b[0m",
      "\u001b[0;31mNameError\u001b[0m                                 Traceback (most recent call last)",
      "Cell \u001b[0;32mIn[29], line 5\u001b[0m\n\u001b[1;32m      2\u001b[0m     message \u001b[38;5;241m=\u001b[39m \u001b[38;5;124m'\u001b[39m\u001b[38;5;124mHELLO\u001b[39m\u001b[38;5;124m'\u001b[39m\n\u001b[1;32m      3\u001b[0m     \u001b[38;5;28mprint\u001b[39m(\u001b[38;5;124m\"\u001b[39m\u001b[38;5;124mlocal\u001b[39m\u001b[38;5;124m\"\u001b[39m,message)\n\u001b[0;32m----> 5\u001b[0m \u001b[38;5;28mprint\u001b[39m(\u001b[43mmessage\u001b[49m)\n\u001b[1;32m      6\u001b[0m greet()\n",
      "\u001b[0;31mNameError\u001b[0m: name 'message' is not defined"
     ]
    }
   ],
   "source": [
    "def greet():\n",
    "    message = 'HELLO'\n",
    "    print(\"local\",message)\n",
    "    \n",
    "print(message)\n",
    "greet()"
   ]
  },
  {
   "cell_type": "code",
   "execution_count": 31,
   "id": "e98e2df8-eed5-438d-8542-fefeb1b680a6",
   "metadata": {},
   "outputs": [
    {
     "ename": "NameError",
     "evalue": "name 'x' is not defined",
     "output_type": "error",
     "traceback": [
      "\u001b[0;31m---------------------------------------------------------------------------\u001b[0m",
      "\u001b[0;31mNameError\u001b[0m                                 Traceback (most recent call last)",
      "Cell \u001b[0;32mIn[31], line 5\u001b[0m\n\u001b[1;32m      3\u001b[0m     y\u001b[38;5;241m=\u001b[39m\u001b[38;5;241m23\u001b[39m\n\u001b[1;32m      4\u001b[0m     \u001b[38;5;28mprint\u001b[39m(x\u001b[38;5;241m+\u001b[39my)\n\u001b[0;32m----> 5\u001b[0m \u001b[38;5;28mprint\u001b[39m(\u001b[43mx\u001b[49m)\n\u001b[1;32m      6\u001b[0m \u001b[38;5;28mprint\u001b[39m(y)\n",
      "\u001b[0;31mNameError\u001b[0m: name 'x' is not defined"
     ]
    }
   ],
   "source": [
    "def add():\n",
    "    x=34\n",
    "    y=23\n",
    "    print(x+y)\n",
    "print(x)\n",
    "print(y)"
   ]
  },
  {
   "cell_type": "code",
   "execution_count": 37,
   "id": "d67108ad-2879-47eb-a1d8-bc3f68dc891d",
   "metadata": {},
   "outputs": [
    {
     "name": "stdout",
     "output_type": "stream",
     "text": [
      "python is fantastic\n",
      "awesome\n"
     ]
    }
   ],
   "source": [
    "x = \"awesome\" # ---->global scope\n",
    "\n",
    "def myfunc():\n",
    "    x = \"fantastic\"\n",
    "    # this is a local scope\n",
    "    print(\"python is \"+ x)\n",
    "    \n",
    "myfunc()\n",
    "print(x)"
   ]
  },
  {
   "cell_type": "code",
   "execution_count": 46,
   "id": "b5f039ab-7d70-4f88-b3e4-0974dfbe9186",
   "metadata": {},
   "outputs": [],
   "source": [
    "x =20\n",
    "\n",
    "def add():\n",
    "    y = 32\n",
    "    print(\"local variable y=\",y)\n",
    "    \n",
    "    print(\"global variable x=\",x)\n",
    "    z=x+y\n",
    "    print(z)\n",
    "    \n",
    "def sub():\n",
    "    m=12\n",
    "    print(\"local variable m=\",m)\n",
    "    print(\"globale variable x=\",x)\n",
    "    l=m-x\n",
    "    print(l)"
   ]
  },
  {
   "cell_type": "code",
   "execution_count": 6,
   "id": "78afea1e-f2dc-4b58-b7d5-6733818ae3dd",
   "metadata": {},
   "outputs": [
    {
     "ename": "NameError",
     "evalue": "name 'add' is not defined",
     "output_type": "error",
     "traceback": [
      "\u001b[0;31m---------------------------------------------------------------------------\u001b[0m",
      "\u001b[0;31mNameError\u001b[0m                                 Traceback (most recent call last)",
      "Cell \u001b[0;32mIn[6], line 1\u001b[0m\n\u001b[0;32m----> 1\u001b[0m \u001b[43madd\u001b[49m()\n",
      "\u001b[0;31mNameError\u001b[0m: name 'add' is not defined"
     ]
    }
   ],
   "source": [
    "add()"
   ]
  },
  {
   "cell_type": "code",
   "execution_count": 48,
   "id": "b104b24a-5a6e-49b2-b9b0-c90c662cd3bb",
   "metadata": {},
   "outputs": [
    {
     "name": "stdout",
     "output_type": "stream",
     "text": [
      "local variable m= 12\n",
      "globale variable x= 20\n",
      "-8\n"
     ]
    }
   ],
   "source": [
    "sub()"
   ]
  },
  {
   "cell_type": "markdown",
   "id": "8b6358bf-d6c8-457e-a238-c63c1726967a",
   "metadata": {},
   "source": [
    "FUNCTIONS ARGUMENTS"
   ]
  },
  {
   "cell_type": "raw",
   "id": "026f943e-aaaf-4ba2-8c6b-74ec430ef0a1",
   "metadata": {},
   "source": [
    "                     FUNCTIONS\n",
    "         -----------------------------------\n",
    "         |                                 |\n",
    "     user defined                     build in function\n",
    "     \n",
    "def function(argument):\n",
    "       arguments:\n",
    "            1)postional argu\n",
    "            2)default argu\n",
    "            3)keywords argu\n",
    "            4)variable length arg "
   ]
  },
  {
   "cell_type": "raw",
   "id": "84313692-1305-4dce-9f21-3eb2e765d40d",
   "metadata": {},
   "source": [
    "positional argument"
   ]
  },
  {
   "cell_type": "code",
   "execution_count": 10,
   "id": "c0cb4238-698d-46f1-9e80-12f52b244b52",
   "metadata": {},
   "outputs": [],
   "source": [
    "def add_numbers(a,b):   \n",
    "    sum = a+b\n",
    "    print(\"sum=\",sum)"
   ]
  },
  {
   "cell_type": "code",
   "execution_count": 11,
   "id": "40bf54e5-aa8f-4503-bd3b-24e5b3cc205b",
   "metadata": {},
   "outputs": [
    {
     "name": "stdout",
     "output_type": "stream",
     "text": [
      "sum= 10\n"
     ]
    }
   ],
   "source": [
    "add_numbers(6,4)"
   ]
  },
  {
   "cell_type": "code",
   "execution_count": 12,
   "id": "a0e586f4-82ad-4598-bb94-6de9a3fb6d72",
   "metadata": {},
   "outputs": [],
   "source": [
    "def emp_name(name):\n",
    "    print(\"my name is \",name)"
   ]
  },
  {
   "cell_type": "code",
   "execution_count": 14,
   "id": "b67a6eb2-004e-4480-8a7e-01adf9887a2f",
   "metadata": {},
   "outputs": [
    {
     "name": "stdout",
     "output_type": "stream",
     "text": [
      "my name is  puja\n"
     ]
    }
   ],
   "source": [
    "emp_name(\"puja\")"
   ]
  },
  {
   "cell_type": "raw",
   "id": "c7f8df34-48ea-47f3-950f-482f02f24e4c",
   "metadata": {},
   "source": [
    "default arguments"
   ]
  },
  {
   "cell_type": "code",
   "execution_count": 15,
   "id": "14c97845-58fe-4773-b92a-96cdf9977c2f",
   "metadata": {},
   "outputs": [],
   "source": [
    "def add_numbers(a=4,b=9):   \n",
    "    sum = a+b\n",
    "    print(\"sum=\",sum)"
   ]
  },
  {
   "cell_type": "code",
   "execution_count": 16,
   "id": "f2f0471f-3c28-40e2-9c02-8322e20abdab",
   "metadata": {},
   "outputs": [
    {
     "name": "stdout",
     "output_type": "stream",
     "text": [
      "sum= 13\n"
     ]
    }
   ],
   "source": [
    "add_numbers()"
   ]
  },
  {
   "cell_type": "code",
   "execution_count": 17,
   "id": "f56ef54f-c571-4909-b0e1-3311b7b4f650",
   "metadata": {},
   "outputs": [
    {
     "name": "stdout",
     "output_type": "stream",
     "text": [
      "sum= 15\n"
     ]
    }
   ],
   "source": [
    "add_numbers(8,7)"
   ]
  },
  {
   "cell_type": "code",
   "execution_count": 18,
   "id": "9e5fed61-4292-4a63-979e-7c669167cd2e",
   "metadata": {},
   "outputs": [],
   "source": [
    "def emp_name(name=\"pwskills\"):\n",
    "    print(\"my name is \",name)"
   ]
  },
  {
   "cell_type": "code",
   "execution_count": 19,
   "id": "0646e47a-9fab-4a6b-8139-dbb66ac65c37",
   "metadata": {},
   "outputs": [
    {
     "name": "stdout",
     "output_type": "stream",
     "text": [
      "my name is  pwskills\n"
     ]
    }
   ],
   "source": [
    "emp_name()"
   ]
  },
  {
   "cell_type": "code",
   "execution_count": 20,
   "id": "909cb8a3-d7a0-4cfd-a83b-7f552cdf6c1e",
   "metadata": {},
   "outputs": [
    {
     "name": "stdout",
     "output_type": "stream",
     "text": [
      "my name is  pooja\n"
     ]
    }
   ],
   "source": [
    "emp_name(\"pooja\")"
   ]
  },
  {
   "cell_type": "markdown",
   "id": "8578893d-1726-4e87-9b6d-60c4de3abc23",
   "metadata": {},
   "source": [
    "key words argument"
   ]
  },
  {
   "cell_type": "code",
   "execution_count": 22,
   "id": "14def617-0116-48b9-a085-032118853911",
   "metadata": {},
   "outputs": [],
   "source": [
    "def display_info(first_name,last_name):\n",
    "    print(\"first name\",first_name)\n",
    "    print(\"last name\",last_name)\n"
   ]
  },
  {
   "cell_type": "code",
   "execution_count": 23,
   "id": "17ffd810-1054-4a4e-87b1-7d1be88f52b6",
   "metadata": {},
   "outputs": [
    {
     "name": "stdout",
     "output_type": "stream",
     "text": [
      "first name puja\n",
      "last name Thakur\n"
     ]
    }
   ],
   "source": [
    " display_info(first_name=\"puja\",last_name=\"Thakur\")"
   ]
  },
  {
   "cell_type": "code",
   "execution_count": 26,
   "id": "1b206892-0e64-4e2a-8bb5-7db1deda5fc0",
   "metadata": {},
   "outputs": [
    {
     "name": "stdout",
     "output_type": "stream",
     "text": [
      "first name pooja\n",
      "last name Thakur\n"
     ]
    }
   ],
   "source": [
    "display_info(last_name=\"Thakur\",first_name=\"pooja\")"
   ]
  },
  {
   "cell_type": "code",
   "execution_count": 2,
   "id": "128d54b3-eab7-4226-a024-54c1c6476556",
   "metadata": {},
   "outputs": [],
   "source": [
    "def add_numbers(a,b):   \n",
    "    sum = a+b\n",
    "    print(\"sum=\",sum)"
   ]
  },
  {
   "cell_type": "code",
   "execution_count": 3,
   "id": "53c0672f-ee3b-4085-a54b-a089e53d8a92",
   "metadata": {},
   "outputs": [
    {
     "name": "stdout",
     "output_type": "stream",
     "text": [
      "sum= 17\n"
     ]
    }
   ],
   "source": [
    "add_numbers(a=9,b=8)  # specifically telling"
   ]
  },
  {
   "cell_type": "code",
   "execution_count": 4,
   "id": "e9d6ad69-a995-40bd-b911-e29240d59dc1",
   "metadata": {},
   "outputs": [],
   "source": [
    "def add_numbers(a,b,c,d):\n",
    "    sum = a+b+c+d\n",
    "    print(\"sum = \",sum)"
   ]
  },
  {
   "cell_type": "code",
   "execution_count": 5,
   "id": "acca461d-3c90-41af-aa81-924238e23c4f",
   "metadata": {},
   "outputs": [
    {
     "name": "stdout",
     "output_type": "stream",
     "text": [
      "sum =  10\n"
     ]
    }
   ],
   "source": [
    "add_numbers(1,2,3,4)"
   ]
  },
  {
   "cell_type": "code",
   "execution_count": 10,
   "id": "6b4f8bd2-2b84-4ca5-a82b-f4680f1cc927",
   "metadata": {},
   "outputs": [],
   "source": [
    "def find_sum(*numbers):\n",
    "    result =0\n",
    "    \n",
    "    for num in numbers:\n",
    "        result = result +num\n",
    "    print(\"sum =\",result)"
   ]
  },
  {
   "cell_type": "code",
   "execution_count": 11,
   "id": "b01fea26-6a10-4175-8eb5-a38488820ca9",
   "metadata": {},
   "outputs": [
    {
     "name": "stdout",
     "output_type": "stream",
     "text": [
      "sum = 0\n"
     ]
    }
   ],
   "source": [
    "find_sum()"
   ]
  },
  {
   "cell_type": "code",
   "execution_count": 12,
   "id": "2e60045c-8b03-4967-9363-97b8595950d6",
   "metadata": {},
   "outputs": [
    {
     "name": "stdout",
     "output_type": "stream",
     "text": [
      "sum = 6\n"
     ]
    }
   ],
   "source": [
    "find_sum(1,2,3)"
   ]
  },
  {
   "cell_type": "code",
   "execution_count": 14,
   "id": "02be5659-00fc-4609-b403-8f41d0024db9",
   "metadata": {},
   "outputs": [
    {
     "name": "stdout",
     "output_type": "stream",
     "text": [
      "sum = 50\n"
     ]
    }
   ],
   "source": [
    "find_sum(1,2,3,4,5,5,6,7,8,9)"
   ]
  },
  {
   "cell_type": "code",
   "execution_count": 15,
   "id": "f9d8002f-9205-4d84-b319-ff456c57feb5",
   "metadata": {},
   "outputs": [
    {
     "name": "stdout",
     "output_type": "stream",
     "text": [
      "sum = 55\n"
     ]
    }
   ],
   "source": [
    "find_sum(1,2,3,4,5,6,7,8,9,10)"
   ]
  },
  {
   "cell_type": "code",
   "execution_count": 16,
   "id": "a6dc3848-b550-4424-9529-bf7f1b848500",
   "metadata": {},
   "outputs": [],
   "source": [
    "def simple(*x):\n",
    "    print(x)"
   ]
  },
  {
   "cell_type": "code",
   "execution_count": 17,
   "id": "dc428b72-d14e-49ce-ae6b-a53d9059fc16",
   "metadata": {},
   "outputs": [
    {
     "name": "stdout",
     "output_type": "stream",
     "text": [
      "()\n"
     ]
    }
   ],
   "source": [
    "simple()"
   ]
  },
  {
   "cell_type": "code",
   "execution_count": 18,
   "id": "01561fe5-ccb6-401d-bfd0-04d30455abd3",
   "metadata": {},
   "outputs": [
    {
     "name": "stdout",
     "output_type": "stream",
     "text": [
      "(1, 2, 3)\n"
     ]
    }
   ],
   "source": [
    "simple(1,2,3)"
   ]
  },
  {
   "cell_type": "code",
   "execution_count": 19,
   "id": "c303c125-ff21-483b-afcb-86f30d220707",
   "metadata": {},
   "outputs": [
    {
     "name": "stdout",
     "output_type": "stream",
     "text": [
      "(1, 2, 3, 4, 5)\n"
     ]
    }
   ],
   "source": [
    "simple(1,2,3,4,5)"
   ]
  },
  {
   "cell_type": "raw",
   "id": "4a505db0-d0ca-425d-8fb5-e97d3276d2fd",
   "metadata": {},
   "source": [
    "(*---> arguments, ** ---> keyword arguement)"
   ]
  },
  {
   "cell_type": "code",
   "execution_count": 32,
   "id": "ac72e95b-3cca-41d0-87af-1a4a113764fd",
   "metadata": {},
   "outputs": [],
   "source": [
    "def intro(**data):\n",
    "    print(\"data type of argument\",type(data))\n",
    "    \n",
    "    for key,value in data.items():\n",
    "        print(key,value)"
   ]
  },
  {
   "cell_type": "code",
   "execution_count": 33,
   "id": "16726ede-440e-4e29-aa51-28ef6da9c8cc",
   "metadata": {},
   "outputs": [
    {
     "name": "stdout",
     "output_type": "stream",
     "text": [
      "data type of argument <class 'dict'>\n",
      "firstname pooja\n",
      "lastname Thakur\n"
     ]
    }
   ],
   "source": [
    "intro(firstname='pooja',lastname='Thakur')"
   ]
  },
  {
   "cell_type": "code",
   "execution_count": 25,
   "id": "d5380977-c73a-4a10-aeea-9d5470c4170b",
   "metadata": {},
   "outputs": [],
   "source": [
    "x = {'a':1,'b':2}"
   ]
  },
  {
   "cell_type": "code",
   "execution_count": 31,
   "id": "36752527-5c19-4755-8a21-802a2ff29862",
   "metadata": {},
   "outputs": [
    {
     "data": {
      "text/plain": [
       "dict_items([('a', 1), ('b', 2)])"
      ]
     },
     "execution_count": 31,
     "metadata": {},
     "output_type": "execute_result"
    }
   ],
   "source": [
    "x.items()"
   ]
  },
  {
   "cell_type": "code",
   "execution_count": 30,
   "id": "0ee70250-e876-4bc8-a130-08b19ce50c82",
   "metadata": {},
   "outputs": [
    {
     "name": "stdout",
     "output_type": "stream",
     "text": [
      "a 1\n",
      "b 2\n"
     ]
    }
   ],
   "source": [
    "for keys,value  in x.items():\n",
    "    print(keys,value)"
   ]
  },
  {
   "cell_type": "code",
   "execution_count": 49,
   "id": "670a399b-6f49-49db-be56-225c0207f8d0",
   "metadata": {},
   "outputs": [],
   "source": [
    "def simple(**x):\n",
    "    print(x)"
   ]
  },
  {
   "cell_type": "code",
   "execution_count": 50,
   "id": "9144fb21-9818-4d0c-b645-2d26014c5e56",
   "metadata": {},
   "outputs": [
    {
     "name": "stdout",
     "output_type": "stream",
     "text": [
      "{}\n"
     ]
    }
   ],
   "source": [
    "simple()"
   ]
  },
  {
   "cell_type": "code",
   "execution_count": 51,
   "id": "534f6af7-fa31-4006-9b56-36534c8e2879",
   "metadata": {},
   "outputs": [
    {
     "name": "stdout",
     "output_type": "stream",
     "text": [
      "{'name': 'pooja', 'age': 21, 'id_no': 7137}\n"
     ]
    }
   ],
   "source": [
    "simple(name='pooja',age=21,id_no=7137)"
   ]
  },
  {
   "cell_type": "code",
   "execution_count": 52,
   "id": "238ffb41-eba4-4513-986d-829c867a5ce2",
   "metadata": {},
   "outputs": [],
   "source": [
    "def simple1(*y):\n",
    "    print(y)"
   ]
  },
  {
   "cell_type": "code",
   "execution_count": 53,
   "id": "3de0a836-679d-4f78-b531-bec10f7a86c3",
   "metadata": {},
   "outputs": [
    {
     "name": "stdout",
     "output_type": "stream",
     "text": [
      "(2, 3)\n"
     ]
    }
   ],
   "source": [
    "simple1(2,3)"
   ]
  },
  {
   "cell_type": "code",
   "execution_count": 54,
   "id": "5279fa4f-7664-4eba-85fe-8321d0963923",
   "metadata": {},
   "outputs": [
    {
     "name": "stdout",
     "output_type": "stream",
     "text": [
      "(2, 3, 4)\n"
     ]
    }
   ],
   "source": [
    "simple1(2,3,4)"
   ]
  },
  {
   "cell_type": "code",
   "execution_count": 56,
   "id": "473f90e6-d8ca-44b9-b885-1d422b8b0fc4",
   "metadata": {},
   "outputs": [
    {
     "name": "stdout",
     "output_type": "stream",
     "text": [
      "{'name': 'rupal', 'age': 18}\n"
     ]
    }
   ],
   "source": [
    "simple(name='rupal',age=18)"
   ]
  },
  {
   "cell_type": "code",
   "execution_count": 57,
   "id": "d13bfb4f-a6fe-4846-be92-752251bff4af",
   "metadata": {},
   "outputs": [],
   "source": [
    "def show_numbers(*x):\n",
    "    print(x)"
   ]
  },
  {
   "cell_type": "code",
   "execution_count": 58,
   "id": "47734590-bd88-46cb-bfe2-1bd14202f5df",
   "metadata": {},
   "outputs": [
    {
     "name": "stdout",
     "output_type": "stream",
     "text": [
      "(1,)\n"
     ]
    }
   ],
   "source": [
    "show_numbers(1)"
   ]
  },
  {
   "cell_type": "code",
   "execution_count": 59,
   "id": "071e2a5d-1b9e-4148-b33a-610ddf8a090b",
   "metadata": {},
   "outputs": [
    {
     "name": "stdout",
     "output_type": "stream",
     "text": [
      "(2, 3, 4, 5)\n"
     ]
    }
   ],
   "source": [
    "show_numbers(2,3,4,5)"
   ]
  },
  {
   "cell_type": "code",
   "execution_count": 3,
   "id": "cc81eb4c-19f7-4173-b65f-b355918588d0",
   "metadata": {},
   "outputs": [],
   "source": [
    "def show_keyvalue(**y):\n",
    "    print(y)"
   ]
  },
  {
   "cell_type": "code",
   "execution_count": 4,
   "id": "17561580-f014-40be-ae95-decadeb452c8",
   "metadata": {},
   "outputs": [
    {
     "name": "stdout",
     "output_type": "stream",
     "text": [
      "{'x': 1, 'f': 4}\n"
     ]
    }
   ],
   "source": [
    "show_keyvalue(x=1,f=4)"
   ]
  },
  {
   "cell_type": "code",
   "execution_count": 5,
   "id": "16822aa7-b95a-4502-90cc-7943233aad2e",
   "metadata": {},
   "outputs": [
    {
     "name": "stdout",
     "output_type": "stream",
     "text": [
      "{'x': 'I', 'y': 'LOVE', 'z': 'MYSELF'}\n"
     ]
    }
   ],
   "source": [
    "show_keyvalue(x='I',y='LOVE',z='MYSELF')"
   ]
  },
  {
   "cell_type": "code",
   "execution_count": 6,
   "id": "7755373c-27a6-4c7a-9932-37c5989ed8cb",
   "metadata": {},
   "outputs": [
    {
     "name": "stdout",
     "output_type": "stream",
     "text": [
      "{'x': 2, 'y': 4}\n"
     ]
    }
   ],
   "source": [
    "show_keyvalue(x=2,y=4)"
   ]
  },
  {
   "cell_type": "code",
   "execution_count": null,
   "id": "f285b288-0057-4c02-9052-b00ab6a2642e",
   "metadata": {},
   "outputs": [],
   "source": []
  },
  {
   "cell_type": "markdown",
   "id": "0e251e5e-ee58-4bea-87ee-76e53832f5e2",
   "metadata": {},
   "source": [
    "LAMBDA FUNCTIONS"
   ]
  },
  {
   "cell_type": "raw",
   "id": "a393b5d4-d196-480d-8079-a1060522602e",
   "metadata": {},
   "source": [
    "lambda is a anonymous function,\n",
    "\n",
    "lambda (arguments):expression    --->syntax for lambda"
   ]
  },
  {
   "cell_type": "code",
   "execution_count": 8,
   "id": "3c1301e6-0129-4f16-a4de-003ae2ce4056",
   "metadata": {},
   "outputs": [],
   "source": [
    "x= lambda : print(\"Hello world\")"
   ]
  },
  {
   "cell_type": "code",
   "execution_count": 9,
   "id": "8f72dfd9-0956-4fe0-b521-0ca5d7d1848b",
   "metadata": {},
   "outputs": [
    {
     "name": "stdout",
     "output_type": "stream",
     "text": [
      "Hello world\n"
     ]
    }
   ],
   "source": [
    "x()"
   ]
  },
  {
   "cell_type": "code",
   "execution_count": 11,
   "id": "93e3f4c2-7157-4deb-8715-3cc119a914bc",
   "metadata": {},
   "outputs": [],
   "source": [
    "y =lambda :print(\"pwskills\")"
   ]
  },
  {
   "cell_type": "code",
   "execution_count": 12,
   "id": "32f8dcb3-cc70-4b89-ac58-87417074f0f8",
   "metadata": {},
   "outputs": [
    {
     "name": "stdout",
     "output_type": "stream",
     "text": [
      "pwskills\n"
     ]
    }
   ],
   "source": [
    "y()"
   ]
  },
  {
   "cell_type": "code",
   "execution_count": 15,
   "id": "4aa8cda1-2c0d-4a30-b8a1-531b57a666cc",
   "metadata": {},
   "outputs": [],
   "source": [
    "add_num =lambda a,b:a+b"
   ]
  },
  {
   "cell_type": "code",
   "execution_count": 17,
   "id": "21fb5c60-45f0-4b3a-941d-5b7e5c059029",
   "metadata": {},
   "outputs": [
    {
     "data": {
      "text/plain": [
       "7"
      ]
     },
     "execution_count": 17,
     "metadata": {},
     "output_type": "execute_result"
    }
   ],
   "source": [
    "add_num(3,4)"
   ]
  },
  {
   "cell_type": "code",
   "execution_count": 18,
   "id": "86c7df07-1ca3-4ccd-8d0a-580a88a97bb5",
   "metadata": {},
   "outputs": [],
   "source": [
    "mul_num = lambda a,b :a*b"
   ]
  },
  {
   "cell_type": "code",
   "execution_count": 20,
   "id": "41efa37f-8b5e-4eff-9716-de94d58f1bde",
   "metadata": {},
   "outputs": [
    {
     "data": {
      "text/plain": [
       "8"
      ]
     },
     "execution_count": 20,
     "metadata": {},
     "output_type": "execute_result"
    }
   ],
   "source": [
    "mul_num(4,2)"
   ]
  },
  {
   "cell_type": "code",
   "execution_count": 22,
   "id": "486d7ab0-311e-4aca-80c1-710694d90110",
   "metadata": {},
   "outputs": [
    {
     "name": "stdin",
     "output_type": "stream",
     "text": [
      "Enter the first number 2\n",
      "Enter the 2nd number 3\n"
     ]
    },
    {
     "name": "stdout",
     "output_type": "stream",
     "text": [
      "(4, 9)\n"
     ]
    }
   ],
   "source": [
    "a = int(input(\"Enter the first number\"))\n",
    "b = int(input(\"Enter the 2nd number\"))\n",
    "square = lambda a,b :(a**2,b**2)\n",
    "print(square(a,b))"
   ]
  },
  {
   "cell_type": "code",
   "execution_count": 31,
   "id": "652341fd-44eb-4cb8-9b38-2e00e9533c04",
   "metadata": {},
   "outputs": [
    {
     "name": "stdin",
     "output_type": "stream",
     "text": [
      "Enter the  number 8\n"
     ]
    },
    {
     "name": "stdout",
     "output_type": "stream",
     "text": [
      "True\n"
     ]
    }
   ],
   "source": [
    "# tpo print even numbers\n",
    "x = int(input(\"Enter the  number\"))\n",
    "even_num = lambda x:(x%2==0)\n",
    "print(even_num(x))\n"
   ]
  },
  {
   "cell_type": "code",
   "execution_count": 32,
   "id": "99c10322-250e-49e6-b2b0-6015b127ded0",
   "metadata": {},
   "outputs": [],
   "source": [
    "def evenodd(n):\n",
    "    if n%2==0:\n",
    "        print(\" number is even\")\n",
    "    else:\n",
    "        print(\"number is odd\")"
   ]
  },
  {
   "cell_type": "code",
   "execution_count": 33,
   "id": "fc5ef054-12ad-4888-8b8c-95f49068b375",
   "metadata": {},
   "outputs": [
    {
     "name": "stdout",
     "output_type": "stream",
     "text": [
      "number is odd\n"
     ]
    }
   ],
   "source": [
    "evenodd(3)"
   ]
  },
  {
   "cell_type": "code",
   "execution_count": 37,
   "id": "20e65438-de51-4842-bda8-1bde11c4bc42",
   "metadata": {},
   "outputs": [],
   "source": [
    "c = lambda n: \"number is even\" if n%2==0 else \"number is odd\""
   ]
  },
  {
   "cell_type": "code",
   "execution_count": 38,
   "id": "16e9903c-84f9-4075-812b-c97a5ab5edfc",
   "metadata": {},
   "outputs": [
    {
     "data": {
      "text/plain": [
       "'number is even'"
      ]
     },
     "execution_count": 38,
     "metadata": {},
     "output_type": "execute_result"
    }
   ],
   "source": [
    "c(4)"
   ]
  },
  {
   "cell_type": "code",
   "execution_count": 39,
   "id": "c8e36eea-9a4c-4aab-8801-6ded11ecedb2",
   "metadata": {},
   "outputs": [],
   "source": [
    "# write a lambda function that accepts 2 arguments and return the gretest amongs them"
   ]
  },
  {
   "cell_type": "code",
   "execution_count": 42,
   "id": "3bf99d05-0a28-41b1-95e5-24fbfea24636",
   "metadata": {},
   "outputs": [],
   "source": [
    "gretest_num = lambda x,y : x if x>y else y"
   ]
  },
  {
   "cell_type": "code",
   "execution_count": 43,
   "id": "44eb0f2b-c213-45e1-abac-adfd4e02ed64",
   "metadata": {},
   "outputs": [
    {
     "data": {
      "text/plain": [
       "5"
      ]
     },
     "execution_count": 43,
     "metadata": {},
     "output_type": "execute_result"
    }
   ],
   "source": [
    "gretest_num(4,5)"
   ]
  },
  {
   "cell_type": "code",
   "execution_count": 46,
   "id": "4824478e-cfbb-4bcf-a4a5-03afa4518345",
   "metadata": {},
   "outputs": [],
   "source": [
    "# lambda dunction to add three numbers"
   ]
  },
  {
   "cell_type": "code",
   "execution_count": 47,
   "id": "c68e7383-ec95-49f2-a4a3-ec5942bca85e",
   "metadata": {},
   "outputs": [],
   "source": [
    "sum_num = lambda a,b,c:a+b+c"
   ]
  },
  {
   "cell_type": "code",
   "execution_count": 48,
   "id": "091a8c51-a257-4e4d-ae56-6a16fb8fb698",
   "metadata": {},
   "outputs": [
    {
     "data": {
      "text/plain": [
       "12"
      ]
     },
     "execution_count": 48,
     "metadata": {},
     "output_type": "execute_result"
    }
   ],
   "source": [
    "sum_num(3,4,5)"
   ]
  },
  {
   "cell_type": "code",
   "execution_count": 15,
   "id": "21a59c67-3134-4898-8ae9-0680e7461c34",
   "metadata": {},
   "outputs": [],
   "source": [
    "products = [\n",
    "    {'name':'product1','price':50},\n",
    "    {'name':'product2','price':40},\n",
    "    {'name':'product3','price':30},\n",
    "    {'name':'product4','price':70},\n",
    "]\n",
    "\n",
    "sorted_products =  sorted(products,key=lambda x:x['price'],reverse =True)"
   ]
  },
  {
   "cell_type": "code",
   "execution_count": 16,
   "id": "f702ba30-26de-4ff3-ba2e-19235774d1a4",
   "metadata": {},
   "outputs": [
    {
     "name": "stdout",
     "output_type": "stream",
     "text": [
      "{'name': 'product4', 'price': 70}\n",
      "{'name': 'product1', 'price': 50}\n",
      "{'name': 'product2', 'price': 40}\n",
      "{'name': 'product3', 'price': 30}\n"
     ]
    }
   ],
   "source": [
    "for i in sorted_products :\n",
    "    print(i)"
   ]
  },
  {
   "cell_type": "code",
   "execution_count": 17,
   "id": "d2024adb-f527-461d-a39c-7f9582e13bf5",
   "metadata": {},
   "outputs": [],
   "source": [
    "v = {'name':'product1','price':50}"
   ]
  },
  {
   "cell_type": "code",
   "execution_count": 18,
   "id": "b80d38a8-d482-4b79-8125-c1fc50a9dc53",
   "metadata": {},
   "outputs": [],
   "source": [
    "key = lambda x:x['price']"
   ]
  },
  {
   "cell_type": "code",
   "execution_count": 19,
   "id": "86f797a3-2b50-4e70-9618-ec398dae03c7",
   "metadata": {},
   "outputs": [
    {
     "data": {
      "text/plain": [
       "<function __main__.<lambda>(x)>"
      ]
     },
     "execution_count": 19,
     "metadata": {},
     "output_type": "execute_result"
    }
   ],
   "source": [
    "key"
   ]
  },
  {
   "cell_type": "code",
   "execution_count": 21,
   "id": "8fb9f1f8-9bdf-4e57-9920-464d6275312a",
   "metadata": {},
   "outputs": [
    {
     "data": {
      "text/plain": [
       "50"
      ]
     },
     "execution_count": 21,
     "metadata": {},
     "output_type": "execute_result"
    }
   ],
   "source": [
    "v['price']"
   ]
  },
  {
   "cell_type": "code",
   "execution_count": null,
   "id": "daec4db5-7c89-4419-a974-3d0d370e1e78",
   "metadata": {},
   "outputs": [],
   "source": [
    "#"
   ]
  },
  {
   "cell_type": "code",
   "execution_count": 33,
   "id": "a63669a1-e57c-422d-abf1-4374e9d69058",
   "metadata": {},
   "outputs": [
    {
     "ename": "SyntaxError",
     "evalue": "invalid syntax (3064663604.py, line 2)",
     "output_type": "error",
     "traceback": [
      "\u001b[0;36m  Cell \u001b[0;32mIn[33], line 2\u001b[0;36m\u001b[0m\n\u001b[0;31m    gg = lambda dd : \"True\" if ('dd' =='a'or 'dd'=='e'or 'dd'=='i'or 'dd'='o'or 'dd'=='u'or 'dd'=='A'or 'dd'=='E' or 'dd'=='I'or 'dd'=='U') else \"False\"\u001b[0m\n\u001b[0m                                                                         ^\u001b[0m\n\u001b[0;31mSyntaxError\u001b[0m\u001b[0;31m:\u001b[0m invalid syntax\n"
     ]
    }
   ],
   "source": [
    "dd = input(\"Enter the char: \")\n",
    "gg = lambda dd : \"True\" if ('dd' =='a'or 'dd'=='e'or 'dd'=='i'or 'dd'='o'or 'dd'=='u'or 'dd'=='A'or 'dd'=='E' or 'dd'=='I'or 'dd'=='U') else \"False\""
   ]
  },
  {
   "cell_type": "raw",
   "id": "25a4b846-5be3-467c-8b69-2318f49b8120",
   "metadata": {},
   "source": [
    "1)filter\n",
    "2)map\n",
    "3)reduce"
   ]
  },
  {
   "cell_type": "code",
   "execution_count": 34,
   "id": "f740fd04-28ac-4351-99c1-866e1099028c",
   "metadata": {},
   "outputs": [],
   "source": [
    "x =-10"
   ]
  },
  {
   "cell_type": "code",
   "execution_count": 35,
   "id": "28e672da-97c8-48b4-a195-3f26872387a8",
   "metadata": {},
   "outputs": [
    {
     "data": {
      "text/plain": [
       "10"
      ]
     },
     "execution_count": 35,
     "metadata": {},
     "output_type": "execute_result"
    }
   ],
   "source": [
    "abs(x)"
   ]
  },
  {
   "cell_type": "code",
   "execution_count": 36,
   "id": "205e7a02-c75c-43af-b712-9ec2aee88e01",
   "metadata": {},
   "outputs": [],
   "source": [
    "x = 5\n"
   ]
  },
  {
   "cell_type": "code",
   "execution_count": 37,
   "id": "9da97da7-92f3-4c63-8858-f55e099b86fa",
   "metadata": {},
   "outputs": [
    {
     "data": {
      "text/plain": [
       "139929756320112"
      ]
     },
     "execution_count": 37,
     "metadata": {},
     "output_type": "execute_result"
    }
   ],
   "source": [
    "id(x)"
   ]
  },
  {
   "cell_type": "code",
   "execution_count": 38,
   "id": "05742788-9c56-4d95-a41a-df8cc9469aa0",
   "metadata": {},
   "outputs": [],
   "source": [
    "l = [1,2,3,4,5]"
   ]
  },
  {
   "cell_type": "code",
   "execution_count": 39,
   "id": "66cac347-cdf4-414f-9dc1-f1117951d186",
   "metadata": {},
   "outputs": [
    {
     "data": {
      "text/plain": [
       "5"
      ]
     },
     "execution_count": 39,
     "metadata": {},
     "output_type": "execute_result"
    }
   ],
   "source": [
    "max(l)"
   ]
  },
  {
   "cell_type": "code",
   "execution_count": 54,
   "id": "893a54da-c609-42f5-ac0a-0f954167fe04",
   "metadata": {},
   "outputs": [],
   "source": [
    "x = 2"
   ]
  },
  {
   "cell_type": "code",
   "execution_count": 59,
   "id": "148f288a-0fef-4b01-8c83-91f67f782e54",
   "metadata": {},
   "outputs": [
    {
     "data": {
      "text/plain": [
       "int"
      ]
     },
     "execution_count": 59,
     "metadata": {},
     "output_type": "execute_result"
    }
   ],
   "source": [
    "type(x)"
   ]
  },
  {
   "cell_type": "code",
   "execution_count": 65,
   "id": "18651668-7266-4441-9e62-56fad5b5d690",
   "metadata": {},
   "outputs": [],
   "source": [
    "language = ['python','java','javascript']"
   ]
  },
  {
   "cell_type": "code",
   "execution_count": 69,
   "id": "4f98c84f-e21a-4bc0-b912-0c49586ff569",
   "metadata": {},
   "outputs": [],
   "source": [
    "enumerate_prime = enumerate(language,3)"
   ]
  },
  {
   "cell_type": "code",
   "execution_count": 70,
   "id": "787ee6c4-b64d-4795-ba7b-599c79893dfb",
   "metadata": {},
   "outputs": [
    {
     "data": {
      "text/plain": [
       "[(3, 'python'), (4, 'java'), (5, 'javascript')]"
      ]
     },
     "execution_count": 70,
     "metadata": {},
     "output_type": "execute_result"
    }
   ],
   "source": [
    "list(enumerate_prime)"
   ]
  },
  {
   "cell_type": "markdown",
   "id": "6e7e7442-32fe-46df-a989-67a625691cf1",
   "metadata": {},
   "source": [
    "List comprehension"
   ]
  },
  {
   "cell_type": "raw",
   "id": "91be4936-5d2f-4cc4-bb17-252f8d91b288",
   "metadata": {},
   "source": [
    "[ output | collection | condition ]"
   ]
  },
  {
   "cell_type": "code",
   "execution_count": 4,
   "id": "70418263-399e-4e4f-ad60-9215a982ef1c",
   "metadata": {},
   "outputs": [],
   "source": [
    "lst = [1,2,3,4,5,6,7,8,9,10]"
   ]
  },
  {
   "cell_type": "code",
   "execution_count": 5,
   "id": "f4d18c25-fc63-44d5-be93-6d605180ca12",
   "metadata": {},
   "outputs": [],
   "source": [
    "a = [x for x in lst]"
   ]
  },
  {
   "cell_type": "code",
   "execution_count": 6,
   "id": "429dcded-6040-4a74-9bee-ef13ded15e18",
   "metadata": {},
   "outputs": [
    {
     "data": {
      "text/plain": [
       "[1, 2, 3, 4, 5, 6, 7, 8, 9, 10]"
      ]
     },
     "execution_count": 6,
     "metadata": {},
     "output_type": "execute_result"
    }
   ],
   "source": [
    "a\n"
   ]
  },
  {
   "cell_type": "code",
   "execution_count": 7,
   "id": "412ea7db-5fd3-462b-b1a9-ca959b37b01a",
   "metadata": {},
   "outputs": [
    {
     "name": "stdout",
     "output_type": "stream",
     "text": [
      "1\n",
      "2\n",
      "3\n",
      "4\n",
      "5\n",
      "6\n",
      "7\n",
      "8\n",
      "9\n",
      "10\n"
     ]
    }
   ],
   "source": [
    "for i in lst:\n",
    "    print(i)"
   ]
  },
  {
   "cell_type": "code",
   "execution_count": 8,
   "id": "dedbae71-25df-46da-962f-fce25615fd7f",
   "metadata": {},
   "outputs": [],
   "source": [
    "a = [ x+1 for x in lst]"
   ]
  },
  {
   "cell_type": "code",
   "execution_count": 9,
   "id": "a52ccd1e-ec23-41aa-a4fc-a5e7ccf669d3",
   "metadata": {},
   "outputs": [
    {
     "data": {
      "text/plain": [
       "[2, 3, 4, 5, 6, 7, 8, 9, 10, 11]"
      ]
     },
     "execution_count": 9,
     "metadata": {},
     "output_type": "execute_result"
    }
   ],
   "source": [
    "a"
   ]
  },
  {
   "cell_type": "code",
   "execution_count": 10,
   "id": "c5783bc2-01d1-4c47-8bdb-a9596e007ecb",
   "metadata": {},
   "outputs": [],
   "source": [
    "a = [ x*2 for x in lst]"
   ]
  },
  {
   "cell_type": "code",
   "execution_count": 11,
   "id": "dfc828d7-b94e-4cdf-9e71-05d7c72b821b",
   "metadata": {},
   "outputs": [
    {
     "data": {
      "text/plain": [
       "[2, 4, 6, 8, 10, 12, 14, 16, 18, 20]"
      ]
     },
     "execution_count": 11,
     "metadata": {},
     "output_type": "execute_result"
    }
   ],
   "source": [
    "a"
   ]
  },
  {
   "cell_type": "code",
   "execution_count": 12,
   "id": "8e10249d-2c03-4783-8cac-763bcc913902",
   "metadata": {},
   "outputs": [],
   "source": [
    "c = [ x for x in lst if x>4]"
   ]
  },
  {
   "cell_type": "code",
   "execution_count": 13,
   "id": "9a5ce565-0f14-4d9d-b58c-f4527745b7ad",
   "metadata": {},
   "outputs": [
    {
     "data": {
      "text/plain": [
       "[5, 6, 7, 8, 9, 10]"
      ]
     },
     "execution_count": 13,
     "metadata": {},
     "output_type": "execute_result"
    }
   ],
   "source": [
    "c"
   ]
  },
  {
   "cell_type": "code",
   "execution_count": 16,
   "id": "b040df66-9a4a-4faf-85a0-b3c8da931fe5",
   "metadata": {},
   "outputs": [],
   "source": [
    " a = []\n",
    "    \n",
    "for x in lst:\n",
    "    if x>4:\n",
    "        a.append(x)"
   ]
  },
  {
   "cell_type": "code",
   "execution_count": 17,
   "id": "3536e35d-7372-46ca-a281-2fce35682e9d",
   "metadata": {},
   "outputs": [
    {
     "data": {
      "text/plain": [
       "[5, 6, 7, 8, 9, 10]"
      ]
     },
     "execution_count": 17,
     "metadata": {},
     "output_type": "execute_result"
    }
   ],
   "source": [
    "a"
   ]
  },
  {
   "cell_type": "code",
   "execution_count": 18,
   "id": "836993ac-f882-4f4b-9134-b30988968c06",
   "metadata": {},
   "outputs": [],
   "source": [
    "f = [ x for x in lst if x%2==0]"
   ]
  },
  {
   "cell_type": "code",
   "execution_count": 19,
   "id": "3c660755-5687-4e83-90dd-633f881d4341",
   "metadata": {},
   "outputs": [
    {
     "data": {
      "text/plain": [
       "[2, 4, 6, 8, 10]"
      ]
     },
     "execution_count": 19,
     "metadata": {},
     "output_type": "execute_result"
    }
   ],
   "source": [
    "f"
   ]
  },
  {
   "cell_type": "code",
   "execution_count": 20,
   "id": "ef390e53-97b9-476f-bfb3-ad4f6928be4a",
   "metadata": {},
   "outputs": [],
   "source": [
    " g= [ x for x in lst if x>4 if x%2==0]"
   ]
  },
  {
   "cell_type": "code",
   "execution_count": 21,
   "id": "e5ff82fd-cf68-4deb-a760-d88f3749f1a7",
   "metadata": {},
   "outputs": [
    {
     "data": {
      "text/plain": [
       "[6, 8, 10]"
      ]
     },
     "execution_count": 21,
     "metadata": {},
     "output_type": "execute_result"
    }
   ],
   "source": [
    "g"
   ]
  },
  {
   "cell_type": "code",
   "execution_count": 27,
   "id": "9eb7c3d4-5445-429e-afe6-fa9da5ee9c7f",
   "metadata": {},
   "outputs": [],
   "source": [
    "a = []\n",
    "for x in lst:\n",
    "    if x>4:\n",
    "        if x%2==0:\n",
    "            a.append(x)"
   ]
  },
  {
   "cell_type": "code",
   "execution_count": 28,
   "id": "02e7086c-5492-40d3-9879-2063a31b690f",
   "metadata": {},
   "outputs": [
    {
     "data": {
      "text/plain": [
       "[6, 8, 10]"
      ]
     },
     "execution_count": 28,
     "metadata": {},
     "output_type": "execute_result"
    }
   ],
   "source": [
    "a"
   ]
  },
  {
   "cell_type": "code",
   "execution_count": 29,
   "id": "e4db0306-3f22-427b-b030-f857bdac5cd6",
   "metadata": {},
   "outputs": [],
   "source": [
    "h = [x if x>4 else 'lessthan 4' for x in lst]"
   ]
  },
  {
   "cell_type": "code",
   "execution_count": 30,
   "id": "af4cc2fb-0548-4104-8556-0ecf233fe8fa",
   "metadata": {},
   "outputs": [
    {
     "data": {
      "text/plain": [
       "['lessthan 4', 'lessthan 4', 'lessthan 4', 'lessthan 4', 5, 6, 7, 8, 9, 10]"
      ]
     },
     "execution_count": 30,
     "metadata": {},
     "output_type": "execute_result"
    }
   ],
   "source": [
    "h"
   ]
  },
  {
   "cell_type": "code",
   "execution_count": 32,
   "id": "3f62b31f-3a1d-4705-a0b6-b5bed94a504f",
   "metadata": {},
   "outputs": [],
   "source": [
    "a = []\n",
    "for x in lst:\n",
    "    if x>4:\n",
    "        a.append(x)\n",
    "    else:\n",
    "        a.append(\"less than 4\")"
   ]
  },
  {
   "cell_type": "code",
   "execution_count": 33,
   "id": "3952e014-8c42-4042-8c87-24ef298bfdce",
   "metadata": {},
   "outputs": [
    {
     "data": {
      "text/plain": [
       "['less than 4', 'less than 4', 'less than 4', 'less than 4', 5, 6, 7, 8, 9, 10]"
      ]
     },
     "execution_count": 33,
     "metadata": {},
     "output_type": "execute_result"
    }
   ],
   "source": [
    "a"
   ]
  },
  {
   "cell_type": "code",
   "execution_count": 34,
   "id": "38f45374-15fe-4ae1-9ef5-6a456e00d1f0",
   "metadata": {},
   "outputs": [],
   "source": [
    "r = ['two' if x%2==0 else 'three' if x%3==0 else 'not a & 3' for x in lst]"
   ]
  },
  {
   "cell_type": "code",
   "execution_count": 35,
   "id": "0f201c4b-114b-4295-801f-2d76798e5b72",
   "metadata": {},
   "outputs": [
    {
     "data": {
      "text/plain": [
       "['not a & 3',\n",
       " 'two',\n",
       " 'three',\n",
       " 'two',\n",
       " 'not a & 3',\n",
       " 'two',\n",
       " 'not a & 3',\n",
       " 'two',\n",
       " 'three',\n",
       " 'two']"
      ]
     },
     "execution_count": 35,
     "metadata": {},
     "output_type": "execute_result"
    }
   ],
   "source": [
    "r"
   ]
  },
  {
   "cell_type": "code",
   "execution_count": 37,
   "id": "8bc002c6-4f19-4c49-b4d3-fd3f69f9fec8",
   "metadata": {},
   "outputs": [],
   "source": [
    "a = []\n",
    "for x in lst:\n",
    "    if x%2==0:\n",
    "        a.append(\"two\")\n",
    "    elif x%3==0:\n",
    "        a.append(\"three\")\n",
    "    else:    \n",
    "        a.append(\"not a & 3\")"
   ]
  },
  {
   "cell_type": "code",
   "execution_count": 38,
   "id": "dfd2ae75-97e4-41bf-978f-30aad7d3a813",
   "metadata": {},
   "outputs": [
    {
     "data": {
      "text/plain": [
       "['not a & 3',\n",
       " 'two',\n",
       " 'three',\n",
       " 'two',\n",
       " 'not a & 3',\n",
       " 'two',\n",
       " 'not a & 3',\n",
       " 'two',\n",
       " 'three',\n",
       " 'two']"
      ]
     },
     "execution_count": 38,
     "metadata": {},
     "output_type": "execute_result"
    }
   ],
   "source": [
    "a"
   ]
  },
  {
   "cell_type": "code",
   "execution_count": null,
   "id": "777a7437-a292-4572-8491-187312d19159",
   "metadata": {},
   "outputs": [],
   "source": []
  }
 ],
 "metadata": {
  "kernelspec": {
   "display_name": "Python 3 (ipykernel)",
   "language": "python",
   "name": "python3"
  },
  "language_info": {
   "codemirror_mode": {
    "name": "ipython",
    "version": 3
   },
   "file_extension": ".py",
   "mimetype": "text/x-python",
   "name": "python",
   "nbconvert_exporter": "python",
   "pygments_lexer": "ipython3",
   "version": "3.10.8"
  }
 },
 "nbformat": 4,
 "nbformat_minor": 5
}
