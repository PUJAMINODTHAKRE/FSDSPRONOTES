{
 "cells": [
  {
   "cell_type": "raw",
   "id": "66cad389-6b4e-447f-811f-c42fce97b386",
   "metadata": {},
   "source": [
    "Functions "
   ]
  },
  {
   "cell_type": "code",
   "execution_count": 1,
   "id": "5b90490d-74e1-4a2f-b805-95f0848af7db",
   "metadata": {},
   "outputs": [
    {
     "name": "stdout",
     "output_type": "stream",
     "text": [
      "30\n"
     ]
    }
   ],
   "source": [
    "a=10\n",
    "b=20\n",
    "print(a+b)"
   ]
  },
  {
   "cell_type": "code",
   "execution_count": 2,
   "id": "48869663-d09a-493f-a0e1-025b5f6e12be",
   "metadata": {},
   "outputs": [
    {
     "name": "stdout",
     "output_type": "stream",
     "text": [
      "114\n"
     ]
    }
   ],
   "source": [
    "a=80\n",
    "b=34\n",
    "print(a+b)"
   ]
  },
  {
   "cell_type": "code",
   "execution_count": 3,
   "id": "99ef3435-c054-4bab-bffa-71b7b1815f07",
   "metadata": {},
   "outputs": [
    {
     "name": "stdout",
     "output_type": "stream",
     "text": [
      "70\n"
     ]
    }
   ],
   "source": [
    "a=30\n",
    "b=40\n",
    "print(a+b)"
   ]
  },
  {
   "cell_type": "code",
   "execution_count": 4,
   "id": "cbb5af5d-bb63-4de4-9f25-da593e79c747",
   "metadata": {},
   "outputs": [],
   "source": [
    "def add_nums(a,b):\n",
    "    return a+b"
   ]
  },
  {
   "cell_type": "raw",
   "id": "b04e8dd9-7c32-4abd-90b8-47c5dd430c62",
   "metadata": {},
   "source": [
    "def add(arguments):\n",
    "#     function body\n",
    "    return"
   ]
  },
  {
   "cell_type": "code",
   "execution_count": 8,
   "id": "c8f57548-d089-4684-8264-09709d529570",
   "metadata": {},
   "outputs": [],
   "source": [
    "def great():\n",
    "     print(\"Hello world\")"
   ]
  },
  {
   "cell_type": "raw",
   "id": "e3d098f2-a869-48bf-bc86-d7280c3955cf",
   "metadata": {},
   "source": [
    "Call a function\n",
    "\n",
    "functionname()\n",
    "tocalla function"
   ]
  },
  {
   "cell_type": "code",
   "execution_count": 9,
   "id": "c2a0dc4a-c71c-4f9e-8775-20a4b816f3c2",
   "metadata": {},
   "outputs": [],
   "source": [
    "def addnum():\n",
    "    a=100\n",
    "    b=233\n",
    "    c=a+b\n",
    "    print(c)"
   ]
  },
  {
   "cell_type": "code",
   "execution_count": 10,
   "id": "33eb1775-8211-4686-b8e1-e74b6d078042",
   "metadata": {},
   "outputs": [
    {
     "name": "stdout",
     "output_type": "stream",
     "text": [
      "333\n"
     ]
    }
   ],
   "source": [
    "addnum()"
   ]
  },
  {
   "cell_type": "code",
   "execution_count": 11,
   "id": "ec0317eb-7cdd-4d21-ae88-70231144e5e3",
   "metadata": {},
   "outputs": [
    {
     "name": "stdout",
     "output_type": "stream",
     "text": [
      "333\n"
     ]
    }
   ],
   "source": [
    "addnum()"
   ]
  },
  {
   "cell_type": "raw",
   "id": "44b2008a-4181-4414-ae31-58eea8b562ab",
   "metadata": {},
   "source": [
    "Arguments when user wants to give inputs"
   ]
  },
  {
   "cell_type": "code",
   "execution_count": 12,
   "id": "e902714f-1349-43e7-bd28-80ba540ac659",
   "metadata": {},
   "outputs": [],
   "source": [
    "def add2num():\n",
    "    a=int(input(\"Enter first number:\"))\n",
    "    b=int(input(\"Enter second number:\"))\n",
    "    c=a+b\n",
    "    print(c)"
   ]
  },
  {
   "cell_type": "code",
   "execution_count": 13,
   "id": "7c001e9a-58e4-4c08-9dd1-b3b185f89b7a",
   "metadata": {},
   "outputs": [
    {
     "name": "stdin",
     "output_type": "stream",
     "text": [
      "Enter first number: 2\n",
      "Enter second number: 4\n"
     ]
    },
    {
     "name": "stdout",
     "output_type": "stream",
     "text": [
      "6\n"
     ]
    }
   ],
   "source": [
    "add2num()"
   ]
  },
  {
   "cell_type": "code",
   "execution_count": 14,
   "id": "86178249-cee2-464c-9125-7068a65d619e",
   "metadata": {},
   "outputs": [],
   "source": [
    "def multwonum(x,y):\n",
    "    a=x\n",
    "    b=y\n",
    "    c=a*b\n",
    "    print(c)"
   ]
  },
  {
   "cell_type": "code",
   "execution_count": 17,
   "id": "0363486c-3d34-466b-b787-cbefc31e5df3",
   "metadata": {},
   "outputs": [
    {
     "ename": "TypeError",
     "evalue": "multwonum() missing 2 required positional arguments: 'x' and 'y'",
     "output_type": "error",
     "traceback": [
      "\u001b[0;31m---------------------------------------------------------------------------\u001b[0m",
      "\u001b[0;31mTypeError\u001b[0m                                 Traceback (most recent call last)",
      "Cell \u001b[0;32mIn[17], line 1\u001b[0m\n\u001b[0;32m----> 1\u001b[0m \u001b[43mmultwonum\u001b[49m\u001b[43m(\u001b[49m\u001b[43m)\u001b[49m\n",
      "\u001b[0;31mTypeError\u001b[0m: multwonum() missing 2 required positional arguments: 'x' and 'y'"
     ]
    }
   ],
   "source": [
    "multwonum()"
   ]
  },
  {
   "cell_type": "code",
   "execution_count": 19,
   "id": "bf275c34-23bf-46ed-ad63-2f6486e9c942",
   "metadata": {},
   "outputs": [
    {
     "name": "stdout",
     "output_type": "stream",
     "text": [
      "8\n"
     ]
    }
   ],
   "source": [
    "multwonum(2,4)"
   ]
  },
  {
   "cell_type": "code",
   "execution_count": 20,
   "id": "916f1bd4-526d-411d-a0b4-6b19180ce1b0",
   "metadata": {},
   "outputs": [],
   "source": [
    "def intro(name):\n",
    "    print(\"hi\",name)"
   ]
  },
  {
   "cell_type": "code",
   "execution_count": 22,
   "id": "aaa4eabd-c38d-4dd8-b0ac-5eafaca72fcf",
   "metadata": {},
   "outputs": [
    {
     "name": "stdout",
     "output_type": "stream",
     "text": [
      "hi pwskills\n"
     ]
    }
   ],
   "source": [
    "intro('pwskills')"
   ]
  },
  {
   "cell_type": "code",
   "execution_count": 23,
   "id": "f106c364-3214-4e72-abad-4914b13d9e6c",
   "metadata": {},
   "outputs": [],
   "source": [
    "def concat(first_name,last_name):\n",
    "    print('hi',first_name+last_name)"
   ]
  },
  {
   "cell_type": "code",
   "execution_count": 25,
   "id": "a0c3f221-80d8-487f-b9b9-340e94f4968d",
   "metadata": {},
   "outputs": [
    {
     "name": "stdout",
     "output_type": "stream",
     "text": [
      "hi ATULTRIPATHI\n"
     ]
    }
   ],
   "source": [
    "concat('ATUL','TRIPATHI')"
   ]
  },
  {
   "cell_type": "code",
   "execution_count": 31,
   "id": "45960b60-d2dc-4471-aa07-f7bcf1f19099",
   "metadata": {},
   "outputs": [],
   "source": [
    "def abs(num):\n",
    "    if num>=0:\n",
    "        return num\n",
    "    else:\n",
    "        return -num"
   ]
  },
  {
   "cell_type": "code",
   "execution_count": 32,
   "id": "04f3298b-cce2-419d-b21e-d35d35c8ca17",
   "metadata": {},
   "outputs": [
    {
     "data": {
      "text/plain": [
       "4"
      ]
     },
     "execution_count": 32,
     "metadata": {},
     "output_type": "execute_result"
    }
   ],
   "source": [
    "abs(4)"
   ]
  },
  {
   "cell_type": "code",
   "execution_count": 33,
   "id": "f78ca05a-0da8-4d9e-9b0e-c35105827035",
   "metadata": {},
   "outputs": [
    {
     "data": {
      "text/plain": [
       "4"
      ]
     },
     "execution_count": 33,
     "metadata": {},
     "output_type": "execute_result"
    }
   ],
   "source": [
    "abs(-4)"
   ]
  },
  {
   "cell_type": "code",
   "execution_count": 13,
   "id": "d492cbac-4aa7-48f1-b808-27f0aafc2e9c",
   "metadata": {},
   "outputs": [],
   "source": [
    "def fullname(a,b):\n",
    "    c=a+b\n",
    "    return c"
   ]
  },
  {
   "cell_type": "code",
   "execution_count": 14,
   "id": "9e179bdf-1cc6-4290-ac49-7cf90cf1d45e",
   "metadata": {},
   "outputs": [],
   "source": [
    "x=fullname('pw','skills')"
   ]
  },
  {
   "cell_type": "code",
   "execution_count": 15,
   "id": "eb762fa7-b8a0-4d3f-ba31-804831bad13d",
   "metadata": {},
   "outputs": [
    {
     "data": {
      "text/plain": [
       "str"
      ]
     },
     "execution_count": 15,
     "metadata": {},
     "output_type": "execute_result"
    }
   ],
   "source": [
    "type(x)"
   ]
  },
  {
   "cell_type": "code",
   "execution_count": 8,
   "id": "1de67765-e1ed-4006-8d22-824468bea336",
   "metadata": {},
   "outputs": [],
   "source": [
    "def fullname(a,b):\n",
    "    c=a+b\n",
    "    print(c)"
   ]
  },
  {
   "cell_type": "code",
   "execution_count": 9,
   "id": "bf7c30a8-5624-4ce6-b347-1b82ff7a156c",
   "metadata": {},
   "outputs": [
    {
     "name": "stdout",
     "output_type": "stream",
     "text": [
      "pwskills\n"
     ]
    }
   ],
   "source": [
    "x=fullname('pw','skills')"
   ]
  },
  {
   "cell_type": "code",
   "execution_count": 10,
   "id": "6b510b6b-d3d7-49ce-bba0-e04ac45171fd",
   "metadata": {},
   "outputs": [],
   "source": [
    "x"
   ]
  },
  {
   "cell_type": "code",
   "execution_count": 11,
   "id": "21bac538-5c8a-4520-a1ef-8624eba53d0d",
   "metadata": {},
   "outputs": [
    {
     "data": {
      "text/plain": [
       "NoneType"
      ]
     },
     "execution_count": 11,
     "metadata": {},
     "output_type": "execute_result"
    }
   ],
   "source": [
    "type(x)"
   ]
  },
  {
   "cell_type": "code",
   "execution_count": 16,
   "id": "7b59b2e4-4c41-4c37-9cb3-3671acfb7517",
   "metadata": {},
   "outputs": [],
   "source": [
    "def fullname(a,b):\n",
    "    c=a+b\n",
    "    print(c)"
   ]
  },
  {
   "cell_type": "code",
   "execution_count": 19,
   "id": "7b12ba13-d65d-4904-bbb8-ed90c24ecbd5",
   "metadata": {},
   "outputs": [
    {
     "name": "stdout",
     "output_type": "stream",
     "text": [
      "pwskills\n"
     ]
    }
   ],
   "source": [
    "x=fullname('pw','skills')"
   ]
  },
  {
   "cell_type": "code",
   "execution_count": 20,
   "id": "945c4b9f-32a6-45fd-a8fa-9d6e1a8292ee",
   "metadata": {},
   "outputs": [],
   "source": [
    "x"
   ]
  },
  {
   "cell_type": "code",
   "execution_count": 21,
   "id": "1003bedf-116a-4b66-a22b-2d4c632ab7d6",
   "metadata": {},
   "outputs": [
    {
     "data": {
      "text/plain": [
       "NoneType"
      ]
     },
     "execution_count": 21,
     "metadata": {},
     "output_type": "execute_result"
    }
   ],
   "source": [
    "type(x)"
   ]
  },
  {
   "cell_type": "code",
   "execution_count": 22,
   "id": "4e31fb32-70f4-4246-a5dc-fe0f7693d445",
   "metadata": {},
   "outputs": [],
   "source": [
    "def cal(x,y):\n",
    "    a=x\n",
    "    b=y\n",
    "    c=a+b\n",
    "    d=a-b\n",
    "    e=a*b\n",
    "    return c,d,e"
   ]
  },
  {
   "cell_type": "code",
   "execution_count": 24,
   "id": "b64183b5-2bb1-401a-a932-1503b3718c20",
   "metadata": {},
   "outputs": [],
   "source": [
    "x=cal(3,4)"
   ]
  },
  {
   "cell_type": "code",
   "execution_count": 25,
   "id": "beb849ff-ab59-4eeb-81b6-11c6ea8e232a",
   "metadata": {},
   "outputs": [
    {
     "data": {
      "text/plain": [
       "(7, -1, 12)"
      ]
     },
     "execution_count": 25,
     "metadata": {},
     "output_type": "execute_result"
    }
   ],
   "source": [
    "x"
   ]
  },
  {
   "cell_type": "code",
   "execution_count": 26,
   "id": "8ca75f50-783f-4a3f-a82b-77ba2078f995",
   "metadata": {},
   "outputs": [
    {
     "data": {
      "text/plain": [
       "tuple"
      ]
     },
     "execution_count": 26,
     "metadata": {},
     "output_type": "execute_result"
    }
   ],
   "source": [
    "type(x)"
   ]
  },
  {
   "cell_type": "code",
   "execution_count": 27,
   "id": "a5a51116-f6ba-4294-adff-9ecc92e4e9d5",
   "metadata": {},
   "outputs": [],
   "source": [
    "# find area of the circle 3.14*r*r"
   ]
  },
  {
   "cell_type": "code",
   "execution_count": 28,
   "id": "b8bea638-3a9c-43c2-9888-5d3558ab2e66",
   "metadata": {},
   "outputs": [],
   "source": [
    "def area(r):\n",
    "    a=3.14*r*r\n",
    "    return a"
   ]
  },
  {
   "cell_type": "code",
   "execution_count": 29,
   "id": "c5305bfa-d892-4aeb-ab37-cf575593e19c",
   "metadata": {},
   "outputs": [
    {
     "data": {
      "text/plain": [
       "12.56"
      ]
     },
     "execution_count": 29,
     "metadata": {},
     "output_type": "execute_result"
    }
   ],
   "source": [
    "area(2)"
   ]
  },
  {
   "cell_type": "raw",
   "id": "9845bdc8-5614-4f16-bd90-3283688a27d3",
   "metadata": {},
   "source": [
    "find area of triangle"
   ]
  },
  {
   "cell_type": "code",
   "execution_count": 30,
   "id": "76955888-6516-4d6c-9736-c90a11a168fc",
   "metadata": {},
   "outputs": [],
   "source": [
    "def area(l,h):\n",
    "    a=0.5*l*h\n",
    "    return a"
   ]
  },
  {
   "cell_type": "code",
   "execution_count": 31,
   "id": "a81257ef-b7ab-409c-a026-4135886c7834",
   "metadata": {},
   "outputs": [
    {
     "data": {
      "text/plain": [
       "3.0"
      ]
     },
     "execution_count": 31,
     "metadata": {},
     "output_type": "execute_result"
    }
   ],
   "source": [
    "area(2,3)"
   ]
  },
  {
   "cell_type": "raw",
   "id": "2e1b782e-2c41-4825-9b44-d140e1006fa9",
   "metadata": {},
   "source": [
    "1.Print the first five inttegers with ascending order with one number in each line \n",
    "\n",
    "2.Print the following pattern\n",
    "\n",
    "*\n",
    "**\n",
    "***\n",
    "****\n",
    "*****\n",
    "   There are nospaces between cosecutive stars.There are no spaces at the end of each line.\n",
    "   \n",
    "3.Accept an integer as input and print it's square as output\n",
    "\n",
    "4.Accept two integers as input and print it's sum as output.\n",
    "\n",
    "5.Accept two words as input and print two words after after adding a space between them."
   ]
  },
  {
   "cell_type": "code",
   "execution_count": 33,
   "id": "5ec68d71-d5f2-47f3-8a66-36b46e4b10d1",
   "metadata": {},
   "outputs": [],
   "source": [
    "def numbers():\n",
    "    for i in range(1,6):\n",
    "        print(i)"
   ]
  },
  {
   "cell_type": "code",
   "execution_count": 34,
   "id": "7d6e1a1c-d656-46fd-bfe4-db79348fd0e7",
   "metadata": {},
   "outputs": [
    {
     "name": "stdout",
     "output_type": "stream",
     "text": [
      "1\n",
      "2\n",
      "3\n",
      "4\n",
      "5\n"
     ]
    }
   ],
   "source": [
    "numbers()"
   ]
  },
  {
   "cell_type": "code",
   "execution_count": 35,
   "id": "6f968d24-961c-4aff-a3e9-7f3a07383c39",
   "metadata": {},
   "outputs": [],
   "source": [
    "def sq():\n",
    "    a=int(input(\"Enter the number\"))\n",
    "    return a*a"
   ]
  },
  {
   "cell_type": "code",
   "execution_count": 37,
   "id": "4098707d-8761-4c87-bc3c-8b998ebb41ca",
   "metadata": {},
   "outputs": [
    {
     "name": "stdin",
     "output_type": "stream",
     "text": [
      "Enter the number 4\n"
     ]
    },
    {
     "data": {
      "text/plain": [
       "16"
      ]
     },
     "execution_count": 37,
     "metadata": {},
     "output_type": "execute_result"
    }
   ],
   "source": [
    "sq()"
   ]
  },
  {
   "cell_type": "code",
   "execution_count": 39,
   "id": "72cbb0c7-7ca4-4e13-998a-d4aaae1d3dec",
   "metadata": {},
   "outputs": [
    {
     "name": "stdin",
     "output_type": "stream",
     "text": [
      "Enter the first number:  3\n",
      "Enter the second number:  4\n"
     ]
    },
    {
     "name": "stdout",
     "output_type": "stream",
     "text": [
      "The sum of 3 and 4 is 7: \n"
     ]
    }
   ],
   "source": [
    "num1 = int(input(\"Enter the first number: \"))\n",
    "num2 = int(input(\"Enter the second number: \"))\n",
    "num3 = num1 + num2\n",
    "print(f\"The sum of {num1} and {num2} is {num3}: \". format(num1, num2, num3))"
   ]
  },
  {
   "cell_type": "code",
   "execution_count": 40,
   "id": "24c8d43a-8aab-42f2-b995-e493908bb61f",
   "metadata": {},
   "outputs": [],
   "source": [
    "def fullname(first ,second):\n",
    "    print(first ,\" \",second)"
   ]
  },
  {
   "cell_type": "code",
   "execution_count": 41,
   "id": "9f7d065d-eeed-4239-b451-c4a68807485c",
   "metadata": {},
   "outputs": [
    {
     "name": "stdout",
     "output_type": "stream",
     "text": [
      "pw   skill\n"
     ]
    }
   ],
   "source": [
    "fullname('pw','skill')"
   ]
  },
  {
   "cell_type": "raw",
   "id": "50249fa0-7918-4bd9-b4c3-e49de613a71b",
   "metadata": {},
   "source": [
    "create a python program that includes a user-defined function called print_even_number().\n",
    "the function should prompt the user to set a range limit before printing\n",
    "all even numbers upto that limit"
   ]
  },
  {
   "cell_type": "code",
   "execution_count": 44,
   "id": "ea1009fd-82be-404e-9177-91148dbca1b3",
   "metadata": {},
   "outputs": [],
   "source": [
    "def print_even_number():\n",
    "    for i in range(int(input(\"Enter the range:\"))+1):\n",
    "        if i%2==0:\n",
    "            print(i)\n",
    "        else:\n",
    "            continue\n",
    "     "
   ]
  },
  {
   "cell_type": "code",
   "execution_count": 45,
   "id": "c2691be9-3f58-48fd-8246-df60fb7e2dfd",
   "metadata": {},
   "outputs": [
    {
     "name": "stdin",
     "output_type": "stream",
     "text": [
      "Enter the range: 60\n"
     ]
    },
    {
     "name": "stdout",
     "output_type": "stream",
     "text": [
      "0\n",
      "2\n",
      "4\n",
      "6\n",
      "8\n",
      "10\n",
      "12\n",
      "14\n",
      "16\n",
      "18\n",
      "20\n",
      "22\n",
      "24\n",
      "26\n",
      "28\n",
      "30\n",
      "32\n",
      "34\n",
      "36\n",
      "38\n",
      "40\n",
      "42\n",
      "44\n",
      "46\n",
      "48\n",
      "50\n",
      "52\n",
      "54\n",
      "56\n",
      "58\n",
      "60\n"
     ]
    }
   ],
   "source": [
    "print_even_number()"
   ]
  },
  {
   "cell_type": "code",
   "execution_count": 46,
   "id": "3b01a26e-3a3c-42e4-9af1-972cc6e041f2",
   "metadata": {},
   "outputs": [],
   "source": [
    "def print_even_number():\n",
    "    limit1=int(input('Enter the first limit of even numbers'))\n",
    "    limit2=int(input('Enter the second limit of even numbers'))\n",
    "    for i in range(limit1,limit2+1):\n",
    "        if i%2==0:\n",
    "            print(i,end=' ')\n",
    "            "
   ]
  },
  {
   "cell_type": "code",
   "execution_count": 48,
   "id": "02017bc0-9b9c-47c3-bac7-19ea40ae96e4",
   "metadata": {},
   "outputs": [
    {
     "name": "stdin",
     "output_type": "stream",
     "text": [
      "Enter 2 numbers between which you want the even number 2 4\n"
     ]
    },
    {
     "name": "stdout",
     "output_type": "stream",
     "text": [
      "2\n",
      "4\n"
     ]
    }
   ],
   "source": [
    "def print_even_numbers():\n",
    "    a , b = input(\"Enter 2 numbers between which you want the even number\").split()\n",
    "    \n",
    "    for i in range( int(a), int(b)+1):\n",
    "        if i%2 == 0:\n",
    "            print(i)\n",
    "            \n",
    "print_even_numbers()"
   ]
  },
  {
   "cell_type": "raw",
   "id": "25ebc3b9-1064-4b00-a85f-16836dd68fab",
   "metadata": {},
   "source": [
    "13. Accept three positive integers as input and check if they form the \n",
    "sides of a right triangle. Print YES if they form one, and NO is they do \n",
    "not. The input will have three lines, with one integer on each line. \n",
    "The output should be a single line containing one of these two \n",
    "strings: YES or NO."
   ]
  },
  {
   "cell_type": "code",
   "execution_count": 49,
   "id": "f76e1233-c68e-4fb4-8b63-00d451c3a2fa",
   "metadata": {},
   "outputs": [
    {
     "name": "stdin",
     "output_type": "stream",
     "text": [
      "Enter a side 1 of right triangle 2\n",
      "Enter a side 2 of right triangle 3\n",
      "Enter a side 3 of right triangle 4\n"
     ]
    },
    {
     "name": "stdout",
     "output_type": "stream",
     "text": [
      "NO\n"
     ]
    }
   ],
   "source": [
    "a = int(input(\"Enter a side 1 of right triangle\"))\n",
    "b = int(input(\"Enter a side 2 of right triangle\"))\n",
    "c = int(input(\"Enter a side 3 of right triangle\"))\n",
    "\n",
    "\n",
    "hyp = a\n",
    "side1 = b\n",
    "side2 = c\n",
    "\n",
    "if b > hyp :\n",
    "    hyp,side1=b,hyp\n",
    "\n",
    "if c > hyp:\n",
    "    hyp,side1,side2=c,hyp,side1\n",
    "\n",
    "elif c>side1 :\n",
    "    b,c = side2,side1\n",
    "        \n",
    "if hyp*hyp==side1*side1+side2*side2:\n",
    "    print(\"YES\")\n",
    "else:\n",
    "    print(\"NO\")"
   ]
  },
  {
   "cell_type": "code",
   "execution_count": 50,
   "id": "6d7004de-8fb0-42c9-9ee6-bb108ee236d8",
   "metadata": {},
   "outputs": [
    {
     "name": "stdin",
     "output_type": "stream",
     "text": [
      "Enter the first side of triangle :  1\n",
      "Enter the second side of triangle :  2\n",
      "Enter the third side of triangle :  5\n"
     ]
    },
    {
     "name": "stdout",
     "output_type": "stream",
     "text": [
      "It is not a right angled triangle\n"
     ]
    }
   ],
   "source": [
    "def checkRightTriangle(a,b,c):\n",
    "    if a**2 == b**2 + c**2 or b**2 == c**2 + a**2 or c**2 == a**2 + b**2:\n",
    "        print('It is a right angled triangle')\n",
    "    else:\n",
    "        print('It is not a right angled triangle')\n",
    "a = int(input('Enter the first side of triangle : '))\n",
    "b = int(input('Enter the second side of triangle : '))\n",
    "c = int(input('Enter the third side of triangle : '))\n",
    "checkRightTriangle(a,b,c)"
   ]
  },
  {
   "cell_type": "code",
   "execution_count": null,
   "id": "a3da776b-8b9b-4f20-aaf2-74d4d771882c",
   "metadata": {},
   "outputs": [],
   "source": [
    "17.Accept a string as input. Your task is to determine if the input string is a valid password or not. For a \n",
    "string to be a valid password, it must satisfy all the conditions given below:\n",
    "(1) It should have at least 8 and at most 32 characters\n",
    "(2) It should start with an uppercase or lowercase letter\n",
    "(3) It should not have any of these characters: / \\ = ' \"\n",
    "(4) It should not have spaces\n",
    "It could have any character that is not mentioned in the list of characters to be avoided (points 3 and \n",
    "4). Output True if the string forms a valid password and False otherwise"
   ]
  },
  {
   "cell_type": "code",
   "execution_count": null,
   "id": "3d3f854c-c812-4daf-9850-0ddc040f1ea7",
   "metadata": {},
   "outputs": [],
   "source": []
  }
 ],
 "metadata": {
  "kernelspec": {
   "display_name": "Python 3 (ipykernel)",
   "language": "python",
   "name": "python3"
  },
  "language_info": {
   "codemirror_mode": {
    "name": "ipython",
    "version": 3
   },
   "file_extension": ".py",
   "mimetype": "text/x-python",
   "name": "python",
   "nbconvert_exporter": "python",
   "pygments_lexer": "ipython3",
   "version": "3.10.8"
  }
 },
 "nbformat": 4,
 "nbformat_minor": 5
}
