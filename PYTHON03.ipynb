{
 "cells": [
  {
   "cell_type": "markdown",
   "id": "9365c056-49d1-4c8a-8ac7-e1eabe6341b6",
   "metadata": {},
   "source": [
    "Different data types "
   ]
  },
  {
   "cell_type": "markdown",
   "id": "733d75b7-1e51-45fd-a5e3-083873712764",
   "metadata": {},
   "source": [
    "Numeric,Float,Complex,String,Tuple,List,Dictionaries"
   ]
  },
  {
   "cell_type": "code",
   "execution_count": 1,
   "id": "d2d235c1-9ea3-4a0a-a08e-4f17ad25a7a9",
   "metadata": {},
   "outputs": [],
   "source": [
    "x=10"
   ]
  },
  {
   "cell_type": "code",
   "execution_count": 2,
   "id": "e1f830bf-a2d3-412e-84ce-3ce6117f33fd",
   "metadata": {},
   "outputs": [
    {
     "data": {
      "text/plain": [
       "10"
      ]
     },
     "execution_count": 2,
     "metadata": {},
     "output_type": "execute_result"
    }
   ],
   "source": [
    "x"
   ]
  },
  {
   "cell_type": "code",
   "execution_count": 3,
   "id": "2f0dda67-9791-444a-a4b5-b6d1b3c293f0",
   "metadata": {},
   "outputs": [],
   "source": [
    "x=1.23"
   ]
  },
  {
   "cell_type": "code",
   "execution_count": 4,
   "id": "35edfaec-189d-404b-84ff-7da4684fdf00",
   "metadata": {},
   "outputs": [
    {
     "data": {
      "text/plain": [
       "1.23"
      ]
     },
     "execution_count": 4,
     "metadata": {},
     "output_type": "execute_result"
    }
   ],
   "source": [
    "x"
   ]
  },
  {
   "cell_type": "code",
   "execution_count": 5,
   "id": "0f1876fe-a3f8-4f21-9f6c-6e182bb564b9",
   "metadata": {},
   "outputs": [],
   "source": [
    "x=\"Imran\""
   ]
  },
  {
   "cell_type": "code",
   "execution_count": 6,
   "id": "9ae66860-927c-4a64-ba7a-69ec3df0cde8",
   "metadata": {},
   "outputs": [
    {
     "data": {
      "text/plain": [
       "'Imran'"
      ]
     },
     "execution_count": 6,
     "metadata": {},
     "output_type": "execute_result"
    }
   ],
   "source": [
    "x"
   ]
  },
  {
   "cell_type": "code",
   "execution_count": 7,
   "id": "f4f7762a-3d90-4127-aa25-f0fe155cc9b7",
   "metadata": {},
   "outputs": [],
   "source": [
    "x=['hi',3,4,5,6,1.24]"
   ]
  },
  {
   "cell_type": "code",
   "execution_count": 8,
   "id": "1a16c4fb-3e1a-4a19-b821-a66963e668c2",
   "metadata": {},
   "outputs": [
    {
     "data": {
      "text/plain": [
       "['hi', 3, 4, 5, 6, 1.24]"
      ]
     },
     "execution_count": 8,
     "metadata": {},
     "output_type": "execute_result"
    }
   ],
   "source": [
    "x"
   ]
  },
  {
   "cell_type": "code",
   "execution_count": 9,
   "id": "e6abfa4e-7e63-4902-a513-032a08edb607",
   "metadata": {},
   "outputs": [],
   "source": [
    "y={'name':'atul'}"
   ]
  },
  {
   "cell_type": "code",
   "execution_count": 10,
   "id": "131a6b3b-e9b7-4501-843f-4cce597a1563",
   "metadata": {},
   "outputs": [
    {
     "data": {
      "text/plain": [
       "{'name': 'atul'}"
      ]
     },
     "execution_count": 10,
     "metadata": {},
     "output_type": "execute_result"
    }
   ],
   "source": [
    "y"
   ]
  },
  {
   "cell_type": "code",
   "execution_count": 11,
   "id": "282d8637-077d-4618-8f59-11dc2d61bfe3",
   "metadata": {},
   "outputs": [],
   "source": [
    "h={1,2,3,4}"
   ]
  },
  {
   "cell_type": "code",
   "execution_count": 12,
   "id": "240a5bc3-789c-4d35-8d17-dfc4aca814be",
   "metadata": {},
   "outputs": [
    {
     "data": {
      "text/plain": [
       "set"
      ]
     },
     "execution_count": 12,
     "metadata": {},
     "output_type": "execute_result"
    }
   ],
   "source": [
    "type(h)"
   ]
  },
  {
   "cell_type": "code",
   "execution_count": 13,
   "id": "69a008a7-82bd-4731-90ff-6ac6e51f0b6b",
   "metadata": {},
   "outputs": [
    {
     "data": {
      "text/plain": [
       "dict"
      ]
     },
     "execution_count": 13,
     "metadata": {},
     "output_type": "execute_result"
    }
   ],
   "source": [
    "type(y)"
   ]
  },
  {
   "cell_type": "markdown",
   "id": "2d7b0584-9961-488c-ad2f-5c7356804693",
   "metadata": {},
   "source": [
    "Input and Output Functions"
   ]
  },
  {
   "cell_type": "code",
   "execution_count": 15,
   "id": "6a9215e8-39da-4b86-9596-95b511b09f07",
   "metadata": {},
   "outputs": [
    {
     "name": "stdin",
     "output_type": "stream",
     "text": [
      " ATUL\n"
     ]
    }
   ],
   "source": [
    "X=input()"
   ]
  },
  {
   "cell_type": "code",
   "execution_count": 16,
   "id": "20c7d6af-d0a5-4582-8c7a-e59b88b12b10",
   "metadata": {},
   "outputs": [
    {
     "data": {
      "text/plain": [
       "'ATUL'"
      ]
     },
     "execution_count": 16,
     "metadata": {},
     "output_type": "execute_result"
    }
   ],
   "source": [
    "X"
   ]
  },
  {
   "cell_type": "code",
   "execution_count": 17,
   "id": "127719bf-7686-4ae8-9199-8e129196bc14",
   "metadata": {},
   "outputs": [
    {
     "name": "stdin",
     "output_type": "stream",
     "text": [
      " A\n"
     ]
    }
   ],
   "source": [
    "y=input()"
   ]
  },
  {
   "cell_type": "code",
   "execution_count": 18,
   "id": "ef410ad0-1333-4d88-a915-4ca8663e0684",
   "metadata": {},
   "outputs": [
    {
     "data": {
      "text/plain": [
       "'A'"
      ]
     },
     "execution_count": 18,
     "metadata": {},
     "output_type": "execute_result"
    }
   ],
   "source": [
    "y"
   ]
  },
  {
   "cell_type": "code",
   "execution_count": 23,
   "id": "cad54588-2cb5-4119-ac12-c52c4e48ffe2",
   "metadata": {},
   "outputs": [
    {
     "name": "stdin",
     "output_type": "stream",
     "text": [
      "Enter your name: ATUL\n"
     ]
    }
   ],
   "source": [
    "w=input(\"Enter your name:\")"
   ]
  },
  {
   "cell_type": "code",
   "execution_count": 26,
   "id": "fe5a9cd8-f433-4649-a0c5-554eea518857",
   "metadata": {},
   "outputs": [
    {
     "data": {
      "text/plain": [
       "'ATUL'"
      ]
     },
     "execution_count": 26,
     "metadata": {},
     "output_type": "execute_result"
    }
   ],
   "source": [
    "w"
   ]
  },
  {
   "cell_type": "code",
   "execution_count": 19,
   "id": "470e8e42-ad6f-45c1-bec4-23ad1511b64c",
   "metadata": {},
   "outputs": [
    {
     "name": "stdout",
     "output_type": "stream",
     "text": [
      "Hi imran\n"
     ]
    }
   ],
   "source": [
    "print(\"Hi imran\")"
   ]
  },
  {
   "cell_type": "code",
   "execution_count": 21,
   "id": "edb90bab-2101-46a1-9ca7-38733eee9a4e",
   "metadata": {},
   "outputs": [
    {
     "name": "stdin",
     "output_type": "stream",
     "text": [
      "Enter your name : A\n"
     ]
    },
    {
     "name": "stdout",
     "output_type": "stream",
     "text": [
      "A\n"
     ]
    }
   ],
   "source": [
    "x=input(\"Enter your name :\")\n",
    "print(x)"
   ]
  },
  {
   "cell_type": "code",
   "execution_count": 23,
   "id": "d3f5a84b-40ad-4820-8121-354c12c7edb1",
   "metadata": {},
   "outputs": [
    {
     "name": "stdin",
     "output_type": "stream",
     "text": [
      "Enter your age: 12\n"
     ]
    },
    {
     "name": "stdout",
     "output_type": "stream",
     "text": [
      "My name is 12\n"
     ]
    }
   ],
   "source": [
    "y=input(\"Enter your age:\")\n",
    "print(\"My name is \" +y)"
   ]
  },
  {
   "cell_type": "code",
   "execution_count": 24,
   "id": "8117f1f0-d443-4798-8be8-02b4833800be",
   "metadata": {},
   "outputs": [
    {
     "name": "stdout",
     "output_type": "stream",
     "text": [
      "40\n"
     ]
    }
   ],
   "source": [
    "x=10\n",
    "y=30\n",
    "print(x+y)"
   ]
  },
  {
   "cell_type": "code",
   "execution_count": 29,
   "id": "c3f6c8a0-761a-4480-ad19-915c7a4842dd",
   "metadata": {},
   "outputs": [
    {
     "name": "stdin",
     "output_type": "stream",
     "text": [
      "Enter 1st number: 2\n",
      "Enter 1st number: 3\n"
     ]
    },
    {
     "name": "stdout",
     "output_type": "stream",
     "text": [
      "5\n"
     ]
    }
   ],
   "source": [
    "x=int(input(\"Enter 1st number:\"))\n",
    "y=int(input(\"Enter 1st number:\"))\n",
    "print(x+y)"
   ]
  },
  {
   "cell_type": "code",
   "execution_count": 31,
   "id": "4f7040e1-3f57-4e2b-bd90-97a0a0f956a7",
   "metadata": {},
   "outputs": [
    {
     "name": "stdin",
     "output_type": "stream",
     "text": [
      "Enter any number: 1\n"
     ]
    }
   ],
   "source": [
    "x=int(input(\"Enter any number:\"))"
   ]
  },
  {
   "cell_type": "code",
   "execution_count": 33,
   "id": "47c1973c-1661-43c8-8fa1-57f75046aace",
   "metadata": {},
   "outputs": [
    {
     "data": {
      "text/plain": [
       "1"
      ]
     },
     "execution_count": 33,
     "metadata": {},
     "output_type": "execute_result"
    }
   ],
   "source": [
    "x"
   ]
  },
  {
   "cell_type": "code",
   "execution_count": 34,
   "id": "32c21b19-47ac-4992-b462-6b77695da079",
   "metadata": {},
   "outputs": [
    {
     "name": "stdout",
     "output_type": "stream",
     "text": [
      "Pwskills\n"
     ]
    }
   ],
   "source": [
    "print(\"Pwskills\")"
   ]
  },
  {
   "cell_type": "code",
   "execution_count": 35,
   "id": "908c9da5-6c9b-4c8a-8813-3a53b5da3abe",
   "metadata": {},
   "outputs": [],
   "source": [
    "x=\"Hi\""
   ]
  },
  {
   "cell_type": "code",
   "execution_count": 36,
   "id": "2a56f98b-899a-4cdf-bc6e-48ccf44169cd",
   "metadata": {},
   "outputs": [],
   "source": [
    "y=\"Pwskills\""
   ]
  },
  {
   "cell_type": "code",
   "execution_count": 40,
   "id": "9f4e8875-2bea-4ad2-85dd-2791eba79f53",
   "metadata": {},
   "outputs": [
    {
     "name": "stdout",
     "output_type": "stream",
     "text": [
      "Hi ok Pwskills\n"
     ]
    }
   ],
   "source": [
    "print(f\"{x} ok {y}\")"
   ]
  },
  {
   "cell_type": "code",
   "execution_count": 41,
   "id": "ff635ef4-035c-465d-9010-68a146b1c25e",
   "metadata": {},
   "outputs": [
    {
     "name": "stdout",
     "output_type": "stream",
     "text": [
      "P\n"
     ]
    }
   ],
   "source": [
    "print(\"P\")"
   ]
  },
  {
   "cell_type": "code",
   "execution_count": 42,
   "id": "1928baa3-8d19-4939-9dde-d9fc16249c96",
   "metadata": {},
   "outputs": [
    {
     "name": "stdout",
     "output_type": "stream",
     "text": [
      "S\n"
     ]
    }
   ],
   "source": [
    "print(\"S\")"
   ]
  },
  {
   "cell_type": "code",
   "execution_count": 50,
   "id": "5eb98b1e-4bfe-4b11-8c45-30e59fb0442a",
   "metadata": {},
   "outputs": [
    {
     "name": "stdout",
     "output_type": "stream",
     "text": [
      "ineuron and pw and  skills\n"
     ]
    }
   ],
   "source": [
    "print(\"{2} and {0} and  {1}\".format(\"pw\",\"skills\",\"ineuron\"))"
   ]
  },
  {
   "cell_type": "code",
   "execution_count": 54,
   "id": "bba5b217-9f5b-44d0-85a7-bf4f7480200f",
   "metadata": {},
   "outputs": [
    {
     "name": "stdout",
     "output_type": "stream",
     "text": [
      "89074562 \n",
      "Hii!! \n",
      "$$Howareyou??  \n",
      "10*10=100  \n",
      "(12>10)and True  \n",
      "I am here to learn \"python\"\n"
     ]
    }
   ],
   "source": [
    "print(\"{0} {1} {2}  {3}  {4}  {5}\".format(\"89074562\",\"\\nHii!!\",\"\\n$$Howareyou??\",\"\\n10*10=100\",\"\\n(12>10)and True\",'\\nI am here to learn \"python\"'))"
   ]
  },
  {
   "cell_type": "code",
   "execution_count": 55,
   "id": "e0502532-7926-480e-908b-64ad4d94fb3d",
   "metadata": {},
   "outputs": [
    {
     "name": "stdout",
     "output_type": "stream",
     "text": [
      "$ \n",
      "$ $ \n",
      "$ $ $  \n",
      "$ $ $ $  \n",
      "$ $ $ $ $ \n"
     ]
    }
   ],
   "source": [
    "print(\"{0} {1} {2}  {3}  {4} \".format(\"$\",\"\\n$ $\",\"\\n$ $ $\",\"\\n$ $ $ $\",\"\\n$ $ $ $ $\",))"
   ]
  },
  {
   "cell_type": "code",
   "execution_count": 63,
   "id": "0fe345b1-557d-4c85-bfcf-fe3474a8ab5a",
   "metadata": {},
   "outputs": [
    {
     "name": "stdin",
     "output_type": "stream",
     "text": [
      "Enter a string : Atul\n"
     ]
    },
    {
     "name": "stdout",
     "output_type": "stream",
     "text": [
      "!Atul!\n"
     ]
    }
   ],
   "source": [
    "str=input(\"Enter a string :\")\n",
    "Str=str\n",
    "Str=\"!\"+Str+'!'\n",
    "print(Str)"
   ]
  },
  {
   "cell_type": "code",
   "execution_count": 59,
   "id": "2a4c8f60-e92b-429d-9e21-ccaac7f430c5",
   "metadata": {},
   "outputs": [
    {
     "data": {
      "text/plain": [
       "'A'"
      ]
     },
     "execution_count": 59,
     "metadata": {},
     "output_type": "execute_result"
    }
   ],
   "source": [
    "Str"
   ]
  },
  {
   "cell_type": "code",
   "execution_count": 64,
   "id": "5bfc5a3b-9450-4d09-9512-9547899c0998",
   "metadata": {},
   "outputs": [
    {
     "data": {
      "text/plain": [
       "30"
      ]
     },
     "execution_count": 64,
     "metadata": {},
     "output_type": "execute_result"
    }
   ],
   "source": [
    "a=10\n",
    "b=20\n",
    "a+b"
   ]
  },
  {
   "cell_type": "code",
   "execution_count": 65,
   "id": "a72800f9-3df5-4f06-a9b5-98986c863cb3",
   "metadata": {},
   "outputs": [
    {
     "data": {
      "text/plain": [
       "10"
      ]
     },
     "execution_count": 65,
     "metadata": {},
     "output_type": "execute_result"
    }
   ],
   "source": [
    "b-a"
   ]
  },
  {
   "cell_type": "code",
   "execution_count": 66,
   "id": "5265c51e-b7d9-45fe-bb2e-08547f81c7e0",
   "metadata": {},
   "outputs": [
    {
     "data": {
      "text/plain": [
       "200"
      ]
     },
     "execution_count": 66,
     "metadata": {},
     "output_type": "execute_result"
    }
   ],
   "source": [
    "a*b"
   ]
  },
  {
   "cell_type": "code",
   "execution_count": 67,
   "id": "9a0d64de-9029-4997-b4be-71be773aad1f",
   "metadata": {},
   "outputs": [
    {
     "data": {
      "text/plain": [
       "1.0"
      ]
     },
     "execution_count": 67,
     "metadata": {},
     "output_type": "execute_result"
    }
   ],
   "source": [
    "b/20"
   ]
  },
  {
   "cell_type": "code",
   "execution_count": 72,
   "id": "9d33dff4-a0b8-4123-b507-c6be402c38e2",
   "metadata": {},
   "outputs": [
    {
     "data": {
      "text/plain": [
       "0"
      ]
     },
     "execution_count": 72,
     "metadata": {},
     "output_type": "execute_result"
    }
   ],
   "source": [
    "b%a"
   ]
  },
  {
   "cell_type": "code",
   "execution_count": 73,
   "id": "5d13b432-ec4b-463a-8b97-74c398100238",
   "metadata": {},
   "outputs": [],
   "source": [
    "a=10"
   ]
  },
  {
   "cell_type": "code",
   "execution_count": 74,
   "id": "750bef4d-1364-4b78-a60a-c7aad95e5acb",
   "metadata": {},
   "outputs": [],
   "source": [
    "b=10"
   ]
  },
  {
   "cell_type": "code",
   "execution_count": 75,
   "id": "621cb977-9cf3-4b76-ba9b-13ccd94f6448",
   "metadata": {},
   "outputs": [
    {
     "data": {
      "text/plain": [
       "True"
      ]
     },
     "execution_count": 75,
     "metadata": {},
     "output_type": "execute_result"
    }
   ],
   "source": [
    "a==b"
   ]
  },
  {
   "cell_type": "code",
   "execution_count": 86,
   "id": "b75bd871-3e17-490b-9fa8-d07297727c67",
   "metadata": {},
   "outputs": [],
   "source": [
    "b=10"
   ]
  },
  {
   "cell_type": "code",
   "execution_count": 77,
   "id": "cfb22659-ff07-443f-8bb4-36759eada036",
   "metadata": {},
   "outputs": [
    {
     "data": {
      "text/plain": [
       "False"
      ]
     },
     "execution_count": 77,
     "metadata": {},
     "output_type": "execute_result"
    }
   ],
   "source": [
    "a==b"
   ]
  },
  {
   "cell_type": "code",
   "execution_count": 79,
   "id": "ae861556-fd62-43ee-92a9-c9abaa35ff01",
   "metadata": {},
   "outputs": [
    {
     "data": {
      "text/plain": [
       "False"
      ]
     },
     "execution_count": 79,
     "metadata": {},
     "output_type": "execute_result"
    }
   ],
   "source": [
    "a is b"
   ]
  },
  {
   "cell_type": "markdown",
   "id": "863cb2f8-6b2b-45ac-90a2-42c64743b4d6",
   "metadata": {},
   "source": [
    "Identity Operator"
   ]
  },
  {
   "cell_type": "code",
   "execution_count": 81,
   "id": "36a7a4cc-a498-4903-9993-7343a41e66d9",
   "metadata": {},
   "outputs": [],
   "source": [
    "# Difference betwen is and =="
   ]
  },
  {
   "cell_type": "markdown",
   "id": "688cfb70-dae5-4e5a-93c8-2bd878b12a0b",
   "metadata": {},
   "source": [
    "== Compares the equality of object and the 'is' operator checks whether different variable points the same object or not"
   ]
  },
  {
   "cell_type": "code",
   "execution_count": 87,
   "id": "d6791186-f38a-4c27-9b6b-7c4430b3c0b1",
   "metadata": {},
   "outputs": [
    {
     "data": {
      "text/plain": [
       "140657355964944"
      ]
     },
     "execution_count": 87,
     "metadata": {},
     "output_type": "execute_result"
    }
   ],
   "source": [
    "id(a)"
   ]
  },
  {
   "cell_type": "code",
   "execution_count": 88,
   "id": "7412a589-56e8-427d-915a-1f4460c30e51",
   "metadata": {},
   "outputs": [
    {
     "data": {
      "text/plain": [
       "140657355964944"
      ]
     },
     "execution_count": 88,
     "metadata": {},
     "output_type": "execute_result"
    }
   ],
   "source": [
    "id(b)"
   ]
  },
  {
   "cell_type": "code",
   "execution_count": 89,
   "id": "661c950e-d842-46de-8ce3-8c27628644f7",
   "metadata": {},
   "outputs": [
    {
     "data": {
      "text/plain": [
       "True"
      ]
     },
     "execution_count": 89,
     "metadata": {},
     "output_type": "execute_result"
    }
   ],
   "source": [
    "a is b"
   ]
  },
  {
   "cell_type": "code",
   "execution_count": 90,
   "id": "60907837-3ba1-49f4-9b0f-ed3555ffc2c0",
   "metadata": {},
   "outputs": [
    {
     "data": {
      "text/plain": [
       "False"
      ]
     },
     "execution_count": 90,
     "metadata": {},
     "output_type": "execute_result"
    }
   ],
   "source": [
    "a!=b"
   ]
  },
  {
   "cell_type": "code",
   "execution_count": 91,
   "id": "c3b0bd69-2c22-44ed-95ed-e9151053b636",
   "metadata": {},
   "outputs": [],
   "source": [
    "a=[1,2,3]"
   ]
  },
  {
   "cell_type": "code",
   "execution_count": 92,
   "id": "b7a19ccc-00dd-4883-a211-154d2c96825a",
   "metadata": {},
   "outputs": [],
   "source": [
    "b=[1,2,3]"
   ]
  },
  {
   "cell_type": "code",
   "execution_count": 93,
   "id": "21d82bb9-b28d-46e6-a685-8c7b7901671a",
   "metadata": {},
   "outputs": [
    {
     "data": {
      "text/plain": [
       "False"
      ]
     },
     "execution_count": 93,
     "metadata": {},
     "output_type": "execute_result"
    }
   ],
   "source": [
    "a is b"
   ]
  },
  {
   "cell_type": "code",
   "execution_count": 94,
   "id": "a72a6b5b-9b10-4aa6-bcdd-5bf6aa8fc373",
   "metadata": {},
   "outputs": [
    {
     "data": {
      "text/plain": [
       "140656732853248"
      ]
     },
     "execution_count": 94,
     "metadata": {},
     "output_type": "execute_result"
    }
   ],
   "source": [
    "id(a)"
   ]
  },
  {
   "cell_type": "code",
   "execution_count": 95,
   "id": "8316f7f4-fadf-47ee-9907-03d906711331",
   "metadata": {},
   "outputs": [
    {
     "data": {
      "text/plain": [
       "140656731685952"
      ]
     },
     "execution_count": 95,
     "metadata": {},
     "output_type": "execute_result"
    }
   ],
   "source": [
    "id(b)"
   ]
  },
  {
   "cell_type": "code",
   "execution_count": 96,
   "id": "cb0faedc-dc6c-4491-80c9-34ccfd244a60",
   "metadata": {},
   "outputs": [
    {
     "data": {
      "text/plain": [
       "True"
      ]
     },
     "execution_count": 96,
     "metadata": {},
     "output_type": "execute_result"
    }
   ],
   "source": [
    "a ==b"
   ]
  },
  {
   "cell_type": "code",
   "execution_count": 97,
   "id": "8a0837e3-0e35-40d0-8e81-80cec03f84c1",
   "metadata": {},
   "outputs": [],
   "source": [
    "a=[1,2,3]"
   ]
  },
  {
   "cell_type": "code",
   "execution_count": 98,
   "id": "10799f87-27fb-4928-a458-ab5d6acf5b78",
   "metadata": {},
   "outputs": [],
   "source": [
    "b=a"
   ]
  },
  {
   "cell_type": "code",
   "execution_count": 99,
   "id": "934ecee7-786b-4b5b-bf04-f3e8c9b954ef",
   "metadata": {},
   "outputs": [
    {
     "data": {
      "text/plain": [
       "True"
      ]
     },
     "execution_count": 99,
     "metadata": {},
     "output_type": "execute_result"
    }
   ],
   "source": [
    "a is b"
   ]
  },
  {
   "cell_type": "code",
   "execution_count": 100,
   "id": "ca3b4355-f210-4097-8082-536d5ff2d10d",
   "metadata": {},
   "outputs": [
    {
     "data": {
      "text/plain": [
       "140656725628224"
      ]
     },
     "execution_count": 100,
     "metadata": {},
     "output_type": "execute_result"
    }
   ],
   "source": [
    "id(a)"
   ]
  },
  {
   "cell_type": "code",
   "execution_count": 101,
   "id": "3b5e9d8a-598e-4d95-8e23-74629d6f0f6e",
   "metadata": {},
   "outputs": [
    {
     "data": {
      "text/plain": [
       "140656725628224"
      ]
     },
     "execution_count": 101,
     "metadata": {},
     "output_type": "execute_result"
    }
   ],
   "source": [
    "id(b)"
   ]
  },
  {
   "cell_type": "code",
   "execution_count": 114,
   "id": "c72c0a7e-fffc-4316-9437-357913982f55",
   "metadata": {},
   "outputs": [
    {
     "name": "stdin",
     "output_type": "stream",
     "text": [
      "Enter a number: 12\n"
     ]
    }
   ],
   "source": [
    "c=int(input(\"Enter a number:\"))"
   ]
  },
  {
   "cell_type": "code",
   "execution_count": 117,
   "id": "93239c19-449d-4be7-bb29-84c8b8b899c9",
   "metadata": {},
   "outputs": [],
   "source": [
    "d=pow(3,35)"
   ]
  },
  {
   "cell_type": "code",
   "execution_count": 119,
   "id": "2598161a-8a8a-4af0-a24e-d63d243ae0b6",
   "metadata": {},
   "outputs": [
    {
     "name": "stdout",
     "output_type": "stream",
     "text": [
      "4169295424916642\n"
     ]
    }
   ],
   "source": [
    "y=d/c\n",
    "print(int(y))"
   ]
  },
  {
   "cell_type": "code",
   "execution_count": 120,
   "id": "ecbc6693-20f7-413b-b6e7-357a30acf993",
   "metadata": {},
   "outputs": [
    {
     "data": {
      "text/plain": [
       "4"
      ]
     },
     "execution_count": 120,
     "metadata": {},
     "output_type": "execute_result"
    }
   ],
   "source": [
    "2**2"
   ]
  },
  {
   "cell_type": "code",
   "execution_count": 125,
   "id": "e136a6db-acb7-44de-8cb4-5ac4eabc9aa8",
   "metadata": {},
   "outputs": [],
   "source": [
    "a=10"
   ]
  },
  {
   "cell_type": "code",
   "execution_count": 126,
   "id": "f15e2c95-0b8f-42e9-ad94-7dcce49d23d8",
   "metadata": {},
   "outputs": [],
   "source": [
    "b=20"
   ]
  },
  {
   "cell_type": "code",
   "execution_count": 127,
   "id": "659689c3-4071-4f12-820e-74a739ff054e",
   "metadata": {},
   "outputs": [
    {
     "data": {
      "text/plain": [
       "True"
      ]
     },
     "execution_count": 127,
     "metadata": {},
     "output_type": "execute_result"
    }
   ],
   "source": [
    "a<b"
   ]
  },
  {
   "cell_type": "code",
   "execution_count": 128,
   "id": "8e8d4f31-7bb3-4881-80d0-773a86632116",
   "metadata": {},
   "outputs": [
    {
     "data": {
      "text/plain": [
       "3"
      ]
     },
     "execution_count": 128,
     "metadata": {},
     "output_type": "execute_result"
    }
   ],
   "source": [
    "3%5"
   ]
  },
  {
   "cell_type": "code",
   "execution_count": 129,
   "id": "c51cdefe-2ec5-4721-b87f-6d499bca7be7",
   "metadata": {},
   "outputs": [
    {
     "data": {
      "text/plain": [
       "2"
      ]
     },
     "execution_count": 129,
     "metadata": {},
     "output_type": "execute_result"
    }
   ],
   "source": [
    "5%3"
   ]
  },
  {
   "cell_type": "markdown",
   "id": "6e7a05f1-ad05-45ee-8b9c-2bb71d7d2159",
   "metadata": {},
   "source": [
    "Logical Operators"
   ]
  },
  {
   "cell_type": "code",
   "execution_count": 2,
   "id": "d3c53564-9b71-46c1-83f7-0f9118f43c14",
   "metadata": {},
   "outputs": [],
   "source": [
    "a=10"
   ]
  },
  {
   "cell_type": "code",
   "execution_count": 3,
   "id": "922575c0-7ae0-4e32-a41e-c445dd8c608b",
   "metadata": {},
   "outputs": [],
   "source": [
    "b=4"
   ]
  },
  {
   "cell_type": "code",
   "execution_count": 4,
   "id": "2a69a8b9-8e5f-42d6-b81b-a4c2c0fe317d",
   "metadata": {},
   "outputs": [
    {
     "data": {
      "text/plain": [
       "'0b1010'"
      ]
     },
     "execution_count": 4,
     "metadata": {},
     "output_type": "execute_result"
    }
   ],
   "source": [
    "bin(a)"
   ]
  },
  {
   "cell_type": "code",
   "execution_count": 5,
   "id": "fd092915-b0d7-433c-b225-4e245806e7b4",
   "metadata": {},
   "outputs": [
    {
     "data": {
      "text/plain": [
       "'0b100'"
      ]
     },
     "execution_count": 5,
     "metadata": {},
     "output_type": "execute_result"
    }
   ],
   "source": [
    "bin(b)"
   ]
  },
  {
   "cell_type": "code",
   "execution_count": 6,
   "id": "b658e874-79fd-4562-bbc4-080f0401dae3",
   "metadata": {},
   "outputs": [
    {
     "data": {
      "text/plain": [
       "0"
      ]
     },
     "execution_count": 6,
     "metadata": {},
     "output_type": "execute_result"
    }
   ],
   "source": [
    "a&b\n",
    "# amd operator "
   ]
  },
  {
   "cell_type": "markdown",
   "id": "89c9ea4f-24f8-4de9-a325-19ddde166edc",
   "metadata": {},
   "source": [
    "a=10 1010\n",
    "b=4  0100\n",
    "     0000"
   ]
  },
  {
   "cell_type": "code",
   "execution_count": 7,
   "id": "b82e82f2-f2c5-4156-a076-cc9c5ad37565",
   "metadata": {},
   "outputs": [
    {
     "data": {
      "text/plain": [
       "14"
      ]
     },
     "execution_count": 7,
     "metadata": {},
     "output_type": "execute_result"
    }
   ],
   "source": [
    "a | b\n",
    "# or operator "
   ]
  },
  {
   "cell_type": "code",
   "execution_count": 8,
   "id": "4de76a6a-f5ce-4b74-afc4-00c4e1b366c1",
   "metadata": {},
   "outputs": [
    {
     "data": {
      "text/plain": [
       "4"
      ]
     },
     "execution_count": 8,
     "metadata": {},
     "output_type": "execute_result"
    }
   ],
   "source": [
    "a and b"
   ]
  },
  {
   "cell_type": "code",
   "execution_count": 9,
   "id": "6ded048e-d473-49f0-b420-53dc85e7b3cd",
   "metadata": {},
   "outputs": [
    {
     "data": {
      "text/plain": [
       "-10"
      ]
     },
     "execution_count": 9,
     "metadata": {},
     "output_type": "execute_result"
    }
   ],
   "source": [
    "-a"
   ]
  },
  {
   "cell_type": "code",
   "execution_count": 10,
   "id": "abea0e3a-6228-4fb7-a670-6fe4fba80b60",
   "metadata": {},
   "outputs": [
    {
     "data": {
      "text/plain": [
       "-4"
      ]
     },
     "execution_count": 10,
     "metadata": {},
     "output_type": "execute_result"
    }
   ],
   "source": [
    "-b"
   ]
  },
  {
   "cell_type": "code",
   "execution_count": 11,
   "id": "e00239bf-cac3-4d58-850c-32e148b43f54",
   "metadata": {},
   "outputs": [
    {
     "data": {
      "text/plain": [
       "14"
      ]
     },
     "execution_count": 11,
     "metadata": {},
     "output_type": "execute_result"
    }
   ],
   "source": [
    "a ^b"
   ]
  },
  {
   "cell_type": "code",
   "execution_count": 12,
   "id": "9723d6a5-a094-43ca-80ee-b80979e1a08e",
   "metadata": {},
   "outputs": [],
   "source": [
    "a=10"
   ]
  },
  {
   "cell_type": "code",
   "execution_count": 13,
   "id": "c8c84381-cd4c-4e29-952b-0d82eb4afd04",
   "metadata": {},
   "outputs": [],
   "source": [
    "b=4"
   ]
  },
  {
   "cell_type": "code",
   "execution_count": 14,
   "id": "1cf8b35a-d37b-43b6-9a6c-1d9f4d4895ca",
   "metadata": {},
   "outputs": [
    {
     "data": {
      "text/plain": [
       "'0b1010'"
      ]
     },
     "execution_count": 14,
     "metadata": {},
     "output_type": "execute_result"
    }
   ],
   "source": [
    "bin(a)"
   ]
  },
  {
   "cell_type": "code",
   "execution_count": 15,
   "id": "b42b5b48-4a81-4119-a20f-3871abf041e7",
   "metadata": {},
   "outputs": [
    {
     "data": {
      "text/plain": [
       "'0b100'"
      ]
     },
     "execution_count": 15,
     "metadata": {},
     "output_type": "execute_result"
    }
   ],
   "source": [
    "bin(b)"
   ]
  },
  {
   "cell_type": "code",
   "execution_count": 16,
   "id": "f6570366-75a5-4f0c-88e5-e0ede8dbd419",
   "metadata": {},
   "outputs": [
    {
     "data": {
      "text/plain": [
       "14"
      ]
     },
     "execution_count": 16,
     "metadata": {},
     "output_type": "execute_result"
    }
   ],
   "source": [
    "a^b"
   ]
  },
  {
   "cell_type": "markdown",
   "id": "65d515b9-adc1-4fff-acb0-802f3bd1d1ba",
   "metadata": {},
   "source": [
    "1010\n",
    "0100\n",
    "----\n",
    "1110"
   ]
  },
  {
   "cell_type": "code",
   "execution_count": 17,
   "id": "97b42c71-7fa2-4453-87b5-010ae46c4bf1",
   "metadata": {},
   "outputs": [],
   "source": [
    "a=10"
   ]
  },
  {
   "cell_type": "code",
   "execution_count": 22,
   "id": "00cbe4c5-587b-4c30-a347-0b0e38e96272",
   "metadata": {},
   "outputs": [
    {
     "data": {
      "text/plain": [
       "5"
      ]
     },
     "execution_count": 22,
     "metadata": {},
     "output_type": "execute_result"
    }
   ],
   "source": [
    "a>>1\n",
    "# Right Shift"
   ]
  },
  {
   "cell_type": "code",
   "execution_count": 23,
   "id": "045a06d5-d7e2-4bd0-8e74-fa89e25f9e2a",
   "metadata": {},
   "outputs": [
    {
     "data": {
      "text/plain": [
       "20"
      ]
     },
     "execution_count": 23,
     "metadata": {},
     "output_type": "execute_result"
    }
   ],
   "source": [
    "a<<1\n",
    "# left Shift "
   ]
  },
  {
   "cell_type": "code",
   "execution_count": 25,
   "id": "7a0bcd6a-b03d-4dea-827c-b76479c3db5f",
   "metadata": {},
   "outputs": [],
   "source": [
    "a=10"
   ]
  },
  {
   "cell_type": "code",
   "execution_count": 26,
   "id": "38df2fb1-e0c0-42df-a0ef-eb2875514fef",
   "metadata": {},
   "outputs": [
    {
     "data": {
      "text/plain": [
       "-10"
      ]
     },
     "execution_count": 26,
     "metadata": {},
     "output_type": "execute_result"
    }
   ],
   "source": [
    "-a"
   ]
  },
  {
   "cell_type": "code",
   "execution_count": 27,
   "id": "90e5216e-3ec6-4e44-8298-992adf005e32",
   "metadata": {},
   "outputs": [],
   "source": [
    "a=10"
   ]
  },
  {
   "cell_type": "code",
   "execution_count": 28,
   "id": "ea2e566e-834a-4e8c-8f71-e7a54b86700e",
   "metadata": {},
   "outputs": [],
   "source": [
    "a=a+1"
   ]
  },
  {
   "cell_type": "code",
   "execution_count": 29,
   "id": "8f6bc0e1-ab7b-4c13-a6b1-fc2447e4573c",
   "metadata": {},
   "outputs": [],
   "source": [
    "a+=1"
   ]
  },
  {
   "cell_type": "code",
   "execution_count": 30,
   "id": "a61a7788-35a3-457d-98db-3990af84db77",
   "metadata": {},
   "outputs": [
    {
     "data": {
      "text/plain": [
       "12"
      ]
     },
     "execution_count": 30,
     "metadata": {},
     "output_type": "execute_result"
    }
   ],
   "source": [
    "a"
   ]
  },
  {
   "cell_type": "code",
   "execution_count": 31,
   "id": "efcd1c63-ee08-4f1c-a69d-4bc88f1c5361",
   "metadata": {},
   "outputs": [],
   "source": [
    "a+=3"
   ]
  },
  {
   "cell_type": "code",
   "execution_count": 32,
   "id": "3eee55b6-63ac-4906-8579-b3c32d768741",
   "metadata": {},
   "outputs": [
    {
     "data": {
      "text/plain": [
       "15"
      ]
     },
     "execution_count": 32,
     "metadata": {},
     "output_type": "execute_result"
    }
   ],
   "source": [
    "a"
   ]
  },
  {
   "cell_type": "code",
   "execution_count": null,
   "id": "31115f0d-6494-4818-a2d0-086158753ff8",
   "metadata": {},
   "outputs": [],
   "source": []
  }
 ],
 "metadata": {
  "kernelspec": {
   "display_name": "Python 3 (ipykernel)",
   "language": "python",
   "name": "python3"
  },
  "language_info": {
   "codemirror_mode": {
    "name": "ipython",
    "version": 3
   },
   "file_extension": ".py",
   "mimetype": "text/x-python",
   "name": "python",
   "nbconvert_exporter": "python",
   "pygments_lexer": "ipython3",
   "version": "3.10.8"
  }
 },
 "nbformat": 4,
 "nbformat_minor": 5
}
