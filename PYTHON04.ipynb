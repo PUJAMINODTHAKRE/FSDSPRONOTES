{
 "cells": [
  {
   "cell_type": "code",
   "execution_count": 1,
   "id": "c269e2bf-74db-4a54-9998-097837eb50fb",
   "metadata": {},
   "outputs": [],
   "source": [
    "x=10"
   ]
  },
  {
   "cell_type": "code",
   "execution_count": 2,
   "id": "209572a2-81c8-4388-822b-9b5284b9e211",
   "metadata": {},
   "outputs": [
    {
     "data": {
      "text/plain": [
       "10"
      ]
     },
     "execution_count": 2,
     "metadata": {},
     "output_type": "execute_result"
    }
   ],
   "source": [
    "x"
   ]
  },
  {
   "cell_type": "markdown",
   "id": "a3e8cb86-cf7b-4b49-a599-c1e03f5dbf01",
   "metadata": {},
   "source": [
    "and\n",
    "or\n",
    "not"
   ]
  },
  {
   "cell_type": "code",
   "execution_count": 8,
   "id": "20d9b3c7-57e2-4443-be2e-362a228859f0",
   "metadata": {},
   "outputs": [],
   "source": [
    "a=10\n",
    "b=20"
   ]
  },
  {
   "cell_type": "code",
   "execution_count": 9,
   "id": "ae4aa8f1-b8d5-4607-be24-00ecbd95106b",
   "metadata": {},
   "outputs": [
    {
     "data": {
      "text/plain": [
       "True"
      ]
     },
     "execution_count": 9,
     "metadata": {},
     "output_type": "execute_result"
    }
   ],
   "source": [
    "((a>1) and (b>2))"
   ]
  },
  {
   "cell_type": "raw",
   "id": "2b64d4f5-da5d-45fb-9d1b-2fd4c4efb70e",
   "metadata": {},
   "source": [
    "1 1  1\n",
    "1 0  0 \n",
    "0 1  0\n",
    "0 0  0\n",
    "<!--  -->and"
   ]
  },
  {
   "cell_type": "code",
   "execution_count": 12,
   "id": "86debfee-f980-456a-92d9-90c47005ab36",
   "metadata": {},
   "outputs": [
    {
     "name": "stdout",
     "output_type": "stream",
     "text": [
      "False\n"
     ]
    }
   ],
   "source": [
    "print(False and False)"
   ]
  },
  {
   "cell_type": "code",
   "execution_count": 11,
   "id": "656da846-3fd6-45fb-bdfa-c4a4fa9edff0",
   "metadata": {},
   "outputs": [
    {
     "data": {
      "text/plain": [
       "True"
      ]
     },
     "execution_count": 11,
     "metadata": {},
     "output_type": "execute_result"
    }
   ],
   "source": [
    "((a>1) or (b>20))"
   ]
  },
  {
   "cell_type": "code",
   "execution_count": 15,
   "id": "bb1ac1ef-6ded-4218-840f-42e5f8f2d448",
   "metadata": {},
   "outputs": [],
   "source": [
    "a=False\n"
   ]
  },
  {
   "cell_type": "code",
   "execution_count": 16,
   "id": "0926d39f-2731-49d6-b7ec-35a32f68512b",
   "metadata": {},
   "outputs": [
    {
     "data": {
      "text/plain": [
       "True"
      ]
     },
     "execution_count": 16,
     "metadata": {},
     "output_type": "execute_result"
    }
   ],
   "source": [
    "not(a)"
   ]
  },
  {
   "cell_type": "code",
   "execution_count": 17,
   "id": "f44399d0-74a1-4bc3-bf75-50d02d76a042",
   "metadata": {},
   "outputs": [],
   "source": [
    "# logial operator"
   ]
  },
  {
   "cell_type": "raw",
   "id": "7a24bc5b-232b-488b-a97a-41347fcb0ac1",
   "metadata": {},
   "source": [
    "&---and\n",
    "!---or\n",
    "^---xor\n",
    "~---negation"
   ]
  },
  {
   "cell_type": "raw",
   "id": "9932ccbd-963a-4d45-b55c-54aefd4c6874",
   "metadata": {},
   "source": [
    "<<--left shift\n",
    ">>--right shift"
   ]
  },
  {
   "cell_type": "code",
   "execution_count": 18,
   "id": "712f157f-fc33-46cd-9d31-169bb4bda0d1",
   "metadata": {},
   "outputs": [],
   "source": [
    "a=10\n",
    "b=4"
   ]
  },
  {
   "cell_type": "code",
   "execution_count": 19,
   "id": "1d1e4d02-df91-4b1d-9a88-8794907158f3",
   "metadata": {},
   "outputs": [
    {
     "data": {
      "text/plain": [
       "'0b1010'"
      ]
     },
     "execution_count": 19,
     "metadata": {},
     "output_type": "execute_result"
    }
   ],
   "source": [
    "bin(a)"
   ]
  },
  {
   "cell_type": "code",
   "execution_count": 20,
   "id": "a2b97118-c080-48b2-8692-88e006efc492",
   "metadata": {},
   "outputs": [
    {
     "data": {
      "text/plain": [
       "'0b100'"
      ]
     },
     "execution_count": 20,
     "metadata": {},
     "output_type": "execute_result"
    }
   ],
   "source": [
    "bin(b)"
   ]
  },
  {
   "cell_type": "raw",
   "id": "3d1e5fc4-400a-403b-8a5c-086c8ba4c68e",
   "metadata": {},
   "source": [
    "8421\n",
    "0100\n",
    "1010"
   ]
  },
  {
   "cell_type": "code",
   "execution_count": 21,
   "id": "a1428145-626f-42cb-b20b-623c0cdf0832",
   "metadata": {},
   "outputs": [
    {
     "data": {
      "text/plain": [
       "0"
      ]
     },
     "execution_count": 21,
     "metadata": {},
     "output_type": "execute_result"
    }
   ],
   "source": [
    "a&b"
   ]
  },
  {
   "cell_type": "code",
   "execution_count": 22,
   "id": "d8f5ec07-1978-4f7d-802c-ee454f1300aa",
   "metadata": {},
   "outputs": [
    {
     "data": {
      "text/plain": [
       "14"
      ]
     },
     "execution_count": 22,
     "metadata": {},
     "output_type": "execute_result"
    }
   ],
   "source": [
    "a|b"
   ]
  },
  {
   "cell_type": "code",
   "execution_count": 23,
   "id": "67a1ce6c-c841-4e9b-9937-c62c1990689c",
   "metadata": {},
   "outputs": [
    {
     "data": {
      "text/plain": [
       "14"
      ]
     },
     "execution_count": 23,
     "metadata": {},
     "output_type": "execute_result"
    }
   ],
   "source": [
    "a^b"
   ]
  },
  {
   "cell_type": "raw",
   "id": "ce071d86-53ac-4b77-bce9-e3f535ea9c54",
   "metadata": {},
   "source": [
    "1 1  0\n",
    "1 0  1\n",
    "0 1  1\n",
    "0 0  0\n",
    "# XOR"
   ]
  },
  {
   "cell_type": "code",
   "execution_count": 35,
   "id": "4633134c-8e58-402d-a3aa-142d7ef1983a",
   "metadata": {},
   "outputs": [],
   "source": [
    "a= 10"
   ]
  },
  {
   "cell_type": "code",
   "execution_count": 36,
   "id": "77222842-855e-4f01-9e63-b73a5376bbe3",
   "metadata": {},
   "outputs": [
    {
     "data": {
      "text/plain": [
       "-11"
      ]
     },
     "execution_count": 36,
     "metadata": {},
     "output_type": "execute_result"
    }
   ],
   "source": [
    "~a"
   ]
  },
  {
   "cell_type": "code",
   "execution_count": 37,
   "id": "78a6e3f0-a288-4bd8-ac45-e90b5dc0190a",
   "metadata": {},
   "outputs": [],
   "source": [
    "a=8"
   ]
  },
  {
   "cell_type": "code",
   "execution_count": 38,
   "id": "cc9228dd-3d83-4b9a-b5ec-9baef5f77212",
   "metadata": {},
   "outputs": [
    {
     "data": {
      "text/plain": [
       "-9"
      ]
     },
     "execution_count": 38,
     "metadata": {},
     "output_type": "execute_result"
    }
   ],
   "source": [
    "~a"
   ]
  },
  {
   "cell_type": "raw",
   "id": "406dd2d8-0dde-4b33-8d45-d7bc34585df1",
   "metadata": {},
   "source": [
    "1 0 0 0\n",
    "0 1 1 1 (negation)\n",
    "taking 2's compliment of this value\n",
    "1 0 0 0\n",
    "    + 1\n",
    "1 0 0 1    "
   ]
  },
  {
   "cell_type": "code",
   "execution_count": 39,
   "id": "a6f34c2b-0841-487f-903c-069d56ce4147",
   "metadata": {},
   "outputs": [],
   "source": [
    "a=-12"
   ]
  },
  {
   "cell_type": "code",
   "execution_count": 40,
   "id": "83f5cbc9-27e4-4131-af0b-2174e64bf091",
   "metadata": {},
   "outputs": [
    {
     "data": {
      "text/plain": [
       "11"
      ]
     },
     "execution_count": 40,
     "metadata": {},
     "output_type": "execute_result"
    }
   ],
   "source": [
    "~a"
   ]
  },
  {
   "cell_type": "code",
   "execution_count": 41,
   "id": "5bab89d3-e260-4999-9e2c-c6cda8f72e85",
   "metadata": {},
   "outputs": [],
   "source": [
    "x=[1,2,3,4,5]"
   ]
  },
  {
   "cell_type": "code",
   "execution_count": 44,
   "id": "d342a9cf-c150-4adc-a169-79618838d509",
   "metadata": {},
   "outputs": [
    {
     "data": {
      "text/plain": [
       "True"
      ]
     },
     "execution_count": 44,
     "metadata": {},
     "output_type": "execute_result"
    }
   ],
   "source": [
    "2 in x\n",
    "# Membership operator"
   ]
  },
  {
   "cell_type": "code",
   "execution_count": 45,
   "id": "603ca3fd-4624-4522-ba82-d8837564855f",
   "metadata": {},
   "outputs": [
    {
     "data": {
      "text/plain": [
       "False"
      ]
     },
     "execution_count": 45,
     "metadata": {},
     "output_type": "execute_result"
    }
   ],
   "source": [
    "7 in x"
   ]
  },
  {
   "cell_type": "code",
   "execution_count": 47,
   "id": "c0b0ff7e-6619-432b-a452-d8f4e227bfb6",
   "metadata": {},
   "outputs": [],
   "source": [
    "a=10"
   ]
  },
  {
   "cell_type": "code",
   "execution_count": 48,
   "id": "6a4862d8-ee64-4f77-a954-7c4e6e9f1409",
   "metadata": {},
   "outputs": [
    {
     "data": {
      "text/plain": [
       "20"
      ]
     },
     "execution_count": 48,
     "metadata": {},
     "output_type": "execute_result"
    }
   ],
   "source": [
    "a<<1"
   ]
  },
  {
   "cell_type": "raw",
   "id": "30c908f0-f82c-47f7-bd35-503913a2cf87",
   "metadata": {},
   "source": [
    " 1010\n",
    "10100\n",
    "left shift "
   ]
  },
  {
   "cell_type": "code",
   "execution_count": 49,
   "id": "95ff8e32-2f29-4c09-b400-42895abc8a66",
   "metadata": {},
   "outputs": [
    {
     "data": {
      "text/plain": [
       "80"
      ]
     },
     "execution_count": 49,
     "metadata": {},
     "output_type": "execute_result"
    }
   ],
   "source": [
    "a<<3"
   ]
  },
  {
   "cell_type": "code",
   "execution_count": 50,
   "id": "bb95410a-6c48-428a-b1f0-7bb17b7b498d",
   "metadata": {},
   "outputs": [
    {
     "data": {
      "text/plain": [
       "5"
      ]
     },
     "execution_count": 50,
     "metadata": {},
     "output_type": "execute_result"
    }
   ],
   "source": [
    "a>>1"
   ]
  },
  {
   "cell_type": "raw",
   "id": "3e366d73-2d48-457c-be36-964a3016efc7",
   "metadata": {},
   "source": [
    "1 0 1 0\n",
    "0 1 0 1\n",
    "right shift "
   ]
  },
  {
   "cell_type": "code",
   "execution_count": 51,
   "id": "86d4971c-5fb7-41cb-bb5a-bd10d1e5efe5",
   "metadata": {},
   "outputs": [],
   "source": [
    "a=1"
   ]
  },
  {
   "cell_type": "code",
   "execution_count": 52,
   "id": "beaaaad0-58a0-4fa1-a8a7-bea90879fc04",
   "metadata": {},
   "outputs": [
    {
     "data": {
      "text/plain": [
       "2"
      ]
     },
     "execution_count": 52,
     "metadata": {},
     "output_type": "execute_result"
    }
   ],
   "source": [
    "a<<1"
   ]
  },
  {
   "cell_type": "code",
   "execution_count": 53,
   "id": "0a722607-d544-4d25-a8f1-e8c2e078c620",
   "metadata": {},
   "outputs": [
    {
     "data": {
      "text/plain": [
       "0"
      ]
     },
     "execution_count": 53,
     "metadata": {},
     "output_type": "execute_result"
    }
   ],
   "source": [
    "a>>1"
   ]
  },
  {
   "cell_type": "raw",
   "id": "6ac1a154-ceeb-4e3c-a702-44fbccfff53e",
   "metadata": {},
   "source": [
    "Control Flows Statements:"
   ]
  },
  {
   "cell_type": "raw",
   "id": "3cce0ab8-d453-4ff9-b0b2-8cd5b1883d34",
   "metadata": {},
   "source": [
    "if\n",
    "if else\n",
    "if elif else\n"
   ]
  },
  {
   "cell_type": "code",
   "execution_count": 70,
   "id": "66c07fdb-2881-4426-91dd-4811f9483083",
   "metadata": {},
   "outputs": [],
   "source": [
    "age=1"
   ]
  },
  {
   "cell_type": "code",
   "execution_count": 71,
   "id": "22d3fc08-767b-4cc8-9334-6a11d78b6248",
   "metadata": {},
   "outputs": [
    {
     "name": "stdout",
     "output_type": "stream",
     "text": [
      "you can not vote\n"
     ]
    }
   ],
   "source": [
    "if age>=18:\n",
    "    print(\"you can vote\")\n",
    "else:\n",
    "    print(\"you can not vote\")"
   ]
  },
  {
   "cell_type": "code",
   "execution_count": 72,
   "id": "496ef3aa-2722-462c-83e9-a9f6206d3083",
   "metadata": {},
   "outputs": [
    {
     "name": "stdout",
     "output_type": "stream",
     "text": [
      "you are inside the if block:\n"
     ]
    }
   ],
   "source": [
    "x=23\n",
    "if x>22:\n",
    "    print(\"you are inside the if block:\")"
   ]
  },
  {
   "cell_type": "code",
   "execution_count": 75,
   "id": "5eaa4076-2817-4775-a231-1686923aa23a",
   "metadata": {},
   "outputs": [
    {
     "name": "stdout",
     "output_type": "stream",
     "text": [
      "excellent performance  your grade is C\n"
     ]
    }
   ],
   "source": [
    "score=35\n",
    "if score>=90:\n",
    "    print(\"excellent performance  your grade is A+\")\n",
    "elif score>=80:\n",
    "    print(\"excellent performance  your grade is A\")\n",
    "elif score>=70:\n",
    "    print(\"excellent performance  your grade is B\")\n",
    "else:\n",
    "    print(\"excellent performance  your grade is C\")"
   ]
  },
  {
   "cell_type": "code",
   "execution_count": 78,
   "id": "9916a371-095e-474c-83eb-027ce9acb07b",
   "metadata": {},
   "outputs": [
    {
     "name": "stdin",
     "output_type": "stream",
     "text": [
      "Enter T between 0 and 23: 24\n"
     ]
    },
    {
     "name": "stdout",
     "output_type": "stream",
     "text": [
      "Invalid\n"
     ]
    }
   ],
   "source": [
    "T=int(input(\"Enter T between 0 and 23:\"))\n",
    "if T<0:\n",
    "    print(\"Invalid\")\n",
    "elif 0<=T<=5:\n",
    "    print(\"Night\")\n",
    "elif 6<=T<=11:\n",
    "    print(\"Morning\")\n",
    "elif 12<=T<=17:\n",
    "    print(\"After-noon\")\n",
    "elif 18<=T<=23:\n",
    "    print(\"Evening\")\n",
    "else:\n",
    "    print(\"Invalid\")    \n",
    "    "
   ]
  },
  {
   "cell_type": "code",
   "execution_count": 79,
   "id": "0cd1fb78-d479-400f-81e7-99a73b0d1f14",
   "metadata": {},
   "outputs": [
    {
     "name": "stdout",
     "output_type": "stream",
     "text": [
      "Largest is 30\n"
     ]
    }
   ],
   "source": [
    "N=10\n",
    "M=20\n",
    "O=30\n",
    "if(N>=M)and(N>=O):\n",
    "    largest=N\n",
    "    print(\"Largest is\",N)\n",
    "elif (M>=N)and(M>=O):\n",
    "    largest=M\n",
    "    print(\"Largest is\",M)\n",
    "else:\n",
    "    largest=O\n",
    "    print(\"Largest is\",O)"
   ]
  },
  {
   "cell_type": "raw",
   "id": "1dabf495-0951-4221-8b77-b1bed951c339",
   "metadata": {},
   "source": [
    "+,*,-,/"
   ]
  },
  {
   "cell_type": "code",
   "execution_count": 88,
   "id": "7a39b72c-9868-4830-acb5-fdcf540da145",
   "metadata": {},
   "outputs": [
    {
     "name": "stdin",
     "output_type": "stream",
     "text": [
      "Enter the first number: 2\n",
      "Enter the first number: 3\n",
      "Enter op: +\n"
     ]
    },
    {
     "name": "stdout",
     "output_type": "stream",
     "text": [
      "5\n"
     ]
    }
   ],
   "source": [
    "first=int(input(\"Enter the first number:\"))\n",
    "second=int(input(\"Enter the second number:\"))\n",
    "operator=input(\"Enter op:\")\n",
    "if operator=='+':\n",
    "        print(first+second)\n",
    "elif operator=='-':\n",
    "        print(first-second) \n",
    "elif operator=='*':\n",
    "    print(first*second)\n",
    "elif operator=='/':\n",
    "    print(first/second)    \n",
    "else:\n",
    "    print(\"invalid operator\")"
   ]
  },
  {
   "cell_type": "code",
   "execution_count": 91,
   "id": "15037319-ba7f-4d91-bc37-8864dd75b817",
   "metadata": {},
   "outputs": [
    {
     "name": "stdout",
     "output_type": "stream",
     "text": [
      "Number is -\n"
     ]
    }
   ],
   "source": [
    "num=-5\n",
    "if(num>=0):\n",
    "    if num==0:\n",
    "        print(\"Number is 0\")\n",
    "    else:\n",
    "         print(\"Number is +\")\n",
    "else:\n",
    "     print(\"Number is -\")\n",
    "        "
   ]
  },
  {
   "cell_type": "code",
   "execution_count": 92,
   "id": "a86018ed-ddb9-4c62-afad-821e4f8009ac",
   "metadata": {},
   "outputs": [
    {
     "data": {
      "text/plain": [
       "range(0, 5)"
      ]
     },
     "execution_count": 92,
     "metadata": {},
     "output_type": "execute_result"
    }
   ],
   "source": [
    "range(5)"
   ]
  },
  {
   "cell_type": "raw",
   "id": "bbd60ae7-56bc-4da2-ae06-8b1ddb19f1cf",
   "metadata": {},
   "source": [
    "range(start,stop,step)"
   ]
  },
  {
   "cell_type": "code",
   "execution_count": 97,
   "id": "5bb81306-3c41-492b-9703-6c887a342fcb",
   "metadata": {},
   "outputs": [
    {
     "data": {
      "text/plain": [
       "[0, 1, 2, 3, 4]"
      ]
     },
     "execution_count": 97,
     "metadata": {},
     "output_type": "execute_result"
    }
   ],
   "source": [
    "list(range(5))"
   ]
  },
  {
   "cell_type": "code",
   "execution_count": 98,
   "id": "9273c3e0-8ec0-4aee-a317-bca8112bef9d",
   "metadata": {},
   "outputs": [
    {
     "data": {
      "text/plain": [
       "[2, 3, 4, 5, 6, 7, 8, 9]"
      ]
     },
     "execution_count": 98,
     "metadata": {},
     "output_type": "execute_result"
    }
   ],
   "source": [
    "list(range(2,10,))"
   ]
  },
  {
   "cell_type": "code",
   "execution_count": 99,
   "id": "a436c4af-12ae-4e2b-9a43-5fa5019e271e",
   "metadata": {},
   "outputs": [
    {
     "data": {
      "text/plain": [
       "[45,\n",
       " 46,\n",
       " 47,\n",
       " 48,\n",
       " 49,\n",
       " 50,\n",
       " 51,\n",
       " 52,\n",
       " 53,\n",
       " 54,\n",
       " 55,\n",
       " 56,\n",
       " 57,\n",
       " 58,\n",
       " 59,\n",
       " 60,\n",
       " 61,\n",
       " 62,\n",
       " 63,\n",
       " 64,\n",
       " 65,\n",
       " 66,\n",
       " 67,\n",
       " 68,\n",
       " 69,\n",
       " 70,\n",
       " 71,\n",
       " 72,\n",
       " 73,\n",
       " 74,\n",
       " 75,\n",
       " 76,\n",
       " 77]"
      ]
     },
     "execution_count": 99,
     "metadata": {},
     "output_type": "execute_result"
    }
   ],
   "source": [
    "list(range(45,78))"
   ]
  },
  {
   "cell_type": "code",
   "execution_count": 100,
   "id": "ba92f5a0-b0d9-4010-8ae8-246010f10760",
   "metadata": {},
   "outputs": [
    {
     "data": {
      "text/plain": [
       "[2, 4, 6, 8, 10]"
      ]
     },
     "execution_count": 100,
     "metadata": {},
     "output_type": "execute_result"
    }
   ],
   "source": [
    "list(range(2,12,2))"
   ]
  },
  {
   "cell_type": "code",
   "execution_count": 101,
   "id": "5e8ead13-28c6-496a-ab0f-8e0dfbf7eaa0",
   "metadata": {},
   "outputs": [
    {
     "data": {
      "text/plain": [
       "range(0, 0)"
      ]
     },
     "execution_count": 101,
     "metadata": {},
     "output_type": "execute_result"
    }
   ],
   "source": [
    "range(0)"
   ]
  },
  {
   "cell_type": "code",
   "execution_count": 103,
   "id": "d20540c0-2e45-4dc6-ae8b-e60af7c97714",
   "metadata": {},
   "outputs": [
    {
     "name": "stdout",
     "output_type": "stream",
     "text": [
      "0\n",
      "1\n",
      "2\n",
      "3\n",
      "4\n"
     ]
    }
   ],
   "source": [
    "for i in range(5):\n",
    "    print(i)"
   ]
  },
  {
   "cell_type": "code",
   "execution_count": 104,
   "id": "97f179ae-91f0-4473-956d-3fa0f952a130",
   "metadata": {},
   "outputs": [
    {
     "name": "stdout",
     "output_type": "stream",
     "text": [
      "1\n",
      "2\n",
      "3\n"
     ]
    }
   ],
   "source": [
    "for i in range(3):\n",
    "    print(i+1)\n",
    "    "
   ]
  },
  {
   "cell_type": "code",
   "execution_count": 105,
   "id": "1431d51d-cb95-479a-ac15-f8ccbae2a655",
   "metadata": {},
   "outputs": [
    {
     "name": "stdout",
     "output_type": "stream",
     "text": [
      "a\n",
      "b\n",
      "c\n"
     ]
    }
   ],
   "source": [
    "for i in ['a','b','c']:\n",
    "    print(i)"
   ]
  },
  {
   "cell_type": "code",
   "execution_count": 107,
   "id": "f98cf433-e6d3-43c0-86d2-ac4a09ab272b",
   "metadata": {},
   "outputs": [
    {
     "name": "stdout",
     "output_type": "stream",
     "text": [
      "p\n",
      "w\n",
      "s\n",
      "k\n",
      "i\n",
      "l\n",
      "l\n",
      "s\n"
     ]
    }
   ],
   "source": [
    "for i in \"pwskills\":\n",
    "    print(i)"
   ]
  },
  {
   "cell_type": "code",
   "execution_count": 108,
   "id": "0763c247-e3a8-4419-9f51-c4135128f2e1",
   "metadata": {},
   "outputs": [
    {
     "ename": "TypeError",
     "evalue": "'int' object is not iterable",
     "output_type": "error",
     "traceback": [
      "\u001b[0;31m---------------------------------------------------------------------------\u001b[0m",
      "\u001b[0;31mTypeError\u001b[0m                                 Traceback (most recent call last)",
      "Cell \u001b[0;32mIn[108], line 1\u001b[0m\n\u001b[0;32m----> 1\u001b[0m \u001b[38;5;28;01mfor\u001b[39;00m i \u001b[38;5;129;01min\u001b[39;00m \u001b[38;5;241m23\u001b[39m:\n\u001b[1;32m      2\u001b[0m     \u001b[38;5;28mprint\u001b[39m(i)\n",
      "\u001b[0;31mTypeError\u001b[0m: 'int' object is not iterable"
     ]
    }
   ],
   "source": [
    "for i in 23:\n",
    "    print(i)"
   ]
  },
  {
   "cell_type": "code",
   "execution_count": 109,
   "id": "cb7446e2-6a5f-4203-b652-d9ea89f177d3",
   "metadata": {},
   "outputs": [],
   "source": [
    "x={\"name\":\"imran\",\"city\":\"banglore\"}"
   ]
  },
  {
   "cell_type": "code",
   "execution_count": 110,
   "id": "295b1b6c-f4e8-4197-9d8f-7f04f4d4e511",
   "metadata": {},
   "outputs": [
    {
     "name": "stdout",
     "output_type": "stream",
     "text": [
      "imran\n",
      "banglore\n"
     ]
    }
   ],
   "source": [
    "for i in x.values():\n",
    "    print(i)\n"
   ]
  },
  {
   "cell_type": "code",
   "execution_count": 111,
   "id": "910fe261-11d2-4eee-a6f2-b27b8b48395f",
   "metadata": {},
   "outputs": [
    {
     "data": {
      "text/plain": [
       "[0, 1, 2, 3]"
      ]
     },
     "execution_count": 111,
     "metadata": {},
     "output_type": "execute_result"
    }
   ],
   "source": [
    "list(range(4))"
   ]
  },
  {
   "cell_type": "code",
   "execution_count": 112,
   "id": "5e835f92-b8af-444a-81ac-937fb907682c",
   "metadata": {},
   "outputs": [
    {
     "data": {
      "text/plain": [
       "[2, 3]"
      ]
     },
     "execution_count": 112,
     "metadata": {},
     "output_type": "execute_result"
    }
   ],
   "source": [
    "list(range(2,4))"
   ]
  },
  {
   "cell_type": "code",
   "execution_count": 114,
   "id": "20eb591c-0671-4f37-b375-61a51b52b1a3",
   "metadata": {},
   "outputs": [
    {
     "name": "stdout",
     "output_type": "stream",
     "text": [
      "2\n",
      "5\n",
      "8\n"
     ]
    }
   ],
   "source": [
    "for i in range(2,9,3):\n",
    "    print(i)"
   ]
  },
  {
   "cell_type": "code",
   "execution_count": 116,
   "id": "47840e0b-9f40-4dad-9901-a6b29fc19da2",
   "metadata": {},
   "outputs": [
    {
     "name": "stdout",
     "output_type": "stream",
     "text": [
      "i\n",
      "u\n",
      "g\n"
     ]
    }
   ],
   "source": [
    "country=[\"india\",\"uk\",\"germany\"]\n",
    "for ct in country:\n",
    "    print(ct[0])"
   ]
  },
  {
   "cell_type": "code",
   "execution_count": 118,
   "id": "5ea890e5-2f61-4081-86d1-c8377ab5ddaf",
   "metadata": {},
   "outputs": [
    {
     "name": "stdout",
     "output_type": "stream",
     "text": [
      "india\n",
      "uk\n",
      "germany\n"
     ]
    }
   ],
   "source": [
    "for index in range(len(country)):\n",
    "    print(country[index])"
   ]
  },
  {
   "cell_type": "code",
   "execution_count": 119,
   "id": "cb9f36fc-a0a6-47d2-999f-76c4aa9317fe",
   "metadata": {},
   "outputs": [
    {
     "data": {
      "text/plain": [
       "range(0, 3)"
      ]
     },
     "execution_count": 119,
     "metadata": {},
     "output_type": "execute_result"
    }
   ],
   "source": [
    "range(len(country))"
   ]
  },
  {
   "cell_type": "code",
   "execution_count": 121,
   "id": "cbf6c9d5-fc7a-43e8-92b5-590c8d739e0f",
   "metadata": {},
   "outputs": [],
   "source": [
    "dict1={'x1':'1','x2':'2','x3':'3'}"
   ]
  },
  {
   "cell_type": "code",
   "execution_count": 122,
   "id": "d476dba2-2a34-4253-8b6c-314df61cb42a",
   "metadata": {},
   "outputs": [
    {
     "data": {
      "text/plain": [
       "dict_keys(['x1', 'x2', 'x3'])"
      ]
     },
     "execution_count": 122,
     "metadata": {},
     "output_type": "execute_result"
    }
   ],
   "source": [
    "dict1.keys()"
   ]
  },
  {
   "cell_type": "code",
   "execution_count": 123,
   "id": "1b858abf-e181-481c-b377-eae213d4acc9",
   "metadata": {},
   "outputs": [
    {
     "data": {
      "text/plain": [
       "dict_values(['1', '2', '3'])"
      ]
     },
     "execution_count": 123,
     "metadata": {},
     "output_type": "execute_result"
    }
   ],
   "source": [
    "dict1.values()"
   ]
  },
  {
   "cell_type": "code",
   "execution_count": 124,
   "id": "ddc3562c-f25a-4c4b-973f-e4b83ab523e6",
   "metadata": {},
   "outputs": [
    {
     "name": "stdout",
     "output_type": "stream",
     "text": [
      "x1 1\n",
      "x2 2\n",
      "x3 3\n"
     ]
    }
   ],
   "source": [
    "for key in dict1:\n",
    "    print(key,dict1[key])"
   ]
  },
  {
   "cell_type": "code",
   "execution_count": 126,
   "id": "a9ef56c2-4f26-4036-afac-7002a1de45e8",
   "metadata": {},
   "outputs": [
    {
     "data": {
      "text/plain": [
       "'1'"
      ]
     },
     "execution_count": 126,
     "metadata": {},
     "output_type": "execute_result"
    }
   ],
   "source": [
    "dict1['x1']"
   ]
  },
  {
   "cell_type": "code",
   "execution_count": 127,
   "id": "89511ac5-2b28-404f-8129-a22b00aa2f4c",
   "metadata": {},
   "outputs": [
    {
     "name": "stdout",
     "output_type": "stream",
     "text": [
      "x3 3\n",
      "x3 3\n",
      "x3 3\n"
     ]
    }
   ],
   "source": [
    "for i in dict1:\n",
    "    print(key,dict1[key])"
   ]
  },
  {
   "cell_type": "code",
   "execution_count": 128,
   "id": "e90a7558-ed86-4952-9df0-c16f38954a7f",
   "metadata": {},
   "outputs": [
    {
     "name": "stdout",
     "output_type": "stream",
     "text": [
      "1\n",
      "2\n",
      "3\n"
     ]
    }
   ],
   "source": [
    "for i in {1,2,3}:\n",
    "    print(i)"
   ]
  },
  {
   "cell_type": "code",
   "execution_count": 129,
   "id": "5382ac10-8edf-4aed-b0a9-b7df5bfa7837",
   "metadata": {},
   "outputs": [
    {
     "name": "stdout",
     "output_type": "stream",
     "text": [
      "p\n",
      "w\n",
      "s\n",
      "k\n",
      "i\n",
      "l\n",
      "l\n",
      "s\n"
     ]
    }
   ],
   "source": [
    "x=\"pwskills\"\n",
    "for i in x:\n",
    "    print(i)"
   ]
  },
  {
   "cell_type": "code",
   "execution_count": 131,
   "id": "2a6f8480-654c-46c1-ace9-f2c4d745a081",
   "metadata": {},
   "outputs": [
    {
     "name": "stdout",
     "output_type": "stream",
     "text": [
      "[0, 1, 2, 3, 4, 5, 6, 7, 8, 9]\n"
     ]
    }
   ],
   "source": [
    "print(list(range(10)))"
   ]
  },
  {
   "cell_type": "code",
   "execution_count": 132,
   "id": "002be47d-ceeb-45c5-a561-9bcb07bc91e8",
   "metadata": {},
   "outputs": [
    {
     "name": "stdout",
     "output_type": "stream",
     "text": [
      "hipw"
     ]
    }
   ],
   "source": [
    "print(\"hi\",end=\"\")\n",
    "print(\"pw\",end=\"\")"
   ]
  },
  {
   "cell_type": "code",
   "execution_count": 135,
   "id": "8f34b8b1-67ef-4bd9-8ad1-891e946c6aeb",
   "metadata": {},
   "outputs": [
    {
     "name": "stdout",
     "output_type": "stream",
     "text": [
      "0 1 2 3 4 5 6 7 8 9 "
     ]
    }
   ],
   "source": [
    "for i in range(10):\n",
    "    print(i,end=\" \")"
   ]
  },
  {
   "cell_type": "code",
   "execution_count": 138,
   "id": "3b1ca026-1101-434b-bde3-83126492c208",
   "metadata": {},
   "outputs": [
    {
     "name": "stdout",
     "output_type": "stream",
     "text": [
      "0\n",
      "1\n",
      "2\n",
      "3\n",
      "4\n",
      "done\n"
     ]
    }
   ],
   "source": [
    "for i in range(5):\n",
    "    print(i)\n",
    "else:\n",
    "    print(\"done\")"
   ]
  },
  {
   "cell_type": "raw",
   "id": "7a0c5654-51ea-4c0b-83c4-7f23f28ad590",
   "metadata": {},
   "source": [
    "Pattern"
   ]
  },
  {
   "cell_type": "code",
   "execution_count": 153,
   "id": "9968101a-ab7c-4d3f-94c0-23f286070a32",
   "metadata": {},
   "outputs": [
    {
     "name": "stdout",
     "output_type": "stream",
     "text": [
      "* * * * * \n",
      "* * * * \n",
      "* * * \n",
      "* * \n",
      "* \n"
     ]
    }
   ],
   "source": [
    "for i in range(5,0,-1):\n",
    "    for j in range(i,0,-1):\n",
    "        print(\"*\",end=' ')\n",
    "    print()"
   ]
  },
  {
   "cell_type": "code",
   "execution_count": 162,
   "id": "9032f827-d571-4b9e-a9b0-10c049645c82",
   "metadata": {},
   "outputs": [
    {
     "name": "stdout",
     "output_type": "stream",
     "text": [
      "1 2 3 4 5 6 7 8 9 10 \t\n",
      "2 4 6 8 10 12 14 16 18 20 \t\n",
      "3 6 9 12 15 18 21 24 27 30 \t\n",
      "4 8 12 16 20 24 28 32 36 40 \t\n",
      "5 10 15 20 25 30 35 40 45 50 \t\n"
     ]
    }
   ],
   "source": [
    "for i in range(1,6):\n",
    "    for j in range(1,11):\n",
    "        print(i*j,end=' ')\n",
    "    print('\\t')    "
   ]
  },
  {
   "cell_type": "code",
   "execution_count": 1,
   "id": "971463f5-3a0d-4f4e-a467-3fb70d830848",
   "metadata": {},
   "outputs": [
    {
     "name": "stdout",
     "output_type": "stream",
     "text": [
      "1\n",
      "2\n",
      "3\n",
      "4\n",
      "5\n"
     ]
    }
   ],
   "source": [
    "count=1\n",
    "while count<=5:\n",
    "    print(count)\n",
    "    count+=1"
   ]
  },
  {
   "cell_type": "code",
   "execution_count": 2,
   "id": "252eab91-517c-4f34-9530-a71b903ddcd7",
   "metadata": {},
   "outputs": [
    {
     "name": "stdin",
     "output_type": "stream",
     "text": [
      "Enter a word ATUL\n"
     ]
    },
    {
     "name": "stdout",
     "output_type": "stream",
     "text": [
      "You entered : ATUL\n"
     ]
    },
    {
     "name": "stdin",
     "output_type": "stream",
     "text": [
      "Enter a word ATUL\n"
     ]
    },
    {
     "name": "stdout",
     "output_type": "stream",
     "text": [
      "You entered : ATUL\n"
     ]
    },
    {
     "name": "stdin",
     "output_type": "stream",
     "text": [
      "Enter a word QUIT\n"
     ]
    },
    {
     "name": "stdout",
     "output_type": "stream",
     "text": [
      "You entered : QUIT\n"
     ]
    },
    {
     "name": "stdin",
     "output_type": "stream",
     "text": [
      "Enter a word quit\n"
     ]
    },
    {
     "name": "stdout",
     "output_type": "stream",
     "text": [
      "You entered : quit\n"
     ]
    }
   ],
   "source": [
    "text=\"\"\n",
    "while text!=\"quit\":\n",
    "    text=input(\"Enter a word\")\n",
    "    print(\"You entered :\",text)\n"
   ]
  },
  {
   "cell_type": "code",
   "execution_count": null,
   "id": "4fe660b2-5939-4f79-b4e0-b13fb7bb96ef",
   "metadata": {},
   "outputs": [],
   "source": []
  },
  {
   "cell_type": "code",
   "execution_count": null,
   "id": "d39845c1-03ce-48cc-9de4-0fa5a880d553",
   "metadata": {},
   "outputs": [],
   "source": []
  },
  {
   "cell_type": "code",
   "execution_count": null,
   "id": "3f1b640d-d742-451f-8053-0e7b5d1fc4d1",
   "metadata": {},
   "outputs": [],
   "source": []
  }
 ],
 "metadata": {
  "kernelspec": {
   "display_name": "Python 3 (ipykernel)",
   "language": "python",
   "name": "python3"
  },
  "language_info": {
   "codemirror_mode": {
    "name": "ipython",
    "version": 3
   },
   "file_extension": ".py",
   "mimetype": "text/x-python",
   "name": "python",
   "nbconvert_exporter": "python",
   "pygments_lexer": "ipython3",
   "version": "3.10.8"
  }
 },
 "nbformat": 4,
 "nbformat_minor": 5
}
