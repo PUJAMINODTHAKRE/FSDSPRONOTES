{
 "cells": [
  {
   "cell_type": "raw",
   "id": "8dac8563-491a-44c5-9e89-aa17c66700dc",
   "metadata": {},
   "source": [
    "LOGICAL OPERATOR\n",
    "and \n",
    "or\n",
    "not\n"
   ]
  },
  {
   "cell_type": "code",
   "execution_count": 15,
   "id": "e8769fad-8d92-4180-8fb9-995eb923516d",
   "metadata": {},
   "outputs": [],
   "source": [
    "a =10\n",
    "b=20"
   ]
  },
  {
   "cell_type": "code",
   "execution_count": 16,
   "id": "c925a2ba-e76d-4b3a-8e4f-9af94c4275de",
   "metadata": {},
   "outputs": [
    {
     "data": {
      "text/plain": [
       "False"
      ]
     },
     "execution_count": 16,
     "metadata": {},
     "output_type": "execute_result"
    }
   ],
   "source": [
    "(a>10) and (b>20)"
   ]
  },
  {
   "cell_type": "raw",
   "id": "59e51c40-5826-48b7-a842-2f94e8b199e3",
   "metadata": {},
   "source": [
    "TRUTH TABLE FOR AND\n",
    "1 1 1\n",
    "1 0 0\n",
    "0 1 0\n",
    "0 0 0"
   ]
  },
  {
   "cell_type": "raw",
   "id": "b43733cc-d079-4df5-a176-571cd6a8766e",
   "metadata": {},
   "source": [
    "truth table for or\n",
    "1 1 1\n",
    "1 0 1\n",
    "0 1 1\n",
    "0 0 0"
   ]
  },
  {
   "cell_type": "code",
   "execution_count": 17,
   "id": "e8486e18-0459-4792-b2af-bbf16ded6dae",
   "metadata": {},
   "outputs": [
    {
     "data": {
      "text/plain": [
       "False"
      ]
     },
     "execution_count": 17,
     "metadata": {},
     "output_type": "execute_result"
    }
   ],
   "source": [
    "((a>10) and (b>8))"
   ]
  },
  {
   "cell_type": "code",
   "execution_count": 18,
   "id": "12a4584d-e932-412f-bfdc-7489d827ed49",
   "metadata": {},
   "outputs": [
    {
     "name": "stdout",
     "output_type": "stream",
     "text": [
      "False\n"
     ]
    }
   ],
   "source": [
    "print( True and False)"
   ]
  },
  {
   "cell_type": "code",
   "execution_count": 19,
   "id": "88d661a9-5536-42a7-9643-3b8c74de9e1b",
   "metadata": {},
   "outputs": [
    {
     "name": "stdout",
     "output_type": "stream",
     "text": [
      "True\n"
     ]
    }
   ],
   "source": [
    "print( True or False)"
   ]
  },
  {
   "cell_type": "code",
   "execution_count": 20,
   "id": "bd983f26-ff9b-4790-b97c-d7919ade62b0",
   "metadata": {},
   "outputs": [],
   "source": [
    "a = True\n"
   ]
  },
  {
   "cell_type": "code",
   "execution_count": 21,
   "id": "df4642dd-ca7b-42d9-a023-b689f3055b1a",
   "metadata": {},
   "outputs": [
    {
     "data": {
      "text/plain": [
       "False"
      ]
     },
     "execution_count": 21,
     "metadata": {},
     "output_type": "execute_result"
    }
   ],
   "source": [
    "not(a)"
   ]
  },
  {
   "cell_type": "raw",
   "id": "b66c36ba-0376-484c-a89f-584f726df7dc",
   "metadata": {},
   "source": [
    "& -- AND \n",
    "| -- OR\n",
    "^ -- XOR\n",
    "~ -- NEGATIONM\n",
    "<< -- LEFT SHIFT\n",
    ">> -- RIGHT SHIFT"
   ]
  },
  {
   "cell_type": "code",
   "execution_count": 23,
   "id": "00bd2afd-c5cb-4271-9c9d-5ab65c9f2a5a",
   "metadata": {},
   "outputs": [],
   "source": [
    "a = 10\n",
    "b = 4"
   ]
  },
  {
   "cell_type": "code",
   "execution_count": 24,
   "id": "f7117875-d688-4592-8f19-6d32d0a0c79a",
   "metadata": {},
   "outputs": [
    {
     "data": {
      "text/plain": [
       "'0b1010'"
      ]
     },
     "execution_count": 24,
     "metadata": {},
     "output_type": "execute_result"
    }
   ],
   "source": [
    "bin(a)"
   ]
  },
  {
   "cell_type": "code",
   "execution_count": 25,
   "id": "344faf67-c34a-41ca-9a7d-bfac0ac27dc5",
   "metadata": {},
   "outputs": [
    {
     "data": {
      "text/plain": [
       "'0b100'"
      ]
     },
     "execution_count": 25,
     "metadata": {},
     "output_type": "execute_result"
    }
   ],
   "source": [
    "bin(4)"
   ]
  },
  {
   "cell_type": "code",
   "execution_count": 26,
   "id": "567ca8b6-b4c0-4a38-8a7f-29306a64030c",
   "metadata": {},
   "outputs": [
    {
     "data": {
      "text/plain": [
       "8421"
      ]
     },
     "execution_count": 26,
     "metadata": {},
     "output_type": "execute_result"
    }
   ],
   "source": [
    "8421"
   ]
  },
  {
   "cell_type": "code",
   "execution_count": 27,
   "id": "78eb2797-2c37-492b-85b3-6989f558fc5a",
   "metadata": {},
   "outputs": [
    {
     "data": {
      "text/plain": [
       "0"
      ]
     },
     "execution_count": 27,
     "metadata": {},
     "output_type": "execute_result"
    }
   ],
   "source": [
    "a & b"
   ]
  },
  {
   "cell_type": "code",
   "execution_count": 28,
   "id": "f41eefc3-6a5d-4783-b7a3-6609e1674892",
   "metadata": {},
   "outputs": [],
   "source": [
    "a = 10"
   ]
  },
  {
   "cell_type": "code",
   "execution_count": 29,
   "id": "7fa98c3b-d67e-47b7-8361-14bd52952d01",
   "metadata": {},
   "outputs": [
    {
     "data": {
      "text/plain": [
       "-11"
      ]
     },
     "execution_count": 29,
     "metadata": {},
     "output_type": "execute_result"
    }
   ],
   "source": [
    "~a"
   ]
  },
  {
   "cell_type": "code",
   "execution_count": 30,
   "id": "e849c32f-9314-44c1-9fae-5cfa25eff6f1",
   "metadata": {},
   "outputs": [],
   "source": [
    "a =8\n"
   ]
  },
  {
   "cell_type": "code",
   "execution_count": 31,
   "id": "5dee0b9a-d0d0-4b46-a4fc-188aaa5361a8",
   "metadata": {},
   "outputs": [
    {
     "data": {
      "text/plain": [
       "-9"
      ]
     },
     "execution_count": 31,
     "metadata": {},
     "output_type": "execute_result"
    }
   ],
   "source": [
    "~a"
   ]
  },
  {
   "cell_type": "code",
   "execution_count": 4,
   "id": "e72b839a-c94e-4ce8-bae1-81cfef647127",
   "metadata": {},
   "outputs": [
    {
     "data": {
      "text/plain": [
       "11"
      ]
     },
     "execution_count": 4,
     "metadata": {},
     "output_type": "execute_result"
    }
   ],
   "source": [
    "~(-12)"
   ]
  },
  {
   "cell_type": "code",
   "execution_count": 5,
   "id": "118d760a-1111-4187-8480-7ecef36bdb93",
   "metadata": {},
   "outputs": [],
   "source": [
    "x = [1,2,3,4,5]"
   ]
  },
  {
   "cell_type": "code",
   "execution_count": 6,
   "id": "1528c8c9-08cc-492d-b38c-223c14cba997",
   "metadata": {},
   "outputs": [
    {
     "data": {
      "text/plain": [
       "True"
      ]
     },
     "execution_count": 6,
     "metadata": {},
     "output_type": "execute_result"
    }
   ],
   "source": [
    "2 in x"
   ]
  },
  {
   "cell_type": "code",
   "execution_count": 7,
   "id": "fa863b0b-78c2-456d-873b-0034c89583c5",
   "metadata": {},
   "outputs": [
    {
     "data": {
      "text/plain": [
       "False"
      ]
     },
     "execution_count": 7,
     "metadata": {},
     "output_type": "execute_result"
    }
   ],
   "source": [
    "7 in x"
   ]
  },
  {
   "cell_type": "code",
   "execution_count": 8,
   "id": "bbca4bd8-59d1-454c-b0db-2de66578b59e",
   "metadata": {},
   "outputs": [],
   "source": [
    "a =10"
   ]
  },
  {
   "cell_type": "code",
   "execution_count": 15,
   "id": "edaba38c-4d64-499b-9028-9f04cbe30e08",
   "metadata": {},
   "outputs": [
    {
     "data": {
      "text/plain": [
       "20"
      ]
     },
     "execution_count": 15,
     "metadata": {},
     "output_type": "execute_result"
    }
   ],
   "source": [
    "a <<1 # multiply by 2"
   ]
  },
  {
   "cell_type": "raw",
   "id": "d43b3cf5-3196-40a4-b366-aff8f8d324f0",
   "metadata": {},
   "source": [
    "1010 left shit------> 10100"
   ]
  },
  {
   "cell_type": "code",
   "execution_count": 16,
   "id": "4b7c1289-bc7e-44c4-949a-f51e8f43150c",
   "metadata": {},
   "outputs": [
    {
     "data": {
      "text/plain": [
       "40"
      ]
     },
     "execution_count": 16,
     "metadata": {},
     "output_type": "execute_result"
    }
   ],
   "source": [
    "a << 2 "
   ]
  },
  {
   "cell_type": "code",
   "execution_count": 17,
   "id": "aae56e8d-ca32-4daa-ab18-4684fc33833d",
   "metadata": {},
   "outputs": [
    {
     "data": {
      "text/plain": [
       "80"
      ]
     },
     "execution_count": 17,
     "metadata": {},
     "output_type": "execute_result"
    }
   ],
   "source": [
    "a<<3"
   ]
  },
  {
   "cell_type": "code",
   "execution_count": 18,
   "id": "3512663c-d30c-4e2d-9e0a-1bc7ef03fc47",
   "metadata": {},
   "outputs": [
    {
     "data": {
      "text/plain": [
       "5"
      ]
     },
     "execution_count": 18,
     "metadata": {},
     "output_type": "execute_result"
    }
   ],
   "source": [
    "a >>1 #divide by 2"
   ]
  },
  {
   "cell_type": "raw",
   "id": "0773bdb9-ccc5-408e-89a3-55d428eb2416",
   "metadata": {},
   "source": [
    "if \n",
    "if else \n",
    "if elif else"
   ]
  },
  {
   "cell_type": "code",
   "execution_count": 2,
   "id": "b7be9023-8192-44fb-9f88-5a7cc717f5d6",
   "metadata": {},
   "outputs": [],
   "source": [
    "age = 16"
   ]
  },
  {
   "cell_type": "code",
   "execution_count": 3,
   "id": "e194c000-3421-4093-8e1e-4dffef7ff65c",
   "metadata": {},
   "outputs": [
    {
     "name": "stdout",
     "output_type": "stream",
     "text": [
      "you cannot drive\n"
     ]
    }
   ],
   "source": [
    "if age >=18:\n",
    "    print(\"you can drive\")\n",
    "else:\n",
    "    print(\"you cannot drive\")"
   ]
  },
  {
   "cell_type": "code",
   "execution_count": 4,
   "id": "d29aabe7-6758-4a5d-9314-a25eb1e75b9c",
   "metadata": {},
   "outputs": [],
   "source": [
    "x =2\n",
    "if x >=23:\n",
    "    print(\"you are inside the if block\")"
   ]
  },
  {
   "cell_type": "code",
   "execution_count": 6,
   "id": "9a81728c-8ad5-467b-8a02-c2730d743586",
   "metadata": {},
   "outputs": [
    {
     "name": "stdout",
     "output_type": "stream",
     "text": [
      "excellent performance your grade is C\n"
     ]
    }
   ],
   "source": [
    "score = 56\n",
    "if score >=90:\n",
    "    print(\"excellent performance your grade is A +\")\n",
    "elif score>=80:\n",
    "    print(\"excellent performance your grade is A \")\n",
    "elif score>= 70:\n",
    "    print(\"excellent performance your grade is B\")\n",
    "else:\n",
    "    print(\"excellent performance your grade is C\")\n",
    "    "
   ]
  },
  {
   "cell_type": "code",
   "execution_count": 16,
   "id": "62f1c34c-0497-48e0-b225-93c7107a30ef",
   "metadata": {},
   "outputs": [
    {
     "name": "stdin",
     "output_type": "stream",
     "text": [
      "Enter an integer between 0 to 23: -23\n"
     ]
    },
    {
     "name": "stdout",
     "output_type": "stream",
     "text": [
      "invalid\n"
     ]
    }
   ],
   "source": [
    "T = int(input(\"Enter an integer between 0 to 23:\"))\n",
    "if (T <0 or T>=24  ):\n",
    "    print(\"invalid\")\n",
    "elif(T<=5):\n",
    "    print(\"NIGHT\")\n",
    "elif(T<=11):\n",
    "    print(\"MORNING\")\n",
    "elif(T<=17):\n",
    "    print(\"AFTERNOON\")\n",
    "elif(T<=23):\n",
    "    print(\"EVENING\")"
   ]
  },
  {
   "cell_type": "raw",
   "id": "bc2023a4-143b-4b13-b7bb-b32df9abf53c",
   "metadata": {},
   "source": [
    "Find the largest number from three given number"
   ]
  },
  {
   "cell_type": "raw",
   "id": "8eb39991-9899-43e4-8dc0-65b0471006c2",
   "metadata": {},
   "source": []
  },
  {
   "cell_type": "code",
   "execution_count": 18,
   "id": "9978cc9f-62ad-4ab6-8993-af88e36b5543",
   "metadata": {},
   "outputs": [
    {
     "name": "stdout",
     "output_type": "stream",
     "text": [
      "largest number is  30\n"
     ]
    }
   ],
   "source": [
    "num1 =10\n",
    "num2=20\n",
    "num3=30\n",
    "\n",
    "if(num1>=num2) and (num1>=num3):\n",
    "    largest=num1\n",
    "    print(\"largest number is \",largest)\n",
    "elif(num2>=num1) and (num2>=num3):\n",
    "    largest=num2\n",
    "    print(\"largest number is \",largest)\n",
    "else:\n",
    "    largest=num3\n",
    "    print(\"largest number is \",largest)"
   ]
  },
  {
   "cell_type": "raw",
   "id": "7e69f695-7cb9-4482-b1d4-ef5ec385fe15",
   "metadata": {},
   "source": [
    "add,sub,mul,div\n"
   ]
  },
  {
   "cell_type": "code",
   "execution_count": 24,
   "id": "1999a6b4-cc66-4d99-b4cb-3250b72cba63",
   "metadata": {},
   "outputs": [
    {
     "name": "stdin",
     "output_type": "stream",
     "text": [
      "Enter the 1st number :  45\n",
      "Enter the operator(+,-,*,/,% :  +\n",
      "Enter the 2nd number :  5\n"
     ]
    },
    {
     "name": "stdout",
     "output_type": "stream",
     "text": [
      "50\n"
     ]
    }
   ],
   "source": [
    "x = int(input(\"Enter the 1st number : \" ))\n",
    "operator = input(\"Enter the operator(+,-,*,/,% : \")\n",
    "y = int(input(\"Enter the 2nd number : \"))\n",
    "if operator == '+':\n",
    "    print(x+y)\n",
    "elif operator =='-':\n",
    "    print(x-y)\n",
    "elif operator =='*':\n",
    "    print(x*y)\n",
    "elif operator =='/':\n",
    "    print(x/y)\n",
    "elif operator =='%':\n",
    "    print(x%y)\n",
    "else:\n",
    "    print(\"invalid\")"
   ]
  },
  {
   "cell_type": "code",
   "execution_count": 26,
   "id": "10f596b7-59dc-4e3f-982f-472230aca5bb",
   "metadata": {},
   "outputs": [
    {
     "name": "stdout",
     "output_type": "stream",
     "text": [
      "number is positive\n"
     ]
    }
   ],
   "source": [
    "num=89\n",
    "\n",
    "if(num>=0):\n",
    "    if num ==0:\n",
    "        print(\"munber is 0\")\n",
    "    else:\n",
    "        print(\"number is positive\")\n",
    "else:\n",
    "    print(\"number is negative\")"
   ]
  },
  {
   "cell_type": "code",
   "execution_count": 27,
   "id": "99f50f9b-3a76-4fc5-a5cc-8cc87f8a41a1",
   "metadata": {},
   "outputs": [
    {
     "data": {
      "text/plain": [
       "range(0, 5)"
      ]
     },
     "execution_count": 27,
     "metadata": {},
     "output_type": "execute_result"
    }
   ],
   "source": [
    "range(5)"
   ]
  },
  {
   "cell_type": "code",
   "execution_count": 28,
   "id": "4e260fd8-e3e0-4fdd-b07f-3e9d551d5384",
   "metadata": {},
   "outputs": [
    {
     "data": {
      "text/plain": [
       "[0, 1, 2, 3, 4]"
      ]
     },
     "execution_count": 28,
     "metadata": {},
     "output_type": "execute_result"
    }
   ],
   "source": [
    "list(range(5))"
   ]
  },
  {
   "cell_type": "code",
   "execution_count": 29,
   "id": "0992af0a-dbd9-4ad8-a35d-3854444faa6e",
   "metadata": {},
   "outputs": [
    {
     "data": {
      "text/plain": [
       "[0, 1, 2, 3, 4, 5, 6, 7, 8, 9]"
      ]
     },
     "execution_count": 29,
     "metadata": {},
     "output_type": "execute_result"
    }
   ],
   "source": [
    "list(range(10))"
   ]
  },
  {
   "cell_type": "code",
   "execution_count": 30,
   "id": "c89666b7-1d87-4199-ac24-b8dac03b352a",
   "metadata": {},
   "outputs": [
    {
     "data": {
      "text/plain": [
       "[2, 3, 4, 5, 6, 7, 8, 9]"
      ]
     },
     "execution_count": 30,
     "metadata": {},
     "output_type": "execute_result"
    }
   ],
   "source": [
    "list(range(2,10))"
   ]
  },
  {
   "cell_type": "code",
   "execution_count": 31,
   "id": "2cc3deeb-88b6-4ed0-b83d-31911e8a576e",
   "metadata": {},
   "outputs": [
    {
     "data": {
      "text/plain": [
       "[45,\n",
       " 46,\n",
       " 47,\n",
       " 48,\n",
       " 49,\n",
       " 50,\n",
       " 51,\n",
       " 52,\n",
       " 53,\n",
       " 54,\n",
       " 55,\n",
       " 56,\n",
       " 57,\n",
       " 58,\n",
       " 59,\n",
       " 60,\n",
       " 61,\n",
       " 62,\n",
       " 63,\n",
       " 64,\n",
       " 65,\n",
       " 66]"
      ]
     },
     "execution_count": 31,
     "metadata": {},
     "output_type": "execute_result"
    }
   ],
   "source": [
    "list(range(45,67))"
   ]
  },
  {
   "cell_type": "code",
   "execution_count": 32,
   "id": "4a24c0a7-c85e-4d74-862e-d96aaed7383c",
   "metadata": {},
   "outputs": [
    {
     "data": {
      "text/plain": [
       "[2, 4, 6, 8, 10]"
      ]
     },
     "execution_count": 32,
     "metadata": {},
     "output_type": "execute_result"
    }
   ],
   "source": [
    "list(range(2,12,2))"
   ]
  },
  {
   "cell_type": "code",
   "execution_count": 33,
   "id": "8e4698cb-76b9-4344-bdd5-5e114a3e10cb",
   "metadata": {},
   "outputs": [
    {
     "data": {
      "text/plain": [
       "(2, 5, 8, 11, 14, 17, 20)"
      ]
     },
     "execution_count": 33,
     "metadata": {},
     "output_type": "execute_result"
    }
   ],
   "source": [
    "tuple(range(2,23,3))"
   ]
  },
  {
   "cell_type": "code",
   "execution_count": 34,
   "id": "5707d680-32a8-414a-9e72-1a2df48033d0",
   "metadata": {},
   "outputs": [
    {
     "name": "stdout",
     "output_type": "stream",
     "text": [
      "0\n",
      "1\n",
      "2\n",
      "3\n"
     ]
    }
   ],
   "source": [
    "for i in range(4):\n",
    "    print(i)"
   ]
  },
  {
   "cell_type": "code",
   "execution_count": 1,
   "id": "53f24219-8ad3-493c-8fda-4aaddeb93c27",
   "metadata": {},
   "outputs": [
    {
     "name": "stdout",
     "output_type": "stream",
     "text": [
      "0\n",
      "1\n",
      "2\n"
     ]
    }
   ],
   "source": [
    "for i in range(3):\n",
    "    print(i)"
   ]
  },
  {
   "cell_type": "code",
   "execution_count": 2,
   "id": "4701bf29-32bd-42dc-b03f-052877369e5d",
   "metadata": {},
   "outputs": [
    {
     "name": "stdout",
     "output_type": "stream",
     "text": [
      "a\n",
      "b\n",
      "c\n"
     ]
    }
   ],
   "source": [
    "for i in ['a','b','c']:\n",
    "    print(i)"
   ]
  },
  {
   "cell_type": "code",
   "execution_count": 3,
   "id": "a06fa734-f3dd-4152-89a6-c4e4f961cf5c",
   "metadata": {},
   "outputs": [
    {
     "name": "stdout",
     "output_type": "stream",
     "text": [
      "p\n",
      "w\n",
      "s\n",
      "k\n",
      "i\n",
      "l\n",
      "l\n",
      "s\n"
     ]
    }
   ],
   "source": [
    "for i in \"pwskills\":\n",
    "    print(i)"
   ]
  },
  {
   "cell_type": "code",
   "execution_count": 4,
   "id": "c318283f-65e0-49bc-8e09-31e100791125",
   "metadata": {},
   "outputs": [
    {
     "ename": "TypeError",
     "evalue": "'int' object is not iterable",
     "output_type": "error",
     "traceback": [
      "\u001b[0;31m---------------------------------------------------------------------------\u001b[0m",
      "\u001b[0;31mTypeError\u001b[0m                                 Traceback (most recent call last)",
      "Cell \u001b[0;32mIn[4], line 1\u001b[0m\n\u001b[0;32m----> 1\u001b[0m \u001b[38;5;28;01mfor\u001b[39;00m i \u001b[38;5;129;01min\u001b[39;00m \u001b[38;5;241m23\u001b[39m:\n\u001b[1;32m      2\u001b[0m     \u001b[38;5;28mprint\u001b[39m(i)\n",
      "\u001b[0;31mTypeError\u001b[0m: 'int' object is not iterable"
     ]
    }
   ],
   "source": [
    "for i in 23:\n",
    "    print(i)"
   ]
  },
  {
   "cell_type": "code",
   "execution_count": 6,
   "id": "0c06156a-2365-4316-a41b-5fb2f40108ea",
   "metadata": {},
   "outputs": [
    {
     "name": "stdout",
     "output_type": "stream",
     "text": [
      "puja\n",
      "nagpur\n"
     ]
    }
   ],
   "source": [
    "x = {\"name\":\"puja\",\"city\":\"nagpur\"}\n",
    "for i in x.values():\n",
    "    print(i)"
   ]
  },
  {
   "cell_type": "code",
   "execution_count": 7,
   "id": "a9f628d7-5ed5-488a-a551-b048c1470a23",
   "metadata": {},
   "outputs": [
    {
     "data": {
      "text/plain": [
       "range(0, 4)"
      ]
     },
     "execution_count": 7,
     "metadata": {},
     "output_type": "execute_result"
    }
   ],
   "source": [
    "range(4)"
   ]
  },
  {
   "cell_type": "code",
   "execution_count": null,
   "id": "f4234031-b958-437e-b184-eef6894666a2",
   "metadata": {},
   "outputs": [],
   "source": [
    "range(start,stop,step)"
   ]
  },
  {
   "cell_type": "code",
   "execution_count": 9,
   "id": "1cd1cc29-737b-42a7-a4b4-d9070379318e",
   "metadata": {},
   "outputs": [
    {
     "data": {
      "text/plain": [
       "[2, 3, 4]"
      ]
     },
     "execution_count": 9,
     "metadata": {},
     "output_type": "execute_result"
    }
   ],
   "source": [
    "list(range(2,5))"
   ]
  },
  {
   "cell_type": "code",
   "execution_count": 10,
   "id": "67e5d61f-6b15-4731-9cdb-64278810cf60",
   "metadata": {},
   "outputs": [
    {
     "name": "stdout",
     "output_type": "stream",
     "text": [
      "5\n",
      "7\n"
     ]
    }
   ],
   "source": [
    "for i in range(5,8,2):\n",
    "    print(i)"
   ]
  },
  {
   "cell_type": "code",
   "execution_count": 13,
   "id": "c297a38b-c79a-4eee-8a9c-8ebfca896866",
   "metadata": {},
   "outputs": [
    {
     "name": "stdout",
     "output_type": "stream",
     "text": [
      "india\n",
      "UK\n",
      "france\n",
      "china\n",
      "germony\n"
     ]
    }
   ],
   "source": [
    "country =['india','UK','france','china','germony']\n",
    "\n",
    "for city in country:\n",
    "    print(city)"
   ]
  },
  {
   "cell_type": "code",
   "execution_count": 14,
   "id": "64eb2465-af26-4943-809b-6214583e9c06",
   "metadata": {},
   "outputs": [
    {
     "name": "stdout",
     "output_type": "stream",
     "text": [
      "india\n",
      "UK\n",
      "france\n",
      "china\n",
      "germony\n"
     ]
    }
   ],
   "source": [
    "country =['india','UK','france','china','germony']\n",
    "\n",
    "for index in range(len(country)):\n",
    "    print(country[index])"
   ]
  },
  {
   "cell_type": "code",
   "execution_count": 16,
   "id": "fdddc5b6-2f55-4169-af2c-54a39a44bd17",
   "metadata": {},
   "outputs": [
    {
     "name": "stdout",
     "output_type": "stream",
     "text": [
      "name\n",
      "city\n"
     ]
    }
   ],
   "source": [
    "for i in x.keys():\n",
    "    print(i)"
   ]
  },
  {
   "cell_type": "code",
   "execution_count": 17,
   "id": "94274896-04ba-4cda-8190-edcd88de6d7e",
   "metadata": {},
   "outputs": [],
   "source": [
    "dic1 ={\"x1\":1,\"x2\":2,\"x3\":3}"
   ]
  },
  {
   "cell_type": "code",
   "execution_count": 18,
   "id": "61fcbd31-67b2-494a-8cee-806f296b9e13",
   "metadata": {},
   "outputs": [
    {
     "data": {
      "text/plain": [
       "dict_keys(['x1', 'x2', 'x3'])"
      ]
     },
     "execution_count": 18,
     "metadata": {},
     "output_type": "execute_result"
    }
   ],
   "source": [
    "dic1.keys()"
   ]
  },
  {
   "cell_type": "code",
   "execution_count": 19,
   "id": "f47a010f-4e13-4f51-aa33-79e081c4bc59",
   "metadata": {},
   "outputs": [
    {
     "data": {
      "text/plain": [
       "dict_values([1, 2, 3])"
      ]
     },
     "execution_count": 19,
     "metadata": {},
     "output_type": "execute_result"
    }
   ],
   "source": [
    "dic1.values()"
   ]
  },
  {
   "cell_type": "code",
   "execution_count": 20,
   "id": "d55b1497-825a-472d-a4f7-eeb77cd77963",
   "metadata": {},
   "outputs": [
    {
     "name": "stdout",
     "output_type": "stream",
     "text": [
      "x1 1\n",
      "x2 2\n",
      "x3 3\n"
     ]
    }
   ],
   "source": [
    "for key in dic1:\n",
    "    print(key,dic1[key])"
   ]
  },
  {
   "cell_type": "code",
   "execution_count": 21,
   "id": "1808c7f3-f08c-42e4-a270-ab6d3e6749a3",
   "metadata": {},
   "outputs": [
    {
     "data": {
      "text/plain": [
       "1"
      ]
     },
     "execution_count": 21,
     "metadata": {},
     "output_type": "execute_result"
    }
   ],
   "source": [
    "dic1[\"x1\"]"
   ]
  },
  {
   "cell_type": "code",
   "execution_count": 25,
   "id": "6bec31d1-438b-4062-89f1-72d10307c726",
   "metadata": {},
   "outputs": [
    {
     "name": "stdout",
     "output_type": "stream",
     "text": [
      "1\n",
      "2\n",
      "3\n"
     ]
    }
   ],
   "source": [
    "for value in dic1.values():\n",
    "    print(value)"
   ]
  },
  {
   "cell_type": "code",
   "execution_count": 26,
   "id": "ad48b6db-21ec-46af-bd5c-73be161a8eb4",
   "metadata": {},
   "outputs": [
    {
     "name": "stdout",
     "output_type": "stream",
     "text": [
      "1\n",
      "2\n",
      "3\n"
     ]
    }
   ],
   "source": [
    "for i in (1,2,3):\n",
    "    print(i)"
   ]
  },
  {
   "cell_type": "code",
   "execution_count": 28,
   "id": "61233180-cc2f-4df2-81fb-8cca999ba288",
   "metadata": {},
   "outputs": [
    {
     "name": "stdout",
     "output_type": "stream",
     "text": [
      "1\n",
      "2\n",
      "3\n"
     ]
    }
   ],
   "source": [
    "for i in {1,2,3}:\n",
    "    print(i)"
   ]
  },
  {
   "cell_type": "code",
   "execution_count": 29,
   "id": "c8d657ce-e952-41ef-b7ac-b0c16ad102c6",
   "metadata": {},
   "outputs": [
    {
     "name": "stdout",
     "output_type": "stream",
     "text": [
      "[0, 1, 2, 3, 4, 5, 6, 7, 8, 9]\n"
     ]
    }
   ],
   "source": [
    "print(list(range(10)))"
   ]
  },
  {
   "cell_type": "code",
   "execution_count": 31,
   "id": "638d1ccc-e797-4f25-9c87-823df4f9a6f0",
   "metadata": {},
   "outputs": [
    {
     "name": "stdout",
     "output_type": "stream",
     "text": [
      "hi @pw@ skills @ineuron@ "
     ]
    }
   ],
   "source": [
    "print(\"hi\",end=' @')\n",
    "print(\"pw\",end='@ ')\n",
    "print(\"skills\",end=' @')\n",
    "print(\"ineuron\",end='@ ')\n"
   ]
  },
  {
   "cell_type": "code",
   "execution_count": 32,
   "id": "8d4e127d-57bb-4da9-9617-c730136112a1",
   "metadata": {},
   "outputs": [
    {
     "name": "stdout",
     "output_type": "stream",
     "text": [
      "0& 1& 2& 3& 4& 5& 6& 7& 8& 9& "
     ]
    }
   ],
   "source": [
    "for i in range(10):\n",
    "    print(i,end='& ')"
   ]
  },
  {
   "cell_type": "code",
   "execution_count": 33,
   "id": "2b2c8a97-7fef-4069-9100-43f02854f4f3",
   "metadata": {},
   "outputs": [
    {
     "name": "stdout",
     "output_type": "stream",
     "text": [
      "0\n",
      "1\n",
      "2\n",
      "3\n",
      "4\n",
      "done\n"
     ]
    }
   ],
   "source": [
    "for i in range(5):\n",
    "    print(i)\n",
    "else:\n",
    "    print(\"done\")"
   ]
  },
  {
   "cell_type": "markdown",
   "id": "0590a883-9050-4a13-b5b1-ccc84be6e072",
   "metadata": {},
   "source": [
    "Pattern"
   ]
  },
  {
   "cell_type": "code",
   "execution_count": 38,
   "id": "a610e313-9ca4-4988-b4bf-aa9942252bb7",
   "metadata": {},
   "outputs": [
    {
     "name": "stdout",
     "output_type": "stream",
     "text": [
      "* \n",
      "* * \n",
      "* * * \n",
      "* * * * \n",
      "* * * * * \n"
     ]
    }
   ],
   "source": [
    "for i in range(5):\n",
    "    for j in range(i+1):\n",
    "        print(\"*\",end=' ')\n",
    "    print()\n",
    "        "
   ]
  },
  {
   "cell_type": "code",
   "execution_count": null,
   "id": "062c60e6-4f42-49ae-863f-aab1e70fb4bb",
   "metadata": {},
   "outputs": [],
   "source": []
  }
 ],
 "metadata": {
  "kernelspec": {
   "display_name": "Python 3 (ipykernel)",
   "language": "python",
   "name": "python3"
  },
  "language_info": {
   "codemirror_mode": {
    "name": "ipython",
    "version": 3
   },
   "file_extension": ".py",
   "mimetype": "text/x-python",
   "name": "python",
   "nbconvert_exporter": "python",
   "pygments_lexer": "ipython3",
   "version": "3.10.8"
  }
 },
 "nbformat": 4,
 "nbformat_minor": 5
}
