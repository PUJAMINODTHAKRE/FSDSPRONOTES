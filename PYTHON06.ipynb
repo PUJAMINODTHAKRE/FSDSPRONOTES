{
 "cells": [
  {
   "cell_type": "markdown",
   "id": "f92d97bb-1302-4050-8cc9-836f134b2d2c",
   "metadata": {},
   "source": [
    "1. NUMERIC ---------- INT ,FLOAT,COMPLEX,\n",
    "2. STRING -------- STR\n",
    "3. LIST\n",
    "4. TUPLE\n",
    "5. DICT\n",
    "6. SETS"
   ]
  },
  {
   "cell_type": "code",
   "execution_count": 6,
   "id": "8df2bcea-60f6-479e-8942-ff718b5bbc44",
   "metadata": {},
   "outputs": [],
   "source": [
    "x = 10"
   ]
  },
  {
   "cell_type": "code",
   "execution_count": 7,
   "id": "ff23f193-6e96-4098-833d-6f29fd4fa179",
   "metadata": {},
   "outputs": [],
   "source": [
    "x = 3.14"
   ]
  },
  {
   "cell_type": "code",
   "execution_count": 8,
   "id": "8f102aa3-6363-4f8e-8412-20758283cccc",
   "metadata": {},
   "outputs": [],
   "source": [
    " s = 'pooja'"
   ]
  },
  {
   "cell_type": "code",
   "execution_count": 9,
   "id": "b1d9905c-836a-4885-8194-612f13f7b75a",
   "metadata": {},
   "outputs": [],
   "source": [
    "d = ['hello',3,4,5,6]"
   ]
  },
  {
   "cell_type": "code",
   "execution_count": 10,
   "id": "3446dfa9-b460-4ed4-845c-a77c1bc84c2b",
   "metadata": {},
   "outputs": [],
   "source": [
    "y = { 'Name' : 'mina'} \n",
    "     "
   ]
  },
  {
   "cell_type": "code",
   "execution_count": 11,
   "id": "110b2707-2d9e-4879-8539-bca9c001e686",
   "metadata": {},
   "outputs": [],
   "source": [
    "h = (2,3,4,5,3)"
   ]
  },
  {
   "cell_type": "code",
   "execution_count": 12,
   "id": "29915191-5f2a-43c8-8f83-43d268eba391",
   "metadata": {},
   "outputs": [
    {
     "data": {
      "text/plain": [
       "dict"
      ]
     },
     "execution_count": 12,
     "metadata": {},
     "output_type": "execute_result"
    }
   ],
   "source": [
    "type(y)"
   ]
  },
  {
   "cell_type": "code",
   "execution_count": 13,
   "id": "7aa4887e-224e-4e39-bdec-52d8909dc5d9",
   "metadata": {},
   "outputs": [
    {
     "name": "stdin",
     "output_type": "stream",
     "text": [
      " \"hello\"\n"
     ]
    }
   ],
   "source": [
    "f = input()"
   ]
  },
  {
   "cell_type": "code",
   "execution_count": 14,
   "id": "cbbf9085-b105-40bd-8792-5e2624234798",
   "metadata": {},
   "outputs": [
    {
     "data": {
      "text/plain": [
       "'\"hello\"'"
      ]
     },
     "execution_count": 14,
     "metadata": {},
     "output_type": "execute_result"
    }
   ],
   "source": [
    "f"
   ]
  },
  {
   "cell_type": "code",
   "execution_count": 16,
   "id": "2b08d08e-21b2-458e-a5c1-bb0901250f80",
   "metadata": {},
   "outputs": [
    {
     "name": "stdin",
     "output_type": "stream",
     "text": [
      " 6\n"
     ]
    }
   ],
   "source": [
    "f = input()"
   ]
  },
  {
   "cell_type": "code",
   "execution_count": 17,
   "id": "4cd7b506-20be-4f31-bcf1-34ee612bbcac",
   "metadata": {},
   "outputs": [
    {
     "name": "stdin",
     "output_type": "stream",
     "text": [
      "Enter your name pooja\n"
     ]
    }
   ],
   "source": [
    "w = input(\"Enter your name\")"
   ]
  },
  {
   "cell_type": "code",
   "execution_count": 18,
   "id": "59674a42-f42f-403e-9b09-91e49739877e",
   "metadata": {},
   "outputs": [
    {
     "data": {
      "text/plain": [
       "'pooja'"
      ]
     },
     "execution_count": 18,
     "metadata": {},
     "output_type": "execute_result"
    }
   ],
   "source": [
    "w"
   ]
  },
  {
   "cell_type": "code",
   "execution_count": 19,
   "id": "0efb8ce4-8db6-410a-a522-11f4b9e0e0da",
   "metadata": {},
   "outputs": [
    {
     "name": "stdout",
     "output_type": "stream",
     "text": [
      "hii\n"
     ]
    }
   ],
   "source": [
    "print(\"hii\")"
   ]
  },
  {
   "cell_type": "code",
   "execution_count": 22,
   "id": "9e5b9a66-3905-41b9-8755-54d517b51522",
   "metadata": {},
   "outputs": [
    {
     "name": "stdin",
     "output_type": "stream",
     "text": [
      "Enter your name puja\n"
     ]
    },
    {
     "name": "stdout",
     "output_type": "stream",
     "text": [
      "puja\n"
     ]
    }
   ],
   "source": [
    "s =input(\"Enter your name\")\n",
    "print(s)"
   ]
  },
  {
   "cell_type": "code",
   "execution_count": 36,
   "id": "850fd1f5-a0e1-4bf9-ac21-1f5d31233b34",
   "metadata": {},
   "outputs": [
    {
     "name": "stdin",
     "output_type": "stream",
     "text": [
      "Enter your age 45\n"
     ]
    },
    {
     "name": "stdout",
     "output_type": "stream",
     "text": [
      "My age is 45\n"
     ]
    }
   ],
   "source": [
    "d = input(\"Enter your age\")\n",
    "print(\"My age is \" + d) #concatination\n"
   ]
  },
  {
   "cell_type": "code",
   "execution_count": 26,
   "id": "ff7a57f9-f1e2-4578-89a4-200c07ab131d",
   "metadata": {},
   "outputs": [
    {
     "name": "stdout",
     "output_type": "stream",
     "text": [
      "42\n"
     ]
    }
   ],
   "source": [
    "x =10\n",
    "y = 32\n",
    "print(x+y)"
   ]
  },
  {
   "cell_type": "code",
   "execution_count": 27,
   "id": "73a02f1a-5bc4-478c-a8d3-c65b18a01732",
   "metadata": {},
   "outputs": [
    {
     "name": "stdin",
     "output_type": "stream",
     "text": [
      "Enter the value of x 3\n",
      "Enter the value of y 4\n"
     ]
    },
    {
     "name": "stdout",
     "output_type": "stream",
     "text": [
      "34\n"
     ]
    }
   ],
   "source": [
    "x = input(\"Enter the value of x\")\n",
    "y =  input(\"Enter the value of y\")\n",
    "print (x+y)"
   ]
  },
  {
   "cell_type": "code",
   "execution_count": 29,
   "id": "95fc8f1b-9ae1-45c3-a659-871f4a7494be",
   "metadata": {},
   "outputs": [
    {
     "name": "stdin",
     "output_type": "stream",
     "text": [
      "Enter any number 3\n"
     ]
    }
   ],
   "source": [
    "x = int(input(\"Enter any number\"))"
   ]
  },
  {
   "cell_type": "code",
   "execution_count": 30,
   "id": "48b71c40-ace7-44da-95f4-bbcf3cb1e778",
   "metadata": {},
   "outputs": [
    {
     "name": "stdout",
     "output_type": "stream",
     "text": [
      "pwskills\n"
     ]
    }
   ],
   "source": [
    "print(\"pwskills\")"
   ]
  },
  {
   "cell_type": "code",
   "execution_count": 34,
   "id": "4e67abcd-c993-4c4d-8f76-3ca613c951d4",
   "metadata": {},
   "outputs": [
    {
     "name": "stdout",
     "output_type": "stream",
     "text": [
      "hello ok  pwsills\n"
     ]
    }
   ],
   "source": [
    "x = \"hello\"\n",
    "y = \"pwsills\"\n",
    "\n",
    "print(f\"{x} ok  {y}\")  #--- f string format ( 'ok' is place holder)"
   ]
  },
  {
   "cell_type": "code",
   "execution_count": 35,
   "id": "165f3bfb-b5c2-4651-b2e8-eae2437b24d6",
   "metadata": {},
   "outputs": [
    {
     "name": "stdout",
     "output_type": "stream",
     "text": [
      "pw\n"
     ]
    }
   ],
   "source": [
    "print(\"pw\")"
   ]
  },
  {
   "cell_type": "code",
   "execution_count": 42,
   "id": "546f268b-a8cb-4434-9b55-6eaa397504b1",
   "metadata": {},
   "outputs": [
    {
     "name": "stdout",
     "output_type": "stream",
     "text": [
      "skills and pw and ineuron \n"
     ]
    }
   ],
   "source": [
    "print(\"{1} and {0} and {2} \".format(\"pw\",\"skills\",\"ineuron\")) #---dot f format"
   ]
  },
  {
   "cell_type": "markdown",
   "id": "75863a50-e4c6-4db5-afc4-cea52cda1f92",
   "metadata": {},
   "source": [
    "exa."
   ]
  },
  {
   "cell_type": "markdown",
   "id": "259fd665-7e42-4cc8-8a5d-f3dd9bf76e7f",
   "metadata": {},
   "source": [
    "1)"
   ]
  },
  {
   "cell_type": "code",
   "execution_count": 51,
   "id": "c06285a6-22e1-46cb-8647-5bc4d54f57bf",
   "metadata": {},
   "outputs": [
    {
     "name": "stdout",
     "output_type": "stream",
     "text": [
      " 89074562 \n",
      " hii! \n",
      " $$howareyou? \n",
      " 10*10==100 \n",
      " (12>10) and True\n",
      " i am here to learn \"python\" \n"
     ]
    }
   ],
   "source": [
    "print(\" {0} \\n {1} \\n {2} \\n {3} \\n {4} and {5}\\n {6} \".format(\"89074562\",\"hii!\",\"$$howareyou?\",\"10*10==100\", \"(12>10)\",\"True\",'i am here to learn \"python\"'))"
   ]
  },
  {
   "cell_type": "markdown",
   "id": "8b5a978b-d430-43e7-a64b-3222c53b6b9c",
   "metadata": {},
   "source": [
    "2)."
   ]
  },
  {
   "cell_type": "code",
   "execution_count": 52,
   "id": "d84c7850-3af2-40f9-8ae2-5ba32f20e25a",
   "metadata": {},
   "outputs": [
    {
     "name": "stdout",
     "output_type": "stream",
     "text": [
      " $ \n",
      " $$ \n",
      " $$$ \n",
      " $$$$ \n",
      " $$$$$\n"
     ]
    }
   ],
   "source": [
    "print(\" {0} \\n {1} \\n {2} \\n {3} \\n {4}\" .format(\"$\",\"$$\",\"$$$\",\"$$$$\",\"$$$$$\"))"
   ]
  },
  {
   "cell_type": "markdown",
   "id": "b9f991d1-a157-49c1-89bc-f1fc201442a5",
   "metadata": {},
   "source": [
    "3)."
   ]
  },
  {
   "cell_type": "code",
   "execution_count": 62,
   "id": "3fb11f0a-4f2a-4354-8db1-f76f45e4bde7",
   "metadata": {},
   "outputs": [
    {
     "name": "stdin",
     "output_type": "stream",
     "text": [
      " 123456\n"
     ]
    }
   ],
   "source": [
    "Input = input()"
   ]
  },
  {
   "cell_type": "code",
   "execution_count": 65,
   "id": "038a4443-1e04-47c6-8bf7-6aa79f7e86fc",
   "metadata": {},
   "outputs": [
    {
     "name": "stdout",
     "output_type": "stream",
     "text": [
      "!123456!\n"
     ]
    }
   ],
   "source": [
    "print(f\"!{Input}!\")"
   ]
  },
  {
   "cell_type": "markdown",
   "id": "e2212d03-3016-41b3-9f41-6d17b3f7fd8e",
   "metadata": {},
   "source": [
    "OR"
   ]
  },
  {
   "cell_type": "code",
   "execution_count": 2,
   "id": "747f05f8-ceb4-40c5-ba99-521af2031521",
   "metadata": {},
   "outputs": [
    {
     "name": "stdin",
     "output_type": "stream",
     "text": [
      "enter the string cool\n"
     ]
    },
    {
     "name": "stdout",
     "output_type": "stream",
     "text": [
      "!cool!\n"
     ]
    }
   ],
   "source": [
    "x = input(\"enter the string\")\n",
    "y=x\n",
    "z= \"!\"+y+\"!\"\n",
    "print(z)"
   ]
  },
  {
   "cell_type": "code",
   "execution_count": 3,
   "id": "65760685-1f5c-4a4a-b1ab-54e2ffcb54d8",
   "metadata": {},
   "outputs": [
    {
     "data": {
      "text/plain": [
       "'cool'"
      ]
     },
     "execution_count": 3,
     "metadata": {},
     "output_type": "execute_result"
    }
   ],
   "source": [
    "y"
   ]
  },
  {
   "cell_type": "code",
   "execution_count": 4,
   "id": "3fa4bd36-1491-42b6-a2f1-a711fccb564b",
   "metadata": {},
   "outputs": [],
   "source": [
    "a=10\n",
    "b=20\n"
   ]
  },
  {
   "cell_type": "code",
   "execution_count": 5,
   "id": "65ba6c14-ad9b-4d3e-90d2-c42db63664cc",
   "metadata": {},
   "outputs": [
    {
     "data": {
      "text/plain": [
       "30"
      ]
     },
     "execution_count": 5,
     "metadata": {},
     "output_type": "execute_result"
    }
   ],
   "source": [
    "a+b"
   ]
  },
  {
   "cell_type": "code",
   "execution_count": 6,
   "id": "998ccba5-7b17-46b3-bfc4-95af366e89be",
   "metadata": {},
   "outputs": [
    {
     "data": {
      "text/plain": [
       "10"
      ]
     },
     "execution_count": 6,
     "metadata": {},
     "output_type": "execute_result"
    }
   ],
   "source": [
    "b-a"
   ]
  },
  {
   "cell_type": "code",
   "execution_count": 7,
   "id": "5382d6ec-2096-4a9c-8b91-9b41f69f9fa1",
   "metadata": {},
   "outputs": [
    {
     "data": {
      "text/plain": [
       "200"
      ]
     },
     "execution_count": 7,
     "metadata": {},
     "output_type": "execute_result"
    }
   ],
   "source": [
    "a*b"
   ]
  },
  {
   "cell_type": "code",
   "execution_count": 8,
   "id": "58417ef7-dce6-4dfd-9cc6-f4850cb536fb",
   "metadata": {},
   "outputs": [
    {
     "data": {
      "text/plain": [
       "2.0"
      ]
     },
     "execution_count": 8,
     "metadata": {},
     "output_type": "execute_result"
    }
   ],
   "source": [
    "b/a"
   ]
  },
  {
   "cell_type": "code",
   "execution_count": 9,
   "id": "76a4c186-b69c-481b-ac25-b777b22fd862",
   "metadata": {},
   "outputs": [
    {
     "data": {
      "text/plain": [
       "0"
      ]
     },
     "execution_count": 9,
     "metadata": {},
     "output_type": "execute_result"
    }
   ],
   "source": [
    "b%a"
   ]
  },
  {
   "cell_type": "code",
   "execution_count": 10,
   "id": "4e6cc26e-14d8-4e47-8c08-da5504a2ecac",
   "metadata": {},
   "outputs": [],
   "source": [
    "a=10\n",
    "b=10"
   ]
  },
  {
   "cell_type": "code",
   "execution_count": 11,
   "id": "b9f4a8b0-18dc-48b2-a7e6-eec9d1ae728d",
   "metadata": {},
   "outputs": [
    {
     "data": {
      "text/plain": [
       "True"
      ]
     },
     "execution_count": 11,
     "metadata": {},
     "output_type": "execute_result"
    }
   ],
   "source": [
    "a==b"
   ]
  },
  {
   "cell_type": "code",
   "execution_count": 13,
   "id": "c3758d83-8e8f-4b5c-8ae8-0346f1a67409",
   "metadata": {},
   "outputs": [
    {
     "data": {
      "text/plain": [
       "True"
      ]
     },
     "execution_count": 13,
     "metadata": {},
     "output_type": "execute_result"
    }
   ],
   "source": [
    "a is b # \"is\" is identity operator"
   ]
  },
  {
   "cell_type": "code",
   "execution_count": 14,
   "id": "483955fb-f063-4135-bfa1-a10045aa4aac",
   "metadata": {},
   "outputs": [],
   "source": [
    "a=20\n",
    "b=30"
   ]
  },
  {
   "cell_type": "code",
   "execution_count": 15,
   "id": "694b1f1f-5d72-4993-ba97-bf8f8ae6c55e",
   "metadata": {},
   "outputs": [
    {
     "data": {
      "text/plain": [
       "False"
      ]
     },
     "execution_count": 15,
     "metadata": {},
     "output_type": "execute_result"
    }
   ],
   "source": [
    "a is b"
   ]
  },
  {
   "cell_type": "code",
   "execution_count": 18,
   "id": "132ce28f-3a67-4f1c-afa2-619d7660a0e5",
   "metadata": {},
   "outputs": [
    {
     "data": {
      "text/plain": [
       "False"
      ]
     },
     "execution_count": 18,
     "metadata": {},
     "output_type": "execute_result"
    }
   ],
   "source": [
    "a==b # equality oprator"
   ]
  },
  {
   "cell_type": "code",
   "execution_count": 21,
   "id": "6777e053-d85c-4bc8-9dbb-92f4f5cc374e",
   "metadata": {},
   "outputs": [
    {
     "data": {
      "text/plain": [
       "140416578061136"
      ]
     },
     "execution_count": 21,
     "metadata": {},
     "output_type": "execute_result"
    }
   ],
   "source": [
    "id(a)"
   ]
  },
  {
   "cell_type": "code",
   "execution_count": 22,
   "id": "72c80de2-dd8f-4e43-84c7-f4fa91a1c747",
   "metadata": {},
   "outputs": [
    {
     "data": {
      "text/plain": [
       "140416578061456"
      ]
     },
     "execution_count": 22,
     "metadata": {},
     "output_type": "execute_result"
    }
   ],
   "source": [
    "id(b)"
   ]
  },
  {
   "cell_type": "code",
   "execution_count": 32,
   "id": "de503bdc-40db-4050-82ca-84358bf47239",
   "metadata": {},
   "outputs": [
    {
     "data": {
      "text/plain": [
       "False"
      ]
     },
     "execution_count": 32,
     "metadata": {},
     "output_type": "execute_result"
    }
   ],
   "source": [
    "a is b # is operator check pointing to the same memory loction"
   ]
  },
  {
   "cell_type": "code",
   "execution_count": 33,
   "id": "a5841360-b13f-4e8f-9269-93f3d3bd135f",
   "metadata": {},
   "outputs": [
    {
     "data": {
      "text/plain": [
       "False"
      ]
     },
     "execution_count": 33,
     "metadata": {},
     "output_type": "execute_result"
    }
   ],
   "source": [
    "a!=b"
   ]
  },
  {
   "cell_type": "code",
   "execution_count": 34,
   "id": "99ecf343-e2bc-4ab2-a171-4a56f8783a7c",
   "metadata": {},
   "outputs": [],
   "source": [
    "a = [1,2,3,4]\n",
    "b = [1,2,3,4]"
   ]
  },
  {
   "cell_type": "code",
   "execution_count": 35,
   "id": "cc342468-cfb6-4f26-98ba-e199a83be615",
   "metadata": {},
   "outputs": [
    {
     "data": {
      "text/plain": [
       "True"
      ]
     },
     "execution_count": 35,
     "metadata": {},
     "output_type": "execute_result"
    }
   ],
   "source": [
    "a==b"
   ]
  },
  {
   "cell_type": "code",
   "execution_count": 36,
   "id": "3df710c1-e2ac-4fb3-866d-9e17a90d0168",
   "metadata": {},
   "outputs": [
    {
     "data": {
      "text/plain": [
       "False"
      ]
     },
     "execution_count": 36,
     "metadata": {},
     "output_type": "execute_result"
    }
   ],
   "source": [
    "a is b"
   ]
  },
  {
   "cell_type": "code",
   "execution_count": 37,
   "id": "c55f3cee-708d-493c-af92-78e7f66f20dd",
   "metadata": {},
   "outputs": [
    {
     "data": {
      "text/plain": [
       "140416510812736"
      ]
     },
     "execution_count": 37,
     "metadata": {},
     "output_type": "execute_result"
    }
   ],
   "source": [
    "id(a)"
   ]
  },
  {
   "cell_type": "code",
   "execution_count": 38,
   "id": "0c1f8aaf-7175-4db1-9cda-d23278bbdb26",
   "metadata": {},
   "outputs": [
    {
     "data": {
      "text/plain": [
       "140416380108928"
      ]
     },
     "execution_count": 38,
     "metadata": {},
     "output_type": "execute_result"
    }
   ],
   "source": [
    "id(b)"
   ]
  },
  {
   "cell_type": "code",
   "execution_count": 39,
   "id": "2e83887e-0904-4fb7-abcd-9f4d017f747a",
   "metadata": {},
   "outputs": [],
   "source": [
    "a = [1,2,3,4]"
   ]
  },
  {
   "cell_type": "code",
   "execution_count": 40,
   "id": "66cad170-4015-42d9-973b-a91a11ae4ec6",
   "metadata": {},
   "outputs": [],
   "source": [
    "b=a"
   ]
  },
  {
   "cell_type": "code",
   "execution_count": 41,
   "id": "ca3b3ead-7e70-4882-9c78-4e08700a89bb",
   "metadata": {},
   "outputs": [
    {
     "data": {
      "text/plain": [
       "True"
      ]
     },
     "execution_count": 41,
     "metadata": {},
     "output_type": "execute_result"
    }
   ],
   "source": [
    "a is b"
   ]
  },
  {
   "cell_type": "code",
   "execution_count": 42,
   "id": "bb373b42-7107-4a71-870b-fea9b9c0e729",
   "metadata": {},
   "outputs": [
    {
     "data": {
      "text/plain": [
       "True"
      ]
     },
     "execution_count": 42,
     "metadata": {},
     "output_type": "execute_result"
    }
   ],
   "source": [
    "a==b"
   ]
  },
  {
   "cell_type": "markdown",
   "id": "2713e900-9783-4ffa-b90b-102fd609ab09",
   "metadata": {},
   "source": [
    "4)."
   ]
  },
  {
   "cell_type": "code",
   "execution_count": 50,
   "id": "e5d75670-1e1e-48dd-8352-beab955705f4",
   "metadata": {},
   "outputs": [
    {
     "name": "stdin",
     "output_type": "stream",
     "text": [
      "Enter an integer = 10\n"
     ]
    }
   ],
   "source": [
    "x = int(input(\"Enter an integer =\"))"
   ]
  },
  {
   "cell_type": "code",
   "execution_count": 69,
   "id": "6ed4585b-7385-46b7-a41f-519e679c43d2",
   "metadata": {},
   "outputs": [],
   "source": [
    "y = (3**35)//x    # //  = is floor division(to get integers)"
   ]
  },
  {
   "cell_type": "code",
   "execution_count": 70,
   "id": "b784f73a-af4b-4782-bb6b-70a7c904738b",
   "metadata": {},
   "outputs": [
    {
     "name": "stdout",
     "output_type": "stream",
     "text": [
      "5003154509899970\n"
     ]
    }
   ],
   "source": [
    "print(y)"
   ]
  },
  {
   "cell_type": "code",
   "execution_count": 71,
   "id": "bae53b80-3f8f-4427-b4b7-785e35875583",
   "metadata": {},
   "outputs": [
    {
     "data": {
      "text/plain": [
       "4"
      ]
     },
     "execution_count": 71,
     "metadata": {},
     "output_type": "execute_result"
    }
   ],
   "source": [
    "2**2"
   ]
  },
  {
   "cell_type": "code",
   "execution_count": 72,
   "id": "bbef8d45-9c25-4c7c-8266-c0f3ff34d052",
   "metadata": {},
   "outputs": [],
   "source": [
    "a = 10\n",
    "b=33\n"
   ]
  },
  {
   "cell_type": "code",
   "execution_count": 74,
   "id": "962714ea-dccf-479f-9765-ccfbd762f8df",
   "metadata": {},
   "outputs": [
    {
     "data": {
      "text/plain": [
       "False"
      ]
     },
     "execution_count": 74,
     "metadata": {},
     "output_type": "execute_result"
    }
   ],
   "source": [
    "a>b"
   ]
  },
  {
   "cell_type": "code",
   "execution_count": 76,
   "id": "67577814-b577-4207-81a3-6f7ce344fe84",
   "metadata": {},
   "outputs": [
    {
     "data": {
      "text/plain": [
       "False"
      ]
     },
     "execution_count": 76,
     "metadata": {},
     "output_type": "execute_result"
    }
   ],
   "source": [
    "b<a"
   ]
  },
  {
   "cell_type": "code",
   "execution_count": 81,
   "id": "db3611f6-3f98-4a83-986e-a17975a51ec6",
   "metadata": {},
   "outputs": [
    {
     "data": {
      "text/plain": [
       "2"
      ]
     },
     "execution_count": 81,
     "metadata": {},
     "output_type": "execute_result"
    }
   ],
   "source": [
    "import math\n",
    "int(math.sqrt(4))"
   ]
  },
  {
   "cell_type": "code",
   "execution_count": 83,
   "id": "1ba2db6d-4720-4018-85f8-8c397a1f615d",
   "metadata": {},
   "outputs": [
    {
     "data": {
      "text/plain": [
       "2"
      ]
     },
     "execution_count": 83,
     "metadata": {},
     "output_type": "execute_result"
    }
   ],
   "source": [
    "5%3"
   ]
  },
  {
   "cell_type": "markdown",
   "id": "1fb7bcda-094b-4ea5-bc02-b23b3616e594",
   "metadata": {},
   "source": [
    "Bitwise operator"
   ]
  },
  {
   "cell_type": "code",
   "execution_count": 89,
   "id": "ef7f6a79-509b-4c5d-92bd-d312f1d788b7",
   "metadata": {},
   "outputs": [],
   "source": [
    "a=10\n",
    "b=4"
   ]
  },
  {
   "cell_type": "code",
   "execution_count": 90,
   "id": "9afdacc1-6b45-4a3a-8025-c61d7fa47bd4",
   "metadata": {},
   "outputs": [
    {
     "data": {
      "text/plain": [
       "'0b1010'"
      ]
     },
     "execution_count": 90,
     "metadata": {},
     "output_type": "execute_result"
    }
   ],
   "source": [
    "bin(a)"
   ]
  },
  {
   "cell_type": "code",
   "execution_count": 91,
   "id": "aa42da91-3e3b-4ec4-8d2c-c201aeaa7727",
   "metadata": {},
   "outputs": [
    {
     "data": {
      "text/plain": [
       "'0b100'"
      ]
     },
     "execution_count": 91,
     "metadata": {},
     "output_type": "execute_result"
    }
   ],
   "source": [
    "bin(b)"
   ]
  },
  {
   "cell_type": "code",
   "execution_count": 96,
   "id": "18b32686-5064-4e68-94db-d06fc7f4053a",
   "metadata": {},
   "outputs": [
    {
     "data": {
      "text/plain": [
       "0"
      ]
     },
     "execution_count": 96,
     "metadata": {},
     "output_type": "execute_result"
    }
   ],
   "source": [
    "a&b # and operator"
   ]
  },
  {
   "cell_type": "code",
   "execution_count": 97,
   "id": "d23528a7-01a6-4dfb-9d38-fb06a19fde7e",
   "metadata": {},
   "outputs": [
    {
     "data": {
      "text/plain": [
       "14"
      ]
     },
     "execution_count": 97,
     "metadata": {},
     "output_type": "execute_result"
    }
   ],
   "source": [
    "a | b    # or operator"
   ]
  },
  {
   "cell_type": "code",
   "execution_count": 99,
   "id": "2ee4c2ba-9be0-482e-aeb5-2065ca50e665",
   "metadata": {},
   "outputs": [
    {
     "data": {
      "text/plain": [
       "-11"
      ]
     },
     "execution_count": 99,
     "metadata": {},
     "output_type": "execute_result"
    }
   ],
   "source": [
    "~a  # negation of a(n0t operator) "
   ]
  },
  {
   "cell_type": "raw",
   "id": "a1e31ccd-9c16-4392-9145-3415abe25b14",
   "metadata": {},
   "source": [
    "# bitwise negation inverts the sign bit\n",
    "1'scompliment of 10:  0101\n",
    "2'compliment of  intermediate resultis:\n",
    "intermediate result :  0101\n",
    "                       \n",
    "                       1010\n",
    "                         +1\n",
    "                      -------\n",
    "                       1011\n",
    "                    --------\n",
    "                       -11"
   ]
  },
  {
   "cell_type": "code",
   "execution_count": 100,
   "id": "d94a5034-cc5d-43d1-8bfb-9d1df67d5679",
   "metadata": {},
   "outputs": [
    {
     "data": {
      "text/plain": [
       "'-0b1011'"
      ]
     },
     "execution_count": 100,
     "metadata": {},
     "output_type": "execute_result"
    }
   ],
   "source": [
    "bin(~a)"
   ]
  },
  {
   "cell_type": "code",
   "execution_count": 102,
   "id": "9f3834f7-2e52-4d18-9688-1b568a7a0e68",
   "metadata": {},
   "outputs": [
    {
     "data": {
      "text/plain": [
       "14"
      ]
     },
     "execution_count": 102,
     "metadata": {},
     "output_type": "execute_result"
    }
   ],
   "source": [
    "a ^ b  # XOR operator"
   ]
  },
  {
   "cell_type": "raw",
   "id": "11544f0a-0584-4cc8-9fc7-9e442c9458f3",
   "metadata": {},
   "source": [
    "1010\n",
    "0100\n",
    "----\n",
    "1110 = 14"
   ]
  },
  {
   "cell_type": "code",
   "execution_count": 108,
   "id": "a0a7276b-ad83-4241-8cec-686f36005e39",
   "metadata": {},
   "outputs": [
    {
     "data": {
      "text/plain": [
       "5"
      ]
     },
     "execution_count": 108,
     "metadata": {},
     "output_type": "execute_result"
    }
   ],
   "source": [
    "a>>1 # left shift"
   ]
  },
  {
   "cell_type": "code",
   "execution_count": 109,
   "id": "f0338c70-aac0-4d68-b482-aebc8e054469",
   "metadata": {},
   "outputs": [
    {
     "data": {
      "text/plain": [
       "20"
      ]
     },
     "execution_count": 109,
     "metadata": {},
     "output_type": "execute_result"
    }
   ],
   "source": [
    "a<<1 # right shift"
   ]
  },
  {
   "cell_type": "code",
   "execution_count": null,
   "id": "54588e70-8cd1-47bf-81ca-ffa8ec904ff1",
   "metadata": {},
   "outputs": [],
   "source": []
  }
 ],
 "metadata": {
  "kernelspec": {
   "display_name": "Python 3 (ipykernel)",
   "language": "python",
   "name": "python3"
  },
  "language_info": {
   "codemirror_mode": {
    "name": "ipython",
    "version": 3
   },
   "file_extension": ".py",
   "mimetype": "text/x-python",
   "name": "python",
   "nbconvert_exporter": "python",
   "pygments_lexer": "ipython3",
   "version": "3.10.8"
  }
 },
 "nbformat": 4,
 "nbformat_minor": 5
}
