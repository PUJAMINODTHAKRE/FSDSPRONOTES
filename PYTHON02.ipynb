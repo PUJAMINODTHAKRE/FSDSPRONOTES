{
 "cells": [
  {
   "cell_type": "code",
   "execution_count": 1,
   "id": "f00ec06d-8c8e-496b-8343-3c706f7dbad8",
   "metadata": {},
   "outputs": [],
   "source": [
    "a=10"
   ]
  },
  {
   "cell_type": "code",
   "execution_count": 2,
   "id": "861d152f-ad25-457b-a1eb-82b3b148824b",
   "metadata": {},
   "outputs": [
    {
     "data": {
      "text/plain": [
       "10"
      ]
     },
     "execution_count": 2,
     "metadata": {},
     "output_type": "execute_result"
    }
   ],
   "source": [
    "a"
   ]
  },
  {
   "cell_type": "code",
   "execution_count": 6,
   "id": "70f211e4-09ab-4929-a28b-f33c6ee7152d",
   "metadata": {},
   "outputs": [],
   "source": [
    "l=[]\n",
    "# hetrogenious data can be stored inside the list "
   ]
  },
  {
   "cell_type": "code",
   "execution_count": 7,
   "id": "3d972407-c570-4a3a-90a3-75eb4a826151",
   "metadata": {},
   "outputs": [
    {
     "data": {
      "text/plain": [
       "list"
      ]
     },
     "execution_count": 7,
     "metadata": {},
     "output_type": "execute_result"
    }
   ],
   "source": [
    "type(l)"
   ]
  },
  {
   "cell_type": "code",
   "execution_count": 62,
   "id": "e57d51f1-14f1-4ace-8663-c7becd2ac99b",
   "metadata": {},
   "outputs": [],
   "source": [
    "l1=[1,2,3,4,5,\"atul\",\"kumar\",3+6j,345.555,True,[3,4,5,6]]"
   ]
  },
  {
   "cell_type": "code",
   "execution_count": 63,
   "id": "9276c396-5859-48a9-8653-e0475a375783",
   "metadata": {},
   "outputs": [
    {
     "data": {
      "text/plain": [
       "[1, 2, 3, 4, 5, 'atul', 'kumar', (3+6j), 345.555, True, [3, 4, 5, 6]]"
      ]
     },
     "execution_count": 63,
     "metadata": {},
     "output_type": "execute_result"
    }
   ],
   "source": [
    "l1"
   ]
  },
  {
   "cell_type": "code",
   "execution_count": 8,
   "id": "ae13eb77-2eb0-4bee-92a0-624bc1439b40",
   "metadata": {},
   "outputs": [],
   "source": [
    "s='dfghj3456iruehgbnfgyl5j^^^^'"
   ]
  },
  {
   "cell_type": "code",
   "execution_count": 9,
   "id": "0b75dfb8-5a82-42d9-b393-b75c643355ee",
   "metadata": {},
   "outputs": [
    {
     "data": {
      "text/plain": [
       "'dfghj3456iruehgbnfgyl5j^^^^'"
      ]
     },
     "execution_count": 9,
     "metadata": {},
     "output_type": "execute_result"
    }
   ],
   "source": [
    "s"
   ]
  },
  {
   "cell_type": "code",
   "execution_count": 12,
   "id": "db783956-5a32-44e6-b273-663de32b0cde",
   "metadata": {},
   "outputs": [
    {
     "data": {
      "text/plain": [
       "list"
      ]
     },
     "execution_count": 12,
     "metadata": {},
     "output_type": "execute_result"
    }
   ],
   "source": [
    "type(l1)"
   ]
  },
  {
   "cell_type": "code",
   "execution_count": 10,
   "id": "669a7b38-6923-4bf5-8102-224223ec98c9",
   "metadata": {},
   "outputs": [
    {
     "data": {
      "text/plain": [
       "'atul'"
      ]
     },
     "execution_count": 10,
     "metadata": {},
     "output_type": "execute_result"
    }
   ],
   "source": [
    "l1[5]"
   ]
  },
  {
   "cell_type": "code",
   "execution_count": 15,
   "id": "e17228f7-72a8-4f80-92b4-d4448b2dc110",
   "metadata": {},
   "outputs": [
    {
     "data": {
      "text/plain": [
       "6"
      ]
     },
     "execution_count": 15,
     "metadata": {},
     "output_type": "execute_result"
    }
   ],
   "source": [
    "l1[-1][3]"
   ]
  },
  {
   "cell_type": "code",
   "execution_count": 16,
   "id": "a77fdb50-3daf-404c-9001-a7190ba8c8d0",
   "metadata": {},
   "outputs": [
    {
     "data": {
      "text/plain": [
       "[1, 2, 3, 4, 5]"
      ]
     },
     "execution_count": 16,
     "metadata": {},
     "output_type": "execute_result"
    }
   ],
   "source": [
    "l1[0:5]"
   ]
  },
  {
   "cell_type": "code",
   "execution_count": 64,
   "id": "5dc7e05d-a77b-4b84-b2c9-09eb35268e7f",
   "metadata": {},
   "outputs": [],
   "source": [
    "l2=[3,4,5,\"pwskills\",\"sudh\" ]"
   ]
  },
  {
   "cell_type": "code",
   "execution_count": 65,
   "id": "795d3fa4-f07b-4c3e-b552-b2b746b8b4a5",
   "metadata": {},
   "outputs": [
    {
     "data": {
      "text/plain": [
       "[1,\n",
       " 2,\n",
       " 3,\n",
       " 4,\n",
       " 5,\n",
       " 'atul',\n",
       " 'kumar',\n",
       " (3+6j),\n",
       " 345.555,\n",
       " True,\n",
       " [3, 4, 5, 6],\n",
       " 3,\n",
       " 4,\n",
       " 5,\n",
       " 'pwskills',\n",
       " 'sudh']"
      ]
     },
     "execution_count": 65,
     "metadata": {},
     "output_type": "execute_result"
    }
   ],
   "source": [
    "l1+l2"
   ]
  },
  {
   "cell_type": "code",
   "execution_count": 1,
   "id": "eb831fad-072f-45df-9c29-49e77cc4ae75",
   "metadata": {},
   "outputs": [
    {
     "data": {
      "text/plain": [
       "['s', 'u', 'd', 'h']"
      ]
     },
     "execution_count": 1,
     "metadata": {},
     "output_type": "execute_result"
    }
   ],
   "source": [
    "list(\"sudh\")"
   ]
  },
  {
   "cell_type": "code",
   "execution_count": 2,
   "id": "608e700f-76da-40fc-89db-a293540392b5",
   "metadata": {},
   "outputs": [
    {
     "ename": "TypeError",
     "evalue": "'int' object is not iterable",
     "output_type": "error",
     "traceback": [
      "\u001b[0;31m---------------------------------------------------------------------------\u001b[0m",
      "\u001b[0;31mTypeError\u001b[0m                                 Traceback (most recent call last)",
      "Cell \u001b[0;32mIn[2], line 1\u001b[0m\n\u001b[0;32m----> 1\u001b[0m \u001b[38;5;28;43mlist\u001b[39;49m\u001b[43m(\u001b[49m\u001b[38;5;241;43m9345\u001b[39;49m\u001b[43m)\u001b[49m\n",
      "\u001b[0;31mTypeError\u001b[0m: 'int' object is not iterable"
     ]
    }
   ],
   "source": [
    "list(9345)"
   ]
  },
  {
   "cell_type": "code",
   "execution_count": 3,
   "id": "1b6567cd-8b94-4f0a-9cbb-4ad3a49fd32b",
   "metadata": {},
   "outputs": [],
   "source": [
    "s=\"^^^^^^^^asdfghjk\""
   ]
  },
  {
   "cell_type": "code",
   "execution_count": 4,
   "id": "3d3c6905-201f-48d8-aa26-4d30120b7102",
   "metadata": {},
   "outputs": [
    {
     "data": {
      "text/plain": [
       "'^^^^^^^^asdfghjk'"
      ]
     },
     "execution_count": 4,
     "metadata": {},
     "output_type": "execute_result"
    }
   ],
   "source": [
    "s"
   ]
  },
  {
   "cell_type": "code",
   "execution_count": 11,
   "id": "3ff35fb2-81bd-4efd-b905-81269feaa313",
   "metadata": {},
   "outputs": [
    {
     "data": {
      "text/plain": [
       "list"
      ]
     },
     "execution_count": 11,
     "metadata": {},
     "output_type": "execute_result"
    }
   ],
   "source": [
    "type(l1)"
   ]
  },
  {
   "cell_type": "code",
   "execution_count": 8,
   "id": "40d1485f-e82d-4200-9d72-6cf92589b3f8",
   "metadata": {},
   "outputs": [
    {
     "data": {
      "text/plain": [
       "[3, 4, 5, 'pwskills', 'sudh', 3, 4, 5, 'pwskills', 'sudh']"
      ]
     },
     "execution_count": 8,
     "metadata": {},
     "output_type": "execute_result"
    }
   ],
   "source": [
    "l2*2"
   ]
  },
  {
   "cell_type": "code",
   "execution_count": 16,
   "id": "f9464408-e81f-45df-bc48-4cef482ce161",
   "metadata": {},
   "outputs": [],
   "source": [
    "# tuples data type "
   ]
  },
  {
   "cell_type": "code",
   "execution_count": 17,
   "id": "cf336d2d-fbd4-4d82-a5f2-8c110669438d",
   "metadata": {},
   "outputs": [
    {
     "data": {
      "text/plain": [
       "[3, 4, 5, 'pwskills', 'sudh']"
      ]
     },
     "execution_count": 17,
     "metadata": {},
     "output_type": "execute_result"
    }
   ],
   "source": [
    "l2"
   ]
  },
  {
   "cell_type": "code",
   "execution_count": 18,
   "id": "96030639-5840-41ff-9d78-d09cf42bbfcd",
   "metadata": {},
   "outputs": [
    {
     "data": {
      "text/plain": [
       "3"
      ]
     },
     "execution_count": 18,
     "metadata": {},
     "output_type": "execute_result"
    }
   ],
   "source": [
    "l2[0]"
   ]
  },
  {
   "cell_type": "code",
   "execution_count": 19,
   "id": "7bbf42f7-06b2-4e0e-ad48-049ea8cea902",
   "metadata": {},
   "outputs": [],
   "source": [
    "l2[0]=300"
   ]
  },
  {
   "cell_type": "code",
   "execution_count": 20,
   "id": "313b9992-1084-469d-9a10-baba8ca16975",
   "metadata": {},
   "outputs": [
    {
     "data": {
      "text/plain": [
       "[300, 4, 5, 'pwskills', 'sudh']"
      ]
     },
     "execution_count": 20,
     "metadata": {},
     "output_type": "execute_result"
    }
   ],
   "source": [
    "l2"
   ]
  },
  {
   "cell_type": "code",
   "execution_count": 21,
   "id": "6f6a280b-8c51-495e-800f-e21dc8f3f3b5",
   "metadata": {},
   "outputs": [],
   "source": [
    "# list is mutable entity and i will be able to change it "
   ]
  },
  {
   "cell_type": "code",
   "execution_count": 22,
   "id": "9045b807-e2cf-4c1f-844c-0edeae4502d0",
   "metadata": {},
   "outputs": [],
   "source": [
    "# in tuples it is immutable "
   ]
  },
  {
   "cell_type": "code",
   "execution_count": 219,
   "id": "aa37338b-3078-47cb-8bff-640f9e8290d7",
   "metadata": {},
   "outputs": [],
   "source": [
    "t=(1,2,3,4,\"sudh\",\"pwskills\",4+56j,True)"
   ]
  },
  {
   "cell_type": "code",
   "execution_count": 220,
   "id": "1b5cf31c-fe7e-4403-b496-6b3bf979613e",
   "metadata": {},
   "outputs": [
    {
     "data": {
      "text/plain": [
       "tuple"
      ]
     },
     "execution_count": 220,
     "metadata": {},
     "output_type": "execute_result"
    }
   ],
   "source": [
    "type(t)"
   ]
  },
  {
   "cell_type": "code",
   "execution_count": 221,
   "id": "f8ecb9fe-5a1c-4e6d-bddd-f4be52d5863c",
   "metadata": {},
   "outputs": [],
   "source": [
    "# tuple is immutable while list is mutable "
   ]
  },
  {
   "cell_type": "code",
   "execution_count": 222,
   "id": "48b3a9ac-bd7d-4a74-abc1-1b068cb0b789",
   "metadata": {},
   "outputs": [
    {
     "data": {
      "text/plain": [
       "1"
      ]
     },
     "execution_count": 222,
     "metadata": {},
     "output_type": "execute_result"
    }
   ],
   "source": [
    "t[0]"
   ]
  },
  {
   "cell_type": "code",
   "execution_count": 223,
   "id": "86ce3838-2f9f-4b48-9e17-3cbebb972ef6",
   "metadata": {},
   "outputs": [
    {
     "data": {
      "text/plain": [
       "True"
      ]
     },
     "execution_count": 223,
     "metadata": {},
     "output_type": "execute_result"
    }
   ],
   "source": [
    "t[-1]"
   ]
  },
  {
   "cell_type": "code",
   "execution_count": 224,
   "id": "9cc7637e-339c-4b9d-a497-5b26a2acbb58",
   "metadata": {},
   "outputs": [
    {
     "data": {
      "text/plain": [
       "(True, (4+56j), 'pwskills', 'sudh', 4, 3, 2, 1)"
      ]
     },
     "execution_count": 224,
     "metadata": {},
     "output_type": "execute_result"
    }
   ],
   "source": [
    "t[-1::-1]"
   ]
  },
  {
   "cell_type": "code",
   "execution_count": 29,
   "id": "b87d9945-2de6-4017-a707-274b0f1af5d4",
   "metadata": {},
   "outputs": [
    {
     "ename": "TypeError",
     "evalue": "'tuple' object does not support item assignment",
     "output_type": "error",
     "traceback": [
      "\u001b[0;31m---------------------------------------------------------------------------\u001b[0m",
      "\u001b[0;31mTypeError\u001b[0m                                 Traceback (most recent call last)",
      "Cell \u001b[0;32mIn[29], line 1\u001b[0m\n\u001b[0;32m----> 1\u001b[0m \u001b[43mt\u001b[49m\u001b[43m[\u001b[49m\u001b[38;5;241;43m0\u001b[39;49m\u001b[43m]\u001b[49m\u001b[38;5;241m=\u001b[39m\u001b[38;5;124m\"\u001b[39m\u001b[38;5;124mSudh\u001b[39m\u001b[38;5;124m\"\u001b[39m\n",
      "\u001b[0;31mTypeError\u001b[0m: 'tuple' object does not support item assignment"
     ]
    }
   ],
   "source": [
    "t[0]=\"Sudh\""
   ]
  },
  {
   "cell_type": "code",
   "execution_count": 225,
   "id": "2b462dc1-cc12-40a7-8033-08f5a16cf54e",
   "metadata": {},
   "outputs": [],
   "source": [
    "t1=(5,6,7,8,9)"
   ]
  },
  {
   "cell_type": "code",
   "execution_count": 226,
   "id": "4b684a26-bc9a-4d54-8ccf-1140ed6e0286",
   "metadata": {},
   "outputs": [
    {
     "data": {
      "text/plain": [
       "(1, 2, 3, 4, 'sudh', 'pwskills', (4+56j), True, 5, 6, 7, 8, 9)"
      ]
     },
     "execution_count": 226,
     "metadata": {},
     "output_type": "execute_result"
    }
   ],
   "source": [
    "t+t1"
   ]
  },
  {
   "cell_type": "code",
   "execution_count": 12,
   "id": "a1ff1ad0-ffbc-47f5-b3c8-7c7fef97ce68",
   "metadata": {},
   "outputs": [
    {
     "data": {
      "text/plain": [
       "(1,\n",
       " 2,\n",
       " 3,\n",
       " 4,\n",
       " 'sudh',\n",
       " 'pwskills',\n",
       " (4+56j),\n",
       " True,\n",
       " 1,\n",
       " 2,\n",
       " 3,\n",
       " 4,\n",
       " 'sudh',\n",
       " 'pwskills',\n",
       " (4+56j),\n",
       " True)"
      ]
     },
     "execution_count": 12,
     "metadata": {},
     "output_type": "execute_result"
    }
   ],
   "source": [
    "t*2"
   ]
  },
  {
   "cell_type": "code",
   "execution_count": 13,
   "id": "0d453c97-9dff-4be1-b757-cd5422758780",
   "metadata": {},
   "outputs": [
    {
     "data": {
      "text/plain": [
       "[1, 2, 3, 4, 'sudh', 'pwskills', (4+56j), True]"
      ]
     },
     "execution_count": 13,
     "metadata": {},
     "output_type": "execute_result"
    }
   ],
   "source": [
    "list(t)"
   ]
  },
  {
   "cell_type": "code",
   "execution_count": 14,
   "id": "cee2cd29-e062-4013-a674-b935254ab1b5",
   "metadata": {},
   "outputs": [
    {
     "data": {
      "text/plain": [
       "[3, 4, 5, 'pwskills', 'sudh']"
      ]
     },
     "execution_count": 14,
     "metadata": {},
     "output_type": "execute_result"
    }
   ],
   "source": [
    "l2"
   ]
  },
  {
   "cell_type": "code",
   "execution_count": 15,
   "id": "05b01e57-c68d-4d33-89a6-213d651935d7",
   "metadata": {},
   "outputs": [
    {
     "data": {
      "text/plain": [
       "(3, 4, 5, 'pwskills', 'sudh')"
      ]
     },
     "execution_count": 15,
     "metadata": {},
     "output_type": "execute_result"
    }
   ],
   "source": [
    "tuple(l2)"
   ]
  },
  {
   "cell_type": "code",
   "execution_count": 16,
   "id": "719a3583-d03d-470c-9a9b-680c1c4f426f",
   "metadata": {},
   "outputs": [
    {
     "data": {
      "text/plain": [
       "8"
      ]
     },
     "execution_count": 16,
     "metadata": {},
     "output_type": "execute_result"
    }
   ],
   "source": [
    "len(t)"
   ]
  },
  {
   "cell_type": "code",
   "execution_count": 17,
   "id": "af78cf0a-06dc-4c09-bd79-7a058db20581",
   "metadata": {},
   "outputs": [
    {
     "data": {
      "text/plain": [
       "5"
      ]
     },
     "execution_count": 17,
     "metadata": {},
     "output_type": "execute_result"
    }
   ],
   "source": [
    "len(l2)"
   ]
  },
  {
   "cell_type": "code",
   "execution_count": 18,
   "id": "388a0e67-87c2-4671-a468-3003d32e0db2",
   "metadata": {},
   "outputs": [
    {
     "data": {
      "text/plain": [
       "4"
      ]
     },
     "execution_count": 18,
     "metadata": {},
     "output_type": "execute_result"
    }
   ],
   "source": [
    "len(\"atul\")"
   ]
  },
  {
   "cell_type": "code",
   "execution_count": 19,
   "id": "7874d014-d1a1-4731-824b-18afe358904e",
   "metadata": {},
   "outputs": [
    {
     "data": {
      "text/plain": [
       "11"
      ]
     },
     "execution_count": 19,
     "metadata": {},
     "output_type": "execute_result"
    }
   ],
   "source": [
    "len(l1)"
   ]
  },
  {
   "cell_type": "code",
   "execution_count": 61,
   "id": "f6b71b66-2233-4651-9fe3-25569858a78d",
   "metadata": {},
   "outputs": [
    {
     "ename": "NameError",
     "evalue": "name 'l1' is not defined",
     "output_type": "error",
     "traceback": [
      "\u001b[0;31m---------------------------------------------------------------------------\u001b[0m",
      "\u001b[0;31mNameError\u001b[0m                                 Traceback (most recent call last)",
      "Cell \u001b[0;32mIn[61], line 1\u001b[0m\n\u001b[0;32m----> 1\u001b[0m \u001b[43ml1\u001b[49m\n",
      "\u001b[0;31mNameError\u001b[0m: name 'l1' is not defined"
     ]
    }
   ],
   "source": [
    "l1"
   ]
  },
  {
   "cell_type": "code",
   "execution_count": 21,
   "id": "814025ad-9ec7-4653-8fb1-412a56acac79",
   "metadata": {},
   "outputs": [],
   "source": [
    "# set"
   ]
  },
  {
   "cell_type": "code",
   "execution_count": 22,
   "id": "4aa32889-2bf6-4e32-a351-4d0094a21c6d",
   "metadata": {},
   "outputs": [],
   "source": [
    "s={}"
   ]
  },
  {
   "cell_type": "code",
   "execution_count": 23,
   "id": "4e4c5e79-5059-46d8-a5a6-7c8de47796d4",
   "metadata": {},
   "outputs": [
    {
     "data": {
      "text/plain": [
       "dict"
      ]
     },
     "execution_count": 23,
     "metadata": {},
     "output_type": "execute_result"
    }
   ],
   "source": [
    "type(s)"
   ]
  },
  {
   "cell_type": "code",
   "execution_count": 24,
   "id": "7a5c8e5d-b207-4aa5-8b06-355d26e211b5",
   "metadata": {},
   "outputs": [],
   "source": [
    "s1={1,2,3,4,5,5}"
   ]
  },
  {
   "cell_type": "code",
   "execution_count": 25,
   "id": "f63cd8ce-f900-4ba8-bfec-5229162f4e1c",
   "metadata": {},
   "outputs": [
    {
     "data": {
      "text/plain": [
       "set"
      ]
     },
     "execution_count": 25,
     "metadata": {},
     "output_type": "execute_result"
    }
   ],
   "source": [
    "type(s1)"
   ]
  },
  {
   "cell_type": "code",
   "execution_count": 26,
   "id": "a206aa6c-3f10-4d04-b88d-1d3d34bd33c7",
   "metadata": {},
   "outputs": [
    {
     "data": {
      "text/plain": [
       "{1, 2, 3, 4, 5}"
      ]
     },
     "execution_count": 26,
     "metadata": {},
     "output_type": "execute_result"
    }
   ],
   "source": [
    "s1"
   ]
  },
  {
   "cell_type": "code",
   "execution_count": 27,
   "id": "e53797c4-5b31-46be-9c64-7102383d3351",
   "metadata": {},
   "outputs": [],
   "source": [
    "# set always try to keep unique element and remove duplicate "
   ]
  },
  {
   "cell_type": "code",
   "execution_count": 28,
   "id": "c7799f64-2841-41d9-81d4-a20b62e221e5",
   "metadata": {},
   "outputs": [],
   "source": [
    "s2={\"sudh\",\"sudh\",\"Sudh\",1,2,3,4,3,2,5,5,6,7,8}"
   ]
  },
  {
   "cell_type": "code",
   "execution_count": 29,
   "id": "54dc62bb-2c3b-4482-9b56-81081e64348d",
   "metadata": {},
   "outputs": [
    {
     "data": {
      "text/plain": [
       "{1, 2, 3, 4, 5, 6, 7, 8, 'Sudh', 'sudh'}"
      ]
     },
     "execution_count": 29,
     "metadata": {},
     "output_type": "execute_result"
    }
   ],
   "source": [
    "s2"
   ]
  },
  {
   "cell_type": "code",
   "execution_count": 30,
   "id": "85602a29-4403-4ace-8d7a-13e85054f2f8",
   "metadata": {},
   "outputs": [],
   "source": [
    "# IN SET IT IS NOT TRYING TO DO A SORTING "
   ]
  },
  {
   "cell_type": "code",
   "execution_count": 31,
   "id": "5299885a-d41f-4bf4-816c-7eca15e9b914",
   "metadata": {},
   "outputs": [],
   "source": [
    "# PYTHON IS CASE SENSITIVE LANGUAGE "
   ]
  },
  {
   "cell_type": "code",
   "execution_count": 54,
   "id": "a9dea132-de14-49f7-b4d2-b413b39b52af",
   "metadata": {},
   "outputs": [
    {
     "data": {
      "text/plain": [
       "[1, 2, 3, 4, 5, 6, 7, 'sudh', 8, 'Sudh']"
      ]
     },
     "execution_count": 54,
     "metadata": {},
     "output_type": "execute_result"
    }
   ],
   "source": [
    "list(s2)"
   ]
  },
  {
   "cell_type": "code",
   "execution_count": 55,
   "id": "4b4a4f65-b386-41e0-8647-bdd0ab206179",
   "metadata": {},
   "outputs": [
    {
     "data": {
      "text/plain": [
       "{300, 4, 5, 'pwskills', 'sudh'}"
      ]
     },
     "execution_count": 55,
     "metadata": {},
     "output_type": "execute_result"
    }
   ],
   "source": [
    "set(l2)"
   ]
  },
  {
   "cell_type": "code",
   "execution_count": 56,
   "id": "1fc47a75-9e23-4f9e-949b-4f366000750d",
   "metadata": {},
   "outputs": [
    {
     "data": {
      "text/plain": [
       "[1, 2, 3, 4, 5, 'atul', 'kumar', (3+6j), 345.555, True, [3, 4, 5, 6]]"
      ]
     },
     "execution_count": 56,
     "metadata": {},
     "output_type": "execute_result"
    }
   ],
   "source": [
    "l1"
   ]
  },
  {
   "cell_type": "code",
   "execution_count": 32,
   "id": "ce14d5e8-2763-46a2-8471-ded0a2f8565a",
   "metadata": {},
   "outputs": [
    {
     "ename": "TypeError",
     "evalue": "unhashable type: 'list'",
     "output_type": "error",
     "traceback": [
      "\u001b[0;31m---------------------------------------------------------------------------\u001b[0m",
      "\u001b[0;31mTypeError\u001b[0m                                 Traceback (most recent call last)",
      "Cell \u001b[0;32mIn[32], line 1\u001b[0m\n\u001b[0;32m----> 1\u001b[0m \u001b[38;5;28;43mset\u001b[39;49m\u001b[43m(\u001b[49m\u001b[43ml1\u001b[49m\u001b[43m)\u001b[49m\n",
      "\u001b[0;31mTypeError\u001b[0m: unhashable type: 'list'"
     ]
    }
   ],
   "source": [
    "set(l1)"
   ]
  },
  {
   "cell_type": "code",
   "execution_count": 33,
   "id": "8a8a978e-0899-4648-b76f-890cd7d6727b",
   "metadata": {},
   "outputs": [
    {
     "data": {
      "text/plain": [
       "{3, 4, 5, 'pwskills', 'sudh'}"
      ]
     },
     "execution_count": 33,
     "metadata": {},
     "output_type": "execute_result"
    }
   ],
   "source": [
    "set(l2)"
   ]
  },
  {
   "cell_type": "code",
   "execution_count": 34,
   "id": "5f317b47-16d9-4ad3-9b96-86fd96aae48e",
   "metadata": {},
   "outputs": [
    {
     "data": {
      "text/plain": [
       "('sudh', 2, 3, 4, 1, 5, 6, 7, 'Sudh', 8)"
      ]
     },
     "execution_count": 34,
     "metadata": {},
     "output_type": "execute_result"
    }
   ],
   "source": [
    "tuple(s2)"
   ]
  },
  {
   "cell_type": "code",
   "execution_count": 61,
   "id": "82bbd790-7af9-45a7-8f88-bfbcd8079af4",
   "metadata": {},
   "outputs": [
    {
     "data": {
      "text/plain": [
       "{1, 2, 3, 4, 5, 6, 7, 8, 'Sudh', 'sudh'}"
      ]
     },
     "execution_count": 61,
     "metadata": {},
     "output_type": "execute_result"
    }
   ],
   "source": [
    "set(s2)"
   ]
  },
  {
   "cell_type": "code",
   "execution_count": 62,
   "id": "959bd16c-3203-4de7-991f-9b6ed80387e1",
   "metadata": {},
   "outputs": [
    {
     "ename": "TypeError",
     "evalue": "'set' object is not subscriptable",
     "output_type": "error",
     "traceback": [
      "\u001b[0;31m---------------------------------------------------------------------------\u001b[0m",
      "\u001b[0;31mTypeError\u001b[0m                                 Traceback (most recent call last)",
      "Cell \u001b[0;32mIn[62], line 1\u001b[0m\n\u001b[0;32m----> 1\u001b[0m \u001b[43ms2\u001b[49m\u001b[43m[\u001b[49m\u001b[38;5;241;43m0\u001b[39;49m\u001b[43m]\u001b[49m\n",
      "\u001b[0;31mTypeError\u001b[0m: 'set' object is not subscriptable"
     ]
    }
   ],
   "source": [
    "s2[0]"
   ]
  },
  {
   "cell_type": "code",
   "execution_count": 35,
   "id": "825dec37-3a80-4e4c-b811-3a75e30f35b3",
   "metadata": {},
   "outputs": [
    {
     "data": {
      "text/plain": [
       "set"
      ]
     },
     "execution_count": 35,
     "metadata": {},
     "output_type": "execute_result"
    }
   ],
   "source": [
    "type(s2)"
   ]
  },
  {
   "cell_type": "code",
   "execution_count": 36,
   "id": "aca32b6b-73de-43cf-aa0d-e8a20f99acd9",
   "metadata": {},
   "outputs": [
    {
     "data": {
      "text/plain": [
       "('sudh', 2, 3, 4, 1, 5, 6, 7, 'Sudh', 8)"
      ]
     },
     "execution_count": 36,
     "metadata": {},
     "output_type": "execute_result"
    }
   ],
   "source": [
    "tuple(s2)"
   ]
  },
  {
   "cell_type": "code",
   "execution_count": 37,
   "id": "9d27dad4-2bcb-474c-8fb4-5bf3afb662d3",
   "metadata": {},
   "outputs": [
    {
     "data": {
      "text/plain": [
       "{1, 2, 3, 4, 5, 6, 7, 8, 'Sudh', 'sudh'}"
      ]
     },
     "execution_count": 37,
     "metadata": {},
     "output_type": "execute_result"
    }
   ],
   "source": [
    "s2"
   ]
  },
  {
   "cell_type": "code",
   "execution_count": 38,
   "id": "f40dbf60-a8be-45e6-b752-067e3cd0d146",
   "metadata": {},
   "outputs": [
    {
     "ename": "TypeError",
     "evalue": "'set' object is not subscriptable",
     "output_type": "error",
     "traceback": [
      "\u001b[0;31m---------------------------------------------------------------------------\u001b[0m",
      "\u001b[0;31mTypeError\u001b[0m                                 Traceback (most recent call last)",
      "Cell \u001b[0;32mIn[38], line 1\u001b[0m\n\u001b[0;32m----> 1\u001b[0m \u001b[43ms2\u001b[49m\u001b[43m[\u001b[49m\u001b[38;5;241;43m0\u001b[39;49m\u001b[43m]\u001b[49m\n",
      "\u001b[0;31mTypeError\u001b[0m: 'set' object is not subscriptable"
     ]
    }
   ],
   "source": [
    "s2[0]"
   ]
  },
  {
   "cell_type": "markdown",
   "id": "80cbcc6f-f3d0-4495-9e8a-756ee12580d1",
   "metadata": {},
   "source": [
    "inbuilt function about list ,set,tuple,dictionary "
   ]
  },
  {
   "cell_type": "markdown",
   "id": "3ab586ef-e436-48fc-84b6-49f320f17e1e",
   "metadata": {},
   "source": [
    " set is neither mutable nor immutable "
   ]
  },
  {
   "cell_type": "code",
   "execution_count": 39,
   "id": "ac18d21f-afab-482c-932f-0b4bff45d9fe",
   "metadata": {},
   "outputs": [],
   "source": [
    "a=10"
   ]
  },
  {
   "cell_type": "code",
   "execution_count": 40,
   "id": "d2d6909e-de2c-4f85-a5b0-ce42075f2bbf",
   "metadata": {},
   "outputs": [
    {
     "data": {
      "text/plain": [
       "10"
      ]
     },
     "execution_count": 40,
     "metadata": {},
     "output_type": "execute_result"
    }
   ],
   "source": [
    "a"
   ]
  },
  {
   "cell_type": "code",
   "execution_count": 41,
   "id": "4c84d529-4be6-444e-a71c-8fca367826e3",
   "metadata": {},
   "outputs": [],
   "source": [
    "# set never sorts any data "
   ]
  },
  {
   "cell_type": "code",
   "execution_count": 42,
   "id": "50e0035e-20b9-4b47-874a-9d3d411d7535",
   "metadata": {},
   "outputs": [],
   "source": [
    "s3={345,56765,56,67,7,87,898,56,56,45,45,\"sudh\",234,56}"
   ]
  },
  {
   "cell_type": "code",
   "execution_count": 43,
   "id": "dbb17ad4-3094-4bf6-b9c1-dedfbcf84ea9",
   "metadata": {},
   "outputs": [
    {
     "data": {
      "text/plain": [
       "{234, 345, 45, 56, 56765, 67, 7, 87, 898, 'sudh'}"
      ]
     },
     "execution_count": 43,
     "metadata": {},
     "output_type": "execute_result"
    }
   ],
   "source": [
    "s3"
   ]
  },
  {
   "cell_type": "markdown",
   "id": "25780c11-f8e5-4b79-87fe-617f727ded73",
   "metadata": {},
   "source": [
    "dictionary"
   ]
  },
  {
   "cell_type": "code",
   "execution_count": 48,
   "id": "97b8e418-cb4c-4aad-bd45-0b02f77dce70",
   "metadata": {},
   "outputs": [],
   "source": [
    "d={}"
   ]
  },
  {
   "cell_type": "code",
   "execution_count": 49,
   "id": "c413a647-10e7-449e-a653-e8404aae4a8b",
   "metadata": {},
   "outputs": [
    {
     "data": {
      "text/plain": [
       "dict"
      ]
     },
     "execution_count": 49,
     "metadata": {},
     "output_type": "execute_result"
    }
   ],
   "source": [
    "type(d)"
   ]
  },
  {
   "cell_type": "code",
   "execution_count": 1,
   "id": "2d72595e-b1da-4125-85d5-5689fe37837a",
   "metadata": {},
   "outputs": [],
   "source": [
    "d1={'name':\"sudhanshu\",\"subject\":[\"data science\",\"big data\",\"data analytics\"],\"number\":43243}"
   ]
  },
  {
   "cell_type": "code",
   "execution_count": 2,
   "id": "6898dbb0-5cd6-4411-8333-21ceaf07b7be",
   "metadata": {},
   "outputs": [
    {
     "data": {
      "text/plain": [
       "{'name': 'sudhanshu',\n",
       " 'subject': ['data science', 'big data', 'data analytics'],\n",
       " 'number': 43243}"
      ]
     },
     "execution_count": 2,
     "metadata": {},
     "output_type": "execute_result"
    }
   ],
   "source": [
    "d1"
   ]
  },
  {
   "cell_type": "code",
   "execution_count": 3,
   "id": "f7657891-fec6-4920-8b01-55838f31a99d",
   "metadata": {},
   "outputs": [],
   "source": [
    "# name is key and sudhanshu will become a value pair  "
   ]
  },
  {
   "cell_type": "code",
   "execution_count": 5,
   "id": "6a985d86-5d76-4f6d-bd1f-ba46e4927a19",
   "metadata": {},
   "outputs": [],
   "source": [
    "d2={\"name\":\"sudh\",\"name\":\"pwskills\"}"
   ]
  },
  {
   "cell_type": "code",
   "execution_count": 6,
   "id": "79af5cf0-58fa-470f-a9b8-1dd98b929eeb",
   "metadata": {},
   "outputs": [
    {
     "data": {
      "text/plain": [
       "{'name': 'pwskills'}"
      ]
     },
     "execution_count": 6,
     "metadata": {},
     "output_type": "execute_result"
    }
   ],
   "source": [
    "d2"
   ]
  },
  {
   "cell_type": "code",
   "execution_count": 7,
   "id": "9aa4e778-08bc-4fb6-b7ed-4b4b536a6560",
   "metadata": {},
   "outputs": [],
   "source": [
    "d3={2345:\"sudh\"}"
   ]
  },
  {
   "cell_type": "code",
   "execution_count": 8,
   "id": "f53bb196-ac5a-48cf-b16c-300de25873f5",
   "metadata": {},
   "outputs": [
    {
     "data": {
      "text/plain": [
       "{2345: 'sudh'}"
      ]
     },
     "execution_count": 8,
     "metadata": {},
     "output_type": "execute_result"
    }
   ],
   "source": [
    "d3"
   ]
  },
  {
   "cell_type": "code",
   "execution_count": 10,
   "id": "fc6e2c95-8957-4566-a9d3-9cc83b81d448",
   "metadata": {},
   "outputs": [
    {
     "ename": "TypeError",
     "evalue": "unhashable type: 'list'",
     "output_type": "error",
     "traceback": [
      "\u001b[0;31m---------------------------------------------------------------------------\u001b[0m",
      "\u001b[0;31mTypeError\u001b[0m                                 Traceback (most recent call last)",
      "Cell \u001b[0;32mIn[10], line 1\u001b[0m\n\u001b[0;32m----> 1\u001b[0m d3\u001b[38;5;241m=\u001b[39m{[\u001b[38;5;241m1\u001b[39m,\u001b[38;5;241m2\u001b[39m,\u001b[38;5;241m3\u001b[39m,\u001b[38;5;241m4\u001b[39m,\u001b[38;5;241m5\u001b[39m]:\u001b[38;5;124m\"\u001b[39m\u001b[38;5;124msudh\u001b[39m\u001b[38;5;124m\"\u001b[39m}\n",
      "\u001b[0;31mTypeError\u001b[0m: unhashable type: 'list'"
     ]
    }
   ],
   "source": [
    "d3={[1,2,3,4,5]:\"sudh\"}"
   ]
  },
  {
   "cell_type": "code",
   "execution_count": 11,
   "id": "f5dd3811-bbec-4f4f-91e0-d25dc8fdb427",
   "metadata": {},
   "outputs": [
    {
     "ename": "TypeError",
     "evalue": "unhashable type: 'set'",
     "output_type": "error",
     "traceback": [
      "\u001b[0;31m---------------------------------------------------------------------------\u001b[0m",
      "\u001b[0;31mTypeError\u001b[0m                                 Traceback (most recent call last)",
      "Cell \u001b[0;32mIn[11], line 1\u001b[0m\n\u001b[0;32m----> 1\u001b[0m d3\u001b[38;5;241m=\u001b[39m{{\u001b[38;5;241m1\u001b[39m,\u001b[38;5;241m2\u001b[39m,\u001b[38;5;241m3\u001b[39m,\u001b[38;5;241m4\u001b[39m,\u001b[38;5;241m5\u001b[39m}:\u001b[38;5;124m\"\u001b[39m\u001b[38;5;124msudh\u001b[39m\u001b[38;5;124m\"\u001b[39m}\n",
      "\u001b[0;31mTypeError\u001b[0m: unhashable type: 'set'"
     ]
    }
   ],
   "source": [
    "d3={{1,2,3,4,5}:\"sudh\"}"
   ]
  },
  {
   "cell_type": "code",
   "execution_count": 12,
   "id": "9d7c6c4a-1daf-4490-980d-d00e8ab5e082",
   "metadata": {},
   "outputs": [],
   "source": [
    "d3={(1,2,3,4,5):\"sudh\"}"
   ]
  },
  {
   "cell_type": "code",
   "execution_count": 14,
   "id": "a904962a-8b07-46cd-8327-fabb00ebcd06",
   "metadata": {},
   "outputs": [
    {
     "data": {
      "text/plain": [
       "{(1, 2, 3, 4, 5): 'sudh'}"
      ]
     },
     "execution_count": 14,
     "metadata": {},
     "output_type": "execute_result"
    }
   ],
   "source": [
    "d3"
   ]
  },
  {
   "cell_type": "code",
   "execution_count": 15,
   "id": "384dc47f-012c-4390-b212-2ee93c0f0c58",
   "metadata": {},
   "outputs": [
    {
     "ename": "SyntaxError",
     "evalue": "invalid syntax (933511568.py, line 1)",
     "output_type": "error",
     "traceback": [
      "\u001b[0;36m  Cell \u001b[0;32mIn[15], line 1\u001b[0;36m\u001b[0m\n\u001b[0;31m    d3={%fsf:\"sudh\"}\u001b[0m\n\u001b[0m        ^\u001b[0m\n\u001b[0;31mSyntaxError\u001b[0m\u001b[0;31m:\u001b[0m invalid syntax\n"
     ]
    }
   ],
   "source": [
    "d3={%fsf:\"sudh\"}"
   ]
  },
  {
   "cell_type": "code",
   "execution_count": 16,
   "id": "00706514-95ce-4949-9040-cb78304cf6b7",
   "metadata": {},
   "outputs": [],
   "source": [
    "d3={\"%fsf\":\"sudh\"}"
   ]
  },
  {
   "cell_type": "code",
   "execution_count": 17,
   "id": "6274814a-601a-4f70-b829-1650535a704f",
   "metadata": {},
   "outputs": [
    {
     "data": {
      "text/plain": [
       "{'%fsf': 'sudh'}"
      ]
     },
     "execution_count": 17,
     "metadata": {},
     "output_type": "execute_result"
    }
   ],
   "source": [
    "d3"
   ]
  },
  {
   "cell_type": "code",
   "execution_count": 18,
   "id": "f067b4e3-6419-4eae-91c4-489530ff3537",
   "metadata": {},
   "outputs": [],
   "source": [
    "d4={'course':['dsa','java','webdev','blockchain','cloud'],'mentor':('sudh','krish','vishwa','sourganshu','sunny'),\n",
    "   \n",
    "   'price':{3500,20000,15000,11000,35000},'duration':1,'access year':1,'syllablus':{\"python\":['core python','oops','pandas','numpy','db','mongodb'],'ml':['supervised','unsupervised','semi-supervised']}\n",
    "   }"
   ]
  },
  {
   "cell_type": "code",
   "execution_count": 19,
   "id": "14d3fe54-c4af-41af-9cee-de059a829d06",
   "metadata": {},
   "outputs": [
    {
     "data": {
      "text/plain": [
       "{'course': ['dsa', 'java', 'webdev', 'blockchain', 'cloud'],\n",
       " 'mentor': ('sudh', 'krish', 'vishwa', 'sourganshu', 'sunny'),\n",
       " 'price': {3500, 11000, 15000, 20000, 35000},\n",
       " 'duration': 1,\n",
       " 'access year': 1,\n",
       " 'syllablus': {'python': ['core python',\n",
       "   'oops',\n",
       "   'pandas',\n",
       "   'numpy',\n",
       "   'db',\n",
       "   'mongodb'],\n",
       "  'ml': ['supervised', 'unsupervised', 'semi-supervised']}}"
      ]
     },
     "execution_count": 19,
     "metadata": {},
     "output_type": "execute_result"
    }
   ],
   "source": [
    "d4"
   ]
  },
  {
   "cell_type": "code",
   "execution_count": 20,
   "id": "9449fd5a-f94f-49aa-aca2-274decc4929b",
   "metadata": {},
   "outputs": [
    {
     "data": {
      "text/plain": [
       "['dsa', 'java', 'webdev', 'blockchain', 'cloud']"
      ]
     },
     "execution_count": 20,
     "metadata": {},
     "output_type": "execute_result"
    }
   ],
   "source": [
    "d4['course']"
   ]
  },
  {
   "cell_type": "code",
   "execution_count": 21,
   "id": "67ca5e9f-658c-47ce-82ef-299715e7a4ba",
   "metadata": {},
   "outputs": [
    {
     "data": {
      "text/plain": [
       "1"
      ]
     },
     "execution_count": 21,
     "metadata": {},
     "output_type": "execute_result"
    }
   ],
   "source": [
    "d4['access year']"
   ]
  },
  {
   "cell_type": "code",
   "execution_count": 22,
   "id": "98baeda2-416e-44b1-b38b-fe5589633441",
   "metadata": {},
   "outputs": [
    {
     "data": {
      "text/plain": [
       "('sudh', 'krish', 'vishwa', 'sourganshu', 'sunny')"
      ]
     },
     "execution_count": 22,
     "metadata": {},
     "output_type": "execute_result"
    }
   ],
   "source": [
    "d4[\"mentor\"]"
   ]
  },
  {
   "cell_type": "code",
   "execution_count": 23,
   "id": "403ff508-0f00-4ce3-b2ac-3e04e3fc0975",
   "metadata": {},
   "outputs": [
    {
     "data": {
      "text/plain": [
       "{3500, 11000, 15000, 20000, 35000}"
      ]
     },
     "execution_count": 23,
     "metadata": {},
     "output_type": "execute_result"
    }
   ],
   "source": [
    "d4['price']"
   ]
  },
  {
   "cell_type": "code",
   "execution_count": 85,
   "id": "85d882f3-d711-411a-a385-940760c2e816",
   "metadata": {},
   "outputs": [
    {
     "data": {
      "text/plain": [
       "{'name': 'pwskills'}"
      ]
     },
     "execution_count": 85,
     "metadata": {},
     "output_type": "execute_result"
    }
   ],
   "source": [
    "d2"
   ]
  },
  {
   "cell_type": "code",
   "execution_count": 24,
   "id": "6e787282-ca64-4d3e-94ee-76a1b85f8629",
   "metadata": {},
   "outputs": [],
   "source": [
    "d2['phone number']=4366567"
   ]
  },
  {
   "cell_type": "code",
   "execution_count": 25,
   "id": "c10bdedc-315c-4516-b64a-5f2d1aea522a",
   "metadata": {},
   "outputs": [
    {
     "data": {
      "text/plain": [
       "{'name': 'pwskills', 'phone number': 4366567}"
      ]
     },
     "execution_count": 25,
     "metadata": {},
     "output_type": "execute_result"
    }
   ],
   "source": [
    "d2"
   ]
  },
  {
   "cell_type": "code",
   "execution_count": 89,
   "id": "f3dacfac-594f-4d17-a54a-6bdfb65cfad2",
   "metadata": {},
   "outputs": [],
   "source": [
    "d2['name']=\"mylove naina\""
   ]
  },
  {
   "cell_type": "code",
   "execution_count": 90,
   "id": "b1491ed8-8d6c-4f30-9dc1-a4ac062c7efc",
   "metadata": {},
   "outputs": [
    {
     "data": {
      "text/plain": [
       "{'name': 'mylove naina', 'phone number': 4366567}"
      ]
     },
     "execution_count": 90,
     "metadata": {},
     "output_type": "execute_result"
    }
   ],
   "source": [
    "d2"
   ]
  },
  {
   "cell_type": "code",
   "execution_count": 91,
   "id": "3efd21cb-6a67-49b9-9ea2-99fec8daf023",
   "metadata": {},
   "outputs": [],
   "source": [
    "# dictionary is mutable entity"
   ]
  },
  {
   "cell_type": "markdown",
   "id": "2e44ee4d-de61-42d4-bbf2-38d0c447b402",
   "metadata": {},
   "source": [
    "1.string,2.list,3.tuple,4.set,5.dictionary"
   ]
  },
  {
   "cell_type": "code",
   "execution_count": 26,
   "id": "8798a7a4-cbda-4b5c-a041-5ead380b2151",
   "metadata": {},
   "outputs": [],
   "source": [
    "s1=\"pwskills\""
   ]
  },
  {
   "cell_type": "code",
   "execution_count": 29,
   "id": "5f3bd2c3-e185-45a8-84b9-04f9706167a6",
   "metadata": {},
   "outputs": [
    {
     "data": {
      "text/plain": [
       "<function str.zfill(width, /)>"
      ]
     },
     "execution_count": 29,
     "metadata": {},
     "output_type": "execute_result"
    }
   ],
   "source": [
    "s1.zfill"
   ]
  },
  {
   "cell_type": "code",
   "execution_count": 30,
   "id": "911c8a06-bb6d-413d-850e-5b98898e3473",
   "metadata": {},
   "outputs": [
    {
     "data": {
      "text/plain": [
       "2"
      ]
     },
     "execution_count": 30,
     "metadata": {},
     "output_type": "execute_result"
    }
   ],
   "source": [
    "s1.count('s')"
   ]
  },
  {
   "cell_type": "code",
   "execution_count": 31,
   "id": "01670f7c-2dcb-4f62-9096-05fb0c3103b4",
   "metadata": {},
   "outputs": [
    {
     "data": {
      "text/plain": [
       "2"
      ]
     },
     "execution_count": 31,
     "metadata": {},
     "output_type": "execute_result"
    }
   ],
   "source": [
    "s1.count('l')"
   ]
  },
  {
   "cell_type": "code",
   "execution_count": 32,
   "id": "cb2791c3-becd-4fd7-8f01-57092cd64d05",
   "metadata": {},
   "outputs": [
    {
     "data": {
      "text/plain": [
       "-1"
      ]
     },
     "execution_count": 32,
     "metadata": {},
     "output_type": "execute_result"
    }
   ],
   "source": [
    "s1.find('o')"
   ]
  },
  {
   "cell_type": "code",
   "execution_count": 101,
   "id": "08402992-491b-462c-bc16-da1215cdd3e1",
   "metadata": {},
   "outputs": [
    {
     "data": {
      "text/plain": [
       "0"
      ]
     },
     "execution_count": 101,
     "metadata": {},
     "output_type": "execute_result"
    }
   ],
   "source": [
    "s1.index('p')"
   ]
  },
  {
   "cell_type": "code",
   "execution_count": 33,
   "id": "4872fe49-b012-49c5-8b7a-0f65223ffd73",
   "metadata": {},
   "outputs": [
    {
     "ename": "ValueError",
     "evalue": "substring not found",
     "output_type": "error",
     "traceback": [
      "\u001b[0;31m---------------------------------------------------------------------------\u001b[0m",
      "\u001b[0;31mValueError\u001b[0m                                Traceback (most recent call last)",
      "Cell \u001b[0;32mIn[33], line 1\u001b[0m\n\u001b[0;32m----> 1\u001b[0m \u001b[43ms1\u001b[49m\u001b[38;5;241;43m.\u001b[39;49m\u001b[43mindex\u001b[49m\u001b[43m(\u001b[49m\u001b[38;5;124;43m'\u001b[39;49m\u001b[38;5;124;43mo\u001b[39;49m\u001b[38;5;124;43m'\u001b[39;49m\u001b[43m)\u001b[49m\n",
      "\u001b[0;31mValueError\u001b[0m: substring not found"
     ]
    }
   ],
   "source": [
    "s1.index('o')"
   ]
  },
  {
   "cell_type": "code",
   "execution_count": 103,
   "id": "c7fca94c-48a4-48da-9108-e1fe849823c4",
   "metadata": {},
   "outputs": [],
   "source": [
    "# how find is different from index "
   ]
  },
  {
   "cell_type": "code",
   "execution_count": 105,
   "id": "50e38a17-79ed-42a0-a53f-d772b12b8a96",
   "metadata": {},
   "outputs": [
    {
     "data": {
      "text/plain": [
       "'PWSKILLS'"
      ]
     },
     "execution_count": 105,
     "metadata": {},
     "output_type": "execute_result"
    }
   ],
   "source": [
    "s1.upper()"
   ]
  },
  {
   "cell_type": "code",
   "execution_count": 106,
   "id": "1c3fb3bc-da74-4432-972f-95759f70d069",
   "metadata": {},
   "outputs": [
    {
     "data": {
      "text/plain": [
       "'pwskills'"
      ]
     },
     "execution_count": 106,
     "metadata": {},
     "output_type": "execute_result"
    }
   ],
   "source": [
    "s1.lower()"
   ]
  },
  {
   "cell_type": "code",
   "execution_count": 107,
   "id": "590dc3e0-c570-429e-8a62-4bdc25b19edb",
   "metadata": {},
   "outputs": [
    {
     "data": {
      "text/plain": [
       "'Pwskills'"
      ]
     },
     "execution_count": 107,
     "metadata": {},
     "output_type": "execute_result"
    }
   ],
   "source": [
    "s1.title()"
   ]
  },
  {
   "cell_type": "code",
   "execution_count": 34,
   "id": "7108c2fb-be99-4464-8a7b-1686d381ee06",
   "metadata": {},
   "outputs": [],
   "source": [
    "s2=\"My name is sudhanshu kumar \""
   ]
  },
  {
   "cell_type": "code",
   "execution_count": 109,
   "id": "4ca66569-47fa-42c8-a654-74c2454df0fe",
   "metadata": {},
   "outputs": [
    {
     "data": {
      "text/plain": [
       "'My Name Is Sudhanshu Kumar '"
      ]
     },
     "execution_count": 109,
     "metadata": {},
     "output_type": "execute_result"
    }
   ],
   "source": [
    "s2.title()"
   ]
  },
  {
   "cell_type": "code",
   "execution_count": 35,
   "id": "a42efe28-d196-4c2b-bad7-0da5577d2b43",
   "metadata": {},
   "outputs": [
    {
     "data": {
      "text/plain": [
       "['My', 'name', 'is', 'sudhanshu', 'kumar']"
      ]
     },
     "execution_count": 35,
     "metadata": {},
     "output_type": "execute_result"
    }
   ],
   "source": [
    "s2.split()"
   ]
  },
  {
   "cell_type": "code",
   "execution_count": 36,
   "id": "30409c0a-ceb3-43d2-b31f-eb858c89fdee",
   "metadata": {},
   "outputs": [],
   "source": [
    "s3=\"my name ,is ,sudhanshu kumar\""
   ]
  },
  {
   "cell_type": "code",
   "execution_count": 37,
   "id": "8e1713db-355f-4405-8ed7-ce4ade44b635",
   "metadata": {},
   "outputs": [
    {
     "data": {
      "text/plain": [
       "['my name ,i', ' ,', 'udhan', 'hu kumar']"
      ]
     },
     "execution_count": 37,
     "metadata": {},
     "output_type": "execute_result"
    }
   ],
   "source": [
    "s3.split('s')"
   ]
  },
  {
   "cell_type": "code",
   "execution_count": 38,
   "id": "9d7e53a9-7638-4969-be88-bde2370b5346",
   "metadata": {},
   "outputs": [],
   "source": [
    "s4=\"this is my fsds pro class. i am attending this class for 4th time\""
   ]
  },
  {
   "cell_type": "code",
   "execution_count": 39,
   "id": "493e2429-c660-4cca-830e-e30fff0af523",
   "metadata": {},
   "outputs": [
    {
     "data": {
      "text/plain": [
       "'this is my fsds pro class'"
      ]
     },
     "execution_count": 39,
     "metadata": {},
     "output_type": "execute_result"
    }
   ],
   "source": [
    "s4.split('.')[0]"
   ]
  },
  {
   "cell_type": "code",
   "execution_count": 40,
   "id": "9d9e6cf4-47e9-4513-a063-bf857f38d897",
   "metadata": {},
   "outputs": [
    {
     "data": {
      "text/plain": [
       "' i am attending this class for 4th time'"
      ]
     },
     "execution_count": 40,
     "metadata": {},
     "output_type": "execute_result"
    }
   ],
   "source": [
    "s4.split('.')[1]"
   ]
  },
  {
   "cell_type": "code",
   "execution_count": 41,
   "id": "7d2490ec-14d2-4de6-a34a-994a91d45438",
   "metadata": {},
   "outputs": [
    {
     "data": {
      "text/plain": [
       "'my name ,is ,sudhanshu kumar'"
      ]
     },
     "execution_count": 41,
     "metadata": {},
     "output_type": "execute_result"
    }
   ],
   "source": [
    "s3"
   ]
  },
  {
   "cell_type": "code",
   "execution_count": 42,
   "id": "fdd1cb27-03f9-4b96-b9f2-6065ee2b362e",
   "metadata": {},
   "outputs": [
    {
     "data": {
      "text/plain": [
       "'My name is sudhanshu kumar '"
      ]
     },
     "execution_count": 42,
     "metadata": {},
     "output_type": "execute_result"
    }
   ],
   "source": [
    "s2"
   ]
  },
  {
   "cell_type": "code",
   "execution_count": 43,
   "id": "e7109a78-7539-4014-9a24-acc6a5bbac81",
   "metadata": {},
   "outputs": [
    {
     "data": {
      "text/plain": [
       "'pwskills'"
      ]
     },
     "execution_count": 43,
     "metadata": {},
     "output_type": "execute_result"
    }
   ],
   "source": [
    "s1"
   ]
  },
  {
   "cell_type": "code",
   "execution_count": 44,
   "id": "ca6c3308-2dc5-46a0-bd05-4c3e958fd4a7",
   "metadata": {},
   "outputs": [
    {
     "data": {
      "text/plain": [
       "'Pwskills'"
      ]
     },
     "execution_count": 44,
     "metadata": {},
     "output_type": "execute_result"
    }
   ],
   "source": [
    "s1.capitalize()"
   ]
  },
  {
   "cell_type": "code",
   "execution_count": 45,
   "id": "ebf6251e-90dc-47a1-8648-00572e673a35",
   "metadata": {},
   "outputs": [
    {
     "data": {
      "text/plain": [
       "'My name is sudhanshu kumar '"
      ]
     },
     "execution_count": 45,
     "metadata": {},
     "output_type": "execute_result"
    }
   ],
   "source": [
    "s2.capitalize()"
   ]
  },
  {
   "cell_type": "code",
   "execution_count": 46,
   "id": "13207b48-a307-4850-ab59-8f35fdaaaca4",
   "metadata": {},
   "outputs": [
    {
     "data": {
      "text/plain": [
       "'My aame is sudhaashu kumar '"
      ]
     },
     "execution_count": 46,
     "metadata": {},
     "output_type": "execute_result"
    }
   ],
   "source": [
    "\n",
    "s2.replace('n','a')"
   ]
  },
  {
   "cell_type": "code",
   "execution_count": 47,
   "id": "a97b5c79-58f1-448d-a958-49b463f253c9",
   "metadata": {},
   "outputs": [
    {
     "data": {
      "text/plain": [
       "'ffffffffffffffffpwskillsffffffffffffffff'"
      ]
     },
     "execution_count": 47,
     "metadata": {},
     "output_type": "execute_result"
    }
   ],
   "source": [
    "s1.center(40,'f')"
   ]
  },
  {
   "cell_type": "code",
   "execution_count": 48,
   "id": "3e3e3faf-9d08-4a13-a013-53514ae78b36",
   "metadata": {},
   "outputs": [
    {
     "data": {
      "text/plain": [
       "'pwskills'"
      ]
     },
     "execution_count": 48,
     "metadata": {},
     "output_type": "execute_result"
    }
   ],
   "source": [
    "s1.rstrip()"
   ]
  },
  {
   "cell_type": "code",
   "execution_count": 49,
   "id": "3e594fca-0833-4331-bd16-5c4a5cbe0aaa",
   "metadata": {},
   "outputs": [],
   "source": [
    "s5=\"       pwskills   \""
   ]
  },
  {
   "cell_type": "code",
   "execution_count": 52,
   "id": "c992bc49-4f76-47d6-8bc4-ef8c251e7ce4",
   "metadata": {},
   "outputs": [
    {
     "data": {
      "text/plain": [
       "'       pwskills'"
      ]
     },
     "execution_count": 52,
     "metadata": {},
     "output_type": "execute_result"
    }
   ],
   "source": [
    "s5.rstrip()"
   ]
  },
  {
   "cell_type": "code",
   "execution_count": 53,
   "id": "d5dd3f20-e249-4a58-a0dc-40a4d88b9cfb",
   "metadata": {},
   "outputs": [
    {
     "data": {
      "text/plain": [
       "'pwskills'"
      ]
     },
     "execution_count": 53,
     "metadata": {},
     "output_type": "execute_result"
    }
   ],
   "source": [
    "s5.lstrip()"
   ]
  },
  {
   "cell_type": "code",
   "execution_count": 54,
   "id": "20a22994-5b22-4d7a-9a78-0b90d11252df",
   "metadata": {},
   "outputs": [
    {
     "data": {
      "text/plain": [
       "'pwskills'"
      ]
     },
     "execution_count": 54,
     "metadata": {},
     "output_type": "execute_result"
    }
   ],
   "source": [
    "s5.strip()"
   ]
  },
  {
   "cell_type": "code",
   "execution_count": 55,
   "id": "b574e682-5a05-4dfa-9c0c-273899ff7e9d",
   "metadata": {},
   "outputs": [
    {
     "data": {
      "text/plain": [
       "'My name is sudhanshu kumar '"
      ]
     },
     "execution_count": 55,
     "metadata": {},
     "output_type": "execute_result"
    }
   ],
   "source": [
    "s2"
   ]
  },
  {
   "cell_type": "code",
   "execution_count": 56,
   "id": "aa1118f9-81e6-4d63-ae4c-44b08b4174cd",
   "metadata": {},
   "outputs": [
    {
     "data": {
      "text/plain": [
       "True"
      ]
     },
     "execution_count": 56,
     "metadata": {},
     "output_type": "execute_result"
    }
   ],
   "source": [
    "s1.isalnum()"
   ]
  },
  {
   "cell_type": "code",
   "execution_count": 57,
   "id": "ddfcef07-eee4-4360-97db-a0b22c86d472",
   "metadata": {},
   "outputs": [
    {
     "data": {
      "text/plain": [
       "True"
      ]
     },
     "execution_count": 57,
     "metadata": {},
     "output_type": "execute_result"
    }
   ],
   "source": [
    "s1.isalpha()"
   ]
  },
  {
   "cell_type": "code",
   "execution_count": 58,
   "id": "c085cccc-eecf-4d99-bc75-0ba895fce14d",
   "metadata": {},
   "outputs": [
    {
     "data": {
      "text/plain": [
       "False"
      ]
     },
     "execution_count": 58,
     "metadata": {},
     "output_type": "execute_result"
    }
   ],
   "source": [
    "s1.isnumeric()"
   ]
  },
  {
   "cell_type": "code",
   "execution_count": 59,
   "id": "6a464a81-5ff7-4f13-91e9-18c34b70913c",
   "metadata": {},
   "outputs": [
    {
     "data": {
      "text/plain": [
       "True"
      ]
     },
     "execution_count": 59,
     "metadata": {},
     "output_type": "execute_result"
    }
   ],
   "source": [
    "s1.islower()"
   ]
  },
  {
   "cell_type": "code",
   "execution_count": 66,
   "id": "88b841c1-d0bd-47db-bce6-8b3e75214f0c",
   "metadata": {},
   "outputs": [
    {
     "data": {
      "text/plain": [
       "[]"
      ]
     },
     "execution_count": 111,
     "metadata": {},
     "output_type": "execute_result"
    }
   ],
   "source": [
    " l1"
   ]
  },
  {
   "cell_type": "code",
   "execution_count": 67,
   "id": "5bc11eb7-8a4c-4081-bd0c-e5911fdc0056",
   "metadata": {},
   "outputs": [],
   "source": [
    "l1.append('sudh')"
   ]
  },
  {
   "cell_type": "code",
   "execution_count": 68,
   "id": "96010d7e-c240-4c23-9027-7e04f1df4d26",
   "metadata": {},
   "outputs": [
    {
     "data": {
      "text/plain": [
       "[]"
      ]
     },
     "execution_count": 123,
     "metadata": {},
     "output_type": "execute_result"
    }
   ],
   "source": [
    "l1"
   ]
  },
  {
   "cell_type": "code",
   "execution_count": 69,
   "id": "d203607b-0184-45b6-bbf7-b589fabb47df",
   "metadata": {},
   "outputs": [],
   "source": [
    "l1.insert(3,'pwskills')"
   ]
  },
  {
   "cell_type": "code",
   "execution_count": 70,
   "id": "14b3a786-244d-4200-bd5c-cdf6ec09b43a",
   "metadata": {},
   "outputs": [
    {
     "data": {
      "text/plain": [
       "[1,\n",
       " 2,\n",
       " 3,\n",
       " 'pwskills',\n",
       " 4,\n",
       " 5,\n",
       " 'atul',\n",
       " 'kumar',\n",
       " (3+6j),\n",
       " 345.555,\n",
       " True,\n",
       " [3, 4, 5, 6],\n",
       " 'sudh']"
      ]
     },
     "execution_count": 70,
     "metadata": {},
     "output_type": "execute_result"
    }
   ],
   "source": [
    "l1"
   ]
  },
  {
   "cell_type": "code",
   "execution_count": 71,
   "id": "a50cf7e4-36ef-4614-90df-10f229d88ce6",
   "metadata": {},
   "outputs": [],
   "source": [
    "l2.extend(\"sudh\")"
   ]
  },
  {
   "cell_type": "code",
   "execution_count": 72,
   "id": "a8bee650-1903-45d2-92d1-4a0b46b4889f",
   "metadata": {},
   "outputs": [
    {
     "data": {
      "text/plain": [
       "[3, 4, 5, 'pwskills', 'sudh', 's', 'u', 'd', 'h']"
      ]
     },
     "execution_count": 72,
     "metadata": {},
     "output_type": "execute_result"
    }
   ],
   "source": [
    "l2"
   ]
  },
  {
   "cell_type": "code",
   "execution_count": 73,
   "id": "67b1fdcf-c993-4693-a7de-f20c314326d1",
   "metadata": {},
   "outputs": [],
   "source": [
    "l2.append(\"sudh\")"
   ]
  },
  {
   "cell_type": "code",
   "execution_count": 74,
   "id": "26097171-0c26-43ef-a2fc-816e45291986",
   "metadata": {},
   "outputs": [
    {
     "data": {
      "text/plain": [
       "[3, 4, 5, 'pwskills', 'sudh', 's', 'u', 'd', 'h', 'sudh']"
      ]
     },
     "execution_count": 74,
     "metadata": {},
     "output_type": "execute_result"
    }
   ],
   "source": [
    "l2"
   ]
  },
  {
   "cell_type": "code",
   "execution_count": 75,
   "id": "b664a0e7-2604-49dc-9aea-531cfd2d1f10",
   "metadata": {},
   "outputs": [],
   "source": [
    "l2.insert(2,\"sudh\")"
   ]
  },
  {
   "cell_type": "code",
   "execution_count": 76,
   "id": "51e1512a-8d91-4e82-be13-35f73809649b",
   "metadata": {},
   "outputs": [
    {
     "data": {
      "text/plain": [
       "[3, 4, 'sudh', 5, 'pwskills', 'sudh', 's', 'u', 'd', 'h', 'sudh']"
      ]
     },
     "execution_count": 76,
     "metadata": {},
     "output_type": "execute_result"
    }
   ],
   "source": [
    "l2"
   ]
  },
  {
   "cell_type": "code",
   "execution_count": 77,
   "id": "8f1966d9-2b42-4463-900f-d9ea5322c46e",
   "metadata": {},
   "outputs": [],
   "source": [
    "l2.extend(\"sudh\")"
   ]
  },
  {
   "cell_type": "code",
   "execution_count": 78,
   "id": "a9e0f1fe-14c8-404c-8d08-ed1f3cdcdf56",
   "metadata": {},
   "outputs": [
    {
     "data": {
      "text/plain": [
       "[3,\n",
       " 4,\n",
       " 'sudh',\n",
       " 5,\n",
       " 'pwskills',\n",
       " 'sudh',\n",
       " 's',\n",
       " 'u',\n",
       " 'd',\n",
       " 'h',\n",
       " 'sudh',\n",
       " 's',\n",
       " 'u',\n",
       " 'd',\n",
       " 'h']"
      ]
     },
     "execution_count": 78,
     "metadata": {},
     "output_type": "execute_result"
    }
   ],
   "source": [
    "l2"
   ]
  },
  {
   "cell_type": "code",
   "execution_count": 80,
   "id": "a5dc7c35-7a28-49bc-b111-7f64645f7da5",
   "metadata": {},
   "outputs": [],
   "source": [
    "l3=[1,2,3,4,5]"
   ]
  },
  {
   "cell_type": "code",
   "execution_count": 81,
   "id": "f3db4257-f68a-468d-a22b-b3073ad569bf",
   "metadata": {},
   "outputs": [],
   "source": [
    "l3.append([1,2,3])"
   ]
  },
  {
   "cell_type": "code",
   "execution_count": 82,
   "id": "9e277154-7e3b-4926-87a8-53279e4c5f56",
   "metadata": {},
   "outputs": [
    {
     "data": {
      "text/plain": [
       "[1, 2, 3, 4, 5, [1, 2, 3]]"
      ]
     },
     "execution_count": 82,
     "metadata": {},
     "output_type": "execute_result"
    }
   ],
   "source": [
    "l3"
   ]
  },
  {
   "cell_type": "code",
   "execution_count": 87,
   "id": "7d2753c4-793a-4d75-8644-da999cdf194e",
   "metadata": {},
   "outputs": [],
   "source": [
    "l3.insert(1,[6,7,88])"
   ]
  },
  {
   "cell_type": "code",
   "execution_count": 88,
   "id": "35beadae-5ac3-4f25-9414-8627bf90e8f2",
   "metadata": {},
   "outputs": [
    {
     "data": {
      "text/plain": [
       "[1, [6, 7, 88], [6, 7, 8], [68], 2, 3, 4, 5, [1, 2, 3]]"
      ]
     },
     "execution_count": 88,
     "metadata": {},
     "output_type": "execute_result"
    }
   ],
   "source": [
    "l3"
   ]
  },
  {
   "cell_type": "code",
   "execution_count": 89,
   "id": "7169344f-ae91-441b-b4e2-607cd4fbb231",
   "metadata": {},
   "outputs": [],
   "source": [
    "l3.extend([4,5,6])"
   ]
  },
  {
   "cell_type": "code",
   "execution_count": 90,
   "id": "067ec716-c904-4bad-b498-765676726fa4",
   "metadata": {},
   "outputs": [
    {
     "data": {
      "text/plain": [
       "[1, [6, 7, 88], [6, 7, 8], [68], 2, 3, 4, 5, [1, 2, 3], 4, 5, 6]"
      ]
     },
     "execution_count": 90,
     "metadata": {},
     "output_type": "execute_result"
    }
   ],
   "source": [
    "l3"
   ]
  },
  {
   "cell_type": "code",
   "execution_count": 91,
   "id": "7c49d5c8-835c-4ac2-a954-57b8a4611235",
   "metadata": {},
   "outputs": [
    {
     "data": {
      "text/plain": [
       "6"
      ]
     },
     "execution_count": 91,
     "metadata": {},
     "output_type": "execute_result"
    }
   ],
   "source": [
    "l3.pop()"
   ]
  },
  {
   "cell_type": "code",
   "execution_count": 92,
   "id": "45307d93-fc08-431f-8c06-a9e61315a0d1",
   "metadata": {},
   "outputs": [
    {
     "data": {
      "text/plain": [
       "[1, [6, 7, 88], [6, 7, 8], [68], 2, 3, 4, 5, [1, 2, 3], 4, 5]"
      ]
     },
     "execution_count": 92,
     "metadata": {},
     "output_type": "execute_result"
    }
   ],
   "source": [
    "l3"
   ]
  },
  {
   "cell_type": "code",
   "execution_count": 93,
   "id": "ab43d57d-1877-42e9-b08c-270882780d58",
   "metadata": {},
   "outputs": [
    {
     "data": {
      "text/plain": [
       "[6, 7, 88]"
      ]
     },
     "execution_count": 93,
     "metadata": {},
     "output_type": "execute_result"
    }
   ],
   "source": [
    "l3.pop(1)"
   ]
  },
  {
   "cell_type": "code",
   "execution_count": 94,
   "id": "d0bd5225-64f3-4d96-b7c5-eef0c496838b",
   "metadata": {},
   "outputs": [
    {
     "data": {
      "text/plain": [
       "[1, [6, 7, 8], [68], 2, 3, 4, 5, [1, 2, 3], 4, 5]"
      ]
     },
     "execution_count": 94,
     "metadata": {},
     "output_type": "execute_result"
    }
   ],
   "source": [
    "l3"
   ]
  },
  {
   "cell_type": "code",
   "execution_count": 95,
   "id": "0b967640-99a7-4d9e-bf45-c3a70b8bbac0",
   "metadata": {},
   "outputs": [
    {
     "data": {
      "text/plain": [
       "[1, [6, 7, 8], [68], 2, 3, 4, 5, [1, 2, 3], 4, 5]"
      ]
     },
     "execution_count": 95,
     "metadata": {},
     "output_type": "execute_result"
    }
   ],
   "source": [
    "l3"
   ]
  },
  {
   "cell_type": "code",
   "execution_count": 96,
   "id": "ca5812e3-0330-470e-9648-f31129de28e9",
   "metadata": {},
   "outputs": [],
   "source": [
    "del l3"
   ]
  },
  {
   "cell_type": "code",
   "execution_count": 97,
   "id": "1dd9a06c-a0d6-47c4-b0d2-c6f8459c8dc5",
   "metadata": {},
   "outputs": [
    {
     "ename": "NameError",
     "evalue": "name 'l3' is not defined",
     "output_type": "error",
     "traceback": [
      "\u001b[0;31m---------------------------------------------------------------------------\u001b[0m",
      "\u001b[0;31mNameError\u001b[0m                                 Traceback (most recent call last)",
      "Cell \u001b[0;32mIn[97], line 1\u001b[0m\n\u001b[0;32m----> 1\u001b[0m \u001b[43ml3\u001b[49m\n",
      "\u001b[0;31mNameError\u001b[0m: name 'l3' is not defined"
     ]
    }
   ],
   "source": [
    "l3"
   ]
  },
  {
   "cell_type": "code",
   "execution_count": 98,
   "id": "3da97ff6-0a54-4610-82a2-67e4f9ea96de",
   "metadata": {},
   "outputs": [
    {
     "data": {
      "text/plain": [
       "'My name is sudhanshu kumar '"
      ]
     },
     "execution_count": 98,
     "metadata": {},
     "output_type": "execute_result"
    }
   ],
   "source": [
    "s2"
   ]
  },
  {
   "cell_type": "code",
   "execution_count": 99,
   "id": "5b1c345c-871b-4a5a-a1bc-e7110bedb69e",
   "metadata": {},
   "outputs": [],
   "source": [
    "del s2"
   ]
  },
  {
   "cell_type": "code",
   "execution_count": 100,
   "id": "0a4ada64-272c-4e13-919e-b1a35a730a19",
   "metadata": {},
   "outputs": [
    {
     "ename": "NameError",
     "evalue": "name 's2' is not defined",
     "output_type": "error",
     "traceback": [
      "\u001b[0;31m---------------------------------------------------------------------------\u001b[0m",
      "\u001b[0;31mNameError\u001b[0m                                 Traceback (most recent call last)",
      "Cell \u001b[0;32mIn[100], line 1\u001b[0m\n\u001b[0;32m----> 1\u001b[0m \u001b[43ms2\u001b[49m\n",
      "\u001b[0;31mNameError\u001b[0m: name 's2' is not defined"
     ]
    }
   ],
   "source": [
    "s2"
   ]
  },
  {
   "cell_type": "code",
   "execution_count": 101,
   "id": "7a81d966-b7b5-471e-8f71-0c108c037c72",
   "metadata": {},
   "outputs": [
    {
     "data": {
      "text/plain": [
       "[3,\n",
       " 4,\n",
       " 'sudh',\n",
       " 5,\n",
       " 'pwskills',\n",
       " 'sudh',\n",
       " 's',\n",
       " 'u',\n",
       " 'd',\n",
       " 'h',\n",
       " 'sudh',\n",
       " 's',\n",
       " 'u',\n",
       " 'd',\n",
       " 'h']"
      ]
     },
     "execution_count": 101,
     "metadata": {},
     "output_type": "execute_result"
    }
   ],
   "source": [
    "l2"
   ]
  },
  {
   "cell_type": "code",
   "execution_count": 103,
   "id": "9be8cea9-c18c-48d1-aea3-137e47fd3e18",
   "metadata": {},
   "outputs": [],
   "source": [
    "l2.remove('s')"
   ]
  },
  {
   "cell_type": "code",
   "execution_count": 124,
   "id": "f715146f-d1df-4b27-b30a-02897dd85631",
   "metadata": {},
   "outputs": [
    {
     "data": {
      "text/plain": [
       "[]"
      ]
     },
     "execution_count": 124,
     "metadata": {},
     "output_type": "execute_result"
    }
   ],
   "source": [
    "l2"
   ]
  },
  {
   "cell_type": "code",
   "execution_count": 125,
   "id": "f162be62-317c-4014-83bd-b41bf5779721",
   "metadata": {},
   "outputs": [],
   "source": [
    "l2=[3,4,5,\"pwskills\",\"sudh\" ]"
   ]
  },
  {
   "cell_type": "code",
   "execution_count": 126,
   "id": "39f110b8-2698-47c1-af36-0f757524e216",
   "metadata": {},
   "outputs": [
    {
     "data": {
      "text/plain": [
       "[3, 4, 5, 'pwskills', 'sudh']"
      ]
     },
     "execution_count": 126,
     "metadata": {},
     "output_type": "execute_result"
    }
   ],
   "source": [
    "l2"
   ]
  },
  {
   "cell_type": "code",
   "execution_count": 127,
   "id": "122ca4f8-a82a-4234-a8b7-d299e522056a",
   "metadata": {},
   "outputs": [],
   "source": [
    "l1=[1,2,3,4,5,\"atul\",\"kumar\",3+6j,345.555,True,[3,4,5,6]]"
   ]
  },
  {
   "cell_type": "code",
   "execution_count": 128,
   "id": "7f14fd48-96b2-4e64-b4b5-8e9eb4886695",
   "metadata": {},
   "outputs": [
    {
     "data": {
      "text/plain": [
       "[1, 2, 3, 4, 5, 'atul', 'kumar', (3+6j), 345.555, True, [3, 4, 5, 6]]"
      ]
     },
     "execution_count": 128,
     "metadata": {},
     "output_type": "execute_result"
    }
   ],
   "source": [
    "l1"
   ]
  },
  {
   "cell_type": "code",
   "execution_count": 129,
   "id": "3b7fc144-415f-4500-8846-9b0ea288af0a",
   "metadata": {},
   "outputs": [
    {
     "data": {
      "text/plain": [
       "0"
      ]
     },
     "execution_count": 129,
     "metadata": {},
     "output_type": "execute_result"
    }
   ],
   "source": [
    "l2.count('s')"
   ]
  },
  {
   "cell_type": "code",
   "execution_count": 139,
   "id": "66fe47f3-f3b0-4115-b6c0-6d70d9257b3b",
   "metadata": {},
   "outputs": [
    {
     "data": {
      "text/plain": [
       "5"
      ]
     },
     "execution_count": 139,
     "metadata": {},
     "output_type": "execute_result"
    }
   ],
   "source": [
    "l1.index('atul')"
   ]
  },
  {
   "cell_type": "code",
   "execution_count": 140,
   "id": "efaf3991-fa12-4cb0-b4c6-43a3655bc14d",
   "metadata": {},
   "outputs": [
    {
     "data": {
      "text/plain": [
       "1"
      ]
     },
     "execution_count": 140,
     "metadata": {},
     "output_type": "execute_result"
    }
   ],
   "source": [
    "l1.index(2)"
   ]
  },
  {
   "cell_type": "code",
   "execution_count": 141,
   "id": "08cdd4d5-1d5a-45a5-a330-d115f1435695",
   "metadata": {},
   "outputs": [],
   "source": [
    "l2.reverse()"
   ]
  },
  {
   "cell_type": "code",
   "execution_count": 142,
   "id": "058cfc96-d9ab-44f5-9417-f0e3628fde3a",
   "metadata": {},
   "outputs": [
    {
     "data": {
      "text/plain": [
       "['sudh', 'pwskills', 5, 4, 3]"
      ]
     },
     "execution_count": 142,
     "metadata": {},
     "output_type": "execute_result"
    }
   ],
   "source": [
    "l2"
   ]
  },
  {
   "cell_type": "code",
   "execution_count": 143,
   "id": "3ec01fd3-2198-4441-af08-01fe4c19c6be",
   "metadata": {},
   "outputs": [
    {
     "ename": "TypeError",
     "evalue": "'<' not supported between instances of 'int' and 'str'",
     "output_type": "error",
     "traceback": [
      "\u001b[0;31m---------------------------------------------------------------------------\u001b[0m",
      "\u001b[0;31mTypeError\u001b[0m                                 Traceback (most recent call last)",
      "Cell \u001b[0;32mIn[143], line 1\u001b[0m\n\u001b[0;32m----> 1\u001b[0m \u001b[43ml2\u001b[49m\u001b[38;5;241;43m.\u001b[39;49m\u001b[43msort\u001b[49m\u001b[43m(\u001b[49m\u001b[43m)\u001b[49m\n",
      "\u001b[0;31mTypeError\u001b[0m: '<' not supported between instances of 'int' and 'str'"
     ]
    }
   ],
   "source": [
    "l2.sort()"
   ]
  },
  {
   "cell_type": "code",
   "execution_count": 144,
   "id": "712f42e7-25d8-441f-962f-bb5af5070a38",
   "metadata": {},
   "outputs": [
    {
     "data": {
      "text/plain": [
       "['sudh', 'pwskills', 5, 4, 3]"
      ]
     },
     "execution_count": 144,
     "metadata": {},
     "output_type": "execute_result"
    }
   ],
   "source": [
    "l2"
   ]
  },
  {
   "cell_type": "code",
   "execution_count": 158,
   "id": "48a63c1f-0674-4e70-89cc-4950881b2710",
   "metadata": {},
   "outputs": [],
   "source": [
    "l3=[2,3,5,4,6,7,8,5]\n",
    "list(set(l3)).sort()"
   ]
  },
  {
   "cell_type": "code",
   "execution_count": 146,
   "id": "568b23a7-8fac-4d03-b041-287f6944bee1",
   "metadata": {},
   "outputs": [
    {
     "data": {
      "text/plain": [
       "[2, 3, 5, 4, 6, 7, 8, 5]"
      ]
     },
     "execution_count": 146,
     "metadata": {},
     "output_type": "execute_result"
    }
   ],
   "source": [
    "l3"
   ]
  },
  {
   "cell_type": "code",
   "execution_count": 159,
   "id": "10677e9b-08de-4c09-ad6a-946f1725a126",
   "metadata": {},
   "outputs": [],
   "source": [
    "l3.sort()"
   ]
  },
  {
   "cell_type": "code",
   "execution_count": 160,
   "id": "2498ec87-1885-47a5-8ed8-e45a39a32e9d",
   "metadata": {},
   "outputs": [
    {
     "data": {
      "text/plain": [
       "{2, 3, 4, 5, 6, 7, 8}"
      ]
     },
     "execution_count": 160,
     "metadata": {},
     "output_type": "execute_result"
    }
   ],
   "source": [
    "set(l3)"
   ]
  },
  {
   "cell_type": "code",
   "execution_count": 161,
   "id": "7b4887c5-3e52-46e5-bea1-9bbf1199b5e5",
   "metadata": {},
   "outputs": [],
   "source": [
    "l4=[\"sudh\",\"kumar\",\"abcd\"]"
   ]
  },
  {
   "cell_type": "code",
   "execution_count": 162,
   "id": "7e63cf3c-90a6-425f-a01c-a52dc0ce81d0",
   "metadata": {},
   "outputs": [],
   "source": [
    "l4.sort()"
   ]
  },
  {
   "cell_type": "code",
   "execution_count": 163,
   "id": "de63ba7c-5b65-44f5-b89b-73caf0b0bff9",
   "metadata": {},
   "outputs": [
    {
     "data": {
      "text/plain": [
       "['abcd', 'kumar', 'sudh']"
      ]
     },
     "execution_count": 163,
     "metadata": {},
     "output_type": "execute_result"
    }
   ],
   "source": [
    "l4"
   ]
  },
  {
   "cell_type": "code",
   "execution_count": 164,
   "id": "d14858a3-6444-49e4-8293-665d41df407a",
   "metadata": {},
   "outputs": [],
   "source": [
    "l4.sort(reverse=True)"
   ]
  },
  {
   "cell_type": "code",
   "execution_count": 165,
   "id": "cef1157e-2d85-47ff-97d4-b4fe71c552d3",
   "metadata": {},
   "outputs": [
    {
     "data": {
      "text/plain": [
       "['sudh', 'kumar', 'abcd']"
      ]
     },
     "execution_count": 165,
     "metadata": {},
     "output_type": "execute_result"
    }
   ],
   "source": [
    "l4"
   ]
  },
  {
   "cell_type": "code",
   "execution_count": 166,
   "id": "edea3589-f848-4da0-a127-4c73b12b83a5",
   "metadata": {},
   "outputs": [
    {
     "data": {
      "text/plain": [
       "[2, 3, 4, 5, 5, 6, 7, 8]"
      ]
     },
     "execution_count": 166,
     "metadata": {},
     "output_type": "execute_result"
    }
   ],
   "source": [
    "l3"
   ]
  },
  {
   "cell_type": "code",
   "execution_count": 167,
   "id": "8a373be4-0d33-4727-910d-fe1d8bc31295",
   "metadata": {},
   "outputs": [
    {
     "data": {
      "text/plain": [
       "{2, 3, 4, 5, 6, 7, 8}"
      ]
     },
     "execution_count": 167,
     "metadata": {},
     "output_type": "execute_result"
    }
   ],
   "source": [
    "set(l3)"
   ]
  },
  {
   "cell_type": "code",
   "execution_count": 175,
   "id": "bdbe7b46-8753-4e79-88f9-c02652d3b4a5",
   "metadata": {},
   "outputs": [],
   "source": [
    "l5 = list(set(l3)).sort()"
   ]
  },
  {
   "cell_type": "code",
   "execution_count": 176,
   "id": "96c9b44d-90a8-43a6-89f3-aba3982fb068",
   "metadata": {},
   "outputs": [
    {
     "data": {
      "text/plain": [
       "[2, 3, 4, 5, 5, 6, 7, 8]"
      ]
     },
     "execution_count": 176,
     "metadata": {},
     "output_type": "execute_result"
    }
   ],
   "source": [
    "l3"
   ]
  },
  {
   "cell_type": "code",
   "execution_count": 177,
   "id": "1438232d-8fcb-4e3a-8b31-2487600b121a",
   "metadata": {},
   "outputs": [],
   "source": [
    "l5"
   ]
  },
  {
   "cell_type": "code",
   "execution_count": 178,
   "id": "10862487-dbf9-4e90-b500-940bac014e26",
   "metadata": {},
   "outputs": [
    {
     "data": {
      "text/plain": [
       "{2, 3, 4, 5, 6, 7, 8}"
      ]
     },
     "execution_count": 178,
     "metadata": {},
     "output_type": "execute_result"
    }
   ],
   "source": [
    "set(l3)"
   ]
  },
  {
   "cell_type": "code",
   "execution_count": 179,
   "id": "c3698b50-d228-49a7-b534-37f947400280",
   "metadata": {},
   "outputs": [],
   "source": [
    "l4=set(l3)"
   ]
  },
  {
   "cell_type": "code",
   "execution_count": 192,
   "id": "a579421d-c7c4-4b06-8c5a-62868c49f678",
   "metadata": {},
   "outputs": [],
   "source": [
    "l6 = list(l4)"
   ]
  },
  {
   "cell_type": "code",
   "execution_count": 193,
   "id": "8d787795-1e0a-4dda-a18e-b44e75962249",
   "metadata": {},
   "outputs": [],
   "source": [
    "l6.sort()"
   ]
  },
  {
   "cell_type": "code",
   "execution_count": 194,
   "id": "f6c83ea2-b70a-42d2-be0f-1d83a98cbfe7",
   "metadata": {},
   "outputs": [
    {
     "data": {
      "text/plain": [
       "[2, 3, 4, 5, 6, 7, 8]"
      ]
     },
     "execution_count": 194,
     "metadata": {},
     "output_type": "execute_result"
    }
   ],
   "source": [
    "l6"
   ]
  },
  {
   "cell_type": "code",
   "execution_count": 195,
   "id": "0c9bc949-6a0c-485a-9c4b-01050017bfd4",
   "metadata": {},
   "outputs": [],
   "source": [
    "l0=[2,3,4,5]"
   ]
  },
  {
   "cell_type": "code",
   "execution_count": 196,
   "id": "d3fb84e3-7e13-41bc-b57c-201db0ff41ba",
   "metadata": {},
   "outputs": [],
   "source": [
    "l1=l0"
   ]
  },
  {
   "cell_type": "code",
   "execution_count": 197,
   "id": "e98b82ec-736f-4e16-8ab3-38e3bf57d4c3",
   "metadata": {},
   "outputs": [
    {
     "data": {
      "text/plain": [
       "[2, 3, 4, 5]"
      ]
     },
     "execution_count": 197,
     "metadata": {},
     "output_type": "execute_result"
    }
   ],
   "source": [
    "l1"
   ]
  },
  {
   "cell_type": "code",
   "execution_count": 198,
   "id": "345f0ad8-b150-4529-a235-eae1a6d26a29",
   "metadata": {},
   "outputs": [
    {
     "data": {
      "text/plain": [
       "[2, 3, 4, 5]"
      ]
     },
     "execution_count": 198,
     "metadata": {},
     "output_type": "execute_result"
    }
   ],
   "source": [
    "l0"
   ]
  },
  {
   "cell_type": "code",
   "execution_count": 199,
   "id": "6d76071e-6800-42d5-a9c1-ef931c61a3af",
   "metadata": {},
   "outputs": [],
   "source": [
    "l0[0]=200"
   ]
  },
  {
   "cell_type": "code",
   "execution_count": 200,
   "id": "d35b3d44-4eff-4b62-b4ea-6256f73a00d4",
   "metadata": {},
   "outputs": [
    {
     "data": {
      "text/plain": [
       "[200, 3, 4, 5]"
      ]
     },
     "execution_count": 200,
     "metadata": {},
     "output_type": "execute_result"
    }
   ],
   "source": [
    "l0"
   ]
  },
  {
   "cell_type": "code",
   "execution_count": 201,
   "id": "8b9b44d7-52bf-45f5-99e4-5b82532b5170",
   "metadata": {},
   "outputs": [
    {
     "data": {
      "text/plain": [
       "[200, 3, 4, 5]"
      ]
     },
     "execution_count": 201,
     "metadata": {},
     "output_type": "execute_result"
    }
   ],
   "source": [
    "l1"
   ]
  },
  {
   "cell_type": "code",
   "execution_count": 205,
   "id": "0e644267-c39f-4b00-8fea-265181303ad2",
   "metadata": {},
   "outputs": [],
   "source": [
    "l2=l0.copy()"
   ]
  },
  {
   "cell_type": "code",
   "execution_count": 206,
   "id": "5a02a430-fe8a-485a-bac0-522de446e786",
   "metadata": {},
   "outputs": [
    {
     "data": {
      "text/plain": [
       "[200, 3, 4, 5]"
      ]
     },
     "execution_count": 206,
     "metadata": {},
     "output_type": "execute_result"
    }
   ],
   "source": [
    "l2"
   ]
  },
  {
   "cell_type": "code",
   "execution_count": 207,
   "id": "a0a25e42-f588-4545-a3a3-51f8a129d4e8",
   "metadata": {},
   "outputs": [
    {
     "data": {
      "text/plain": [
       "[200, 3, 4, 5]"
      ]
     },
     "execution_count": 207,
     "metadata": {},
     "output_type": "execute_result"
    }
   ],
   "source": [
    "l1"
   ]
  },
  {
   "cell_type": "code",
   "execution_count": 208,
   "id": "e3a71faf-ad66-4cfb-bd3b-f4361b5c0160",
   "metadata": {},
   "outputs": [
    {
     "data": {
      "text/plain": [
       "[200, 3, 4, 5]"
      ]
     },
     "execution_count": 208,
     "metadata": {},
     "output_type": "execute_result"
    }
   ],
   "source": [
    "l0"
   ]
  },
  {
   "cell_type": "code",
   "execution_count": 209,
   "id": "0b2a9b1d-1a2d-4b6b-be44-ff3e1ea2ad54",
   "metadata": {},
   "outputs": [],
   "source": [
    "l0[1]=300"
   ]
  },
  {
   "cell_type": "code",
   "execution_count": 210,
   "id": "f15414bd-212a-46ea-bf93-3c3799ee9e94",
   "metadata": {},
   "outputs": [
    {
     "data": {
      "text/plain": [
       "[200, 300, 4, 5]"
      ]
     },
     "execution_count": 210,
     "metadata": {},
     "output_type": "execute_result"
    }
   ],
   "source": [
    "l0"
   ]
  },
  {
   "cell_type": "code",
   "execution_count": 211,
   "id": "88c7a53d-b23b-4c7e-b2c4-289a081928d6",
   "metadata": {},
   "outputs": [
    {
     "data": {
      "text/plain": [
       "[200, 300, 4, 5]"
      ]
     },
     "execution_count": 211,
     "metadata": {},
     "output_type": "execute_result"
    }
   ],
   "source": [
    "l1"
   ]
  },
  {
   "cell_type": "code",
   "execution_count": 213,
   "id": "7bbfe544-ee9e-4495-bf31-432c48111caf",
   "metadata": {},
   "outputs": [
    {
     "data": {
      "text/plain": [
       "[200, 3, 4, 5]"
      ]
     },
     "execution_count": 213,
     "metadata": {},
     "output_type": "execute_result"
    }
   ],
   "source": [
    "l2"
   ]
  },
  {
   "cell_type": "code",
   "execution_count": 216,
   "id": "e3906e4d-3532-471d-9c1a-9d9ca447f8d0",
   "metadata": {},
   "outputs": [],
   "source": [
    "# deep copy copy function always allows deep copy "
   ]
  },
  {
   "cell_type": "code",
   "execution_count": 217,
   "id": "94812147-8767-420b-9ba8-7a135c5e994d",
   "metadata": {},
   "outputs": [],
   "source": [
    "# sollow copy "
   ]
  },
  {
   "cell_type": "code",
   "execution_count": 227,
   "id": "21698637-b99b-4658-b586-a5b43f39631f",
   "metadata": {},
   "outputs": [
    {
     "data": {
      "text/plain": [
       "(1, 2, 3, 4, 'sudh', 'pwskills', (4+56j), True)"
      ]
     },
     "execution_count": 227,
     "metadata": {},
     "output_type": "execute_result"
    }
   ],
   "source": [
    "t"
   ]
  },
  {
   "cell_type": "code",
   "execution_count": 228,
   "id": "c61d2b3b-ab10-490d-bc11-cb99c9e8e591",
   "metadata": {},
   "outputs": [
    {
     "data": {
      "text/plain": [
       "(5, 6, 7, 8, 9)"
      ]
     },
     "execution_count": 228,
     "metadata": {},
     "output_type": "execute_result"
    }
   ],
   "source": [
    "t1"
   ]
  },
  {
   "cell_type": "code",
   "execution_count": 230,
   "id": "853fc53b-3513-487b-9a78-668539f15478",
   "metadata": {},
   "outputs": [
    {
     "data": {
      "text/plain": [
       "1"
      ]
     },
     "execution_count": 230,
     "metadata": {},
     "output_type": "execute_result"
    }
   ],
   "source": [
    "t.count(4)"
   ]
  },
  {
   "cell_type": "code",
   "execution_count": 232,
   "id": "eb728d9c-2323-43a4-9a75-c3ded1e240ec",
   "metadata": {},
   "outputs": [
    {
     "data": {
      "text/plain": [
       "3"
      ]
     },
     "execution_count": 232,
     "metadata": {},
     "output_type": "execute_result"
    }
   ],
   "source": [
    "t1.index(8)"
   ]
  },
  {
   "cell_type": "code",
   "execution_count": 233,
   "id": "c264753e-d46d-49b5-a2c0-d147679b4add",
   "metadata": {},
   "outputs": [
    {
     "data": {
      "text/plain": [
       "'pwskills'"
      ]
     },
     "execution_count": 233,
     "metadata": {},
     "output_type": "execute_result"
    }
   ],
   "source": [
    "s1"
   ]
  },
  {
   "cell_type": "code",
   "execution_count": 236,
   "id": "a473bf5c-ae38-4d81-952d-5eaad1a842c2",
   "metadata": {},
   "outputs": [
    {
     "data": {
      "text/plain": [
       "'pwskills'"
      ]
     },
     "execution_count": 236,
     "metadata": {},
     "output_type": "execute_result"
    }
   ],
   "source": [
    "s1"
   ]
  },
  {
   "cell_type": "code",
   "execution_count": 238,
   "id": "621a38b9-5908-4d25-939f-9018fca3df88",
   "metadata": {},
   "outputs": [
    {
     "ename": "NameError",
     "evalue": "name 's' is not defined",
     "output_type": "error",
     "traceback": [
      "\u001b[0;31m---------------------------------------------------------------------------\u001b[0m",
      "\u001b[0;31mNameError\u001b[0m                                 Traceback (most recent call last)",
      "Cell \u001b[0;32mIn[238], line 1\u001b[0m\n\u001b[0;32m----> 1\u001b[0m \u001b[43ms\u001b[49m\n",
      "\u001b[0;31mNameError\u001b[0m: name 's' is not defined"
     ]
    }
   ],
   "source": [
    "s"
   ]
  },
  {
   "cell_type": "code",
   "execution_count": 241,
   "id": "a1cfb793-820e-47e0-b6a8-cf162d97642a",
   "metadata": {},
   "outputs": [],
   "source": [
    "s={3,4,54,6,6,43,3,3,5,5,6}"
   ]
  },
  {
   "cell_type": "code",
   "execution_count": 242,
   "id": "d4ca6078-e248-49c3-819d-9bcc6b5b7810",
   "metadata": {},
   "outputs": [
    {
     "data": {
      "text/plain": [
       "{3, 4, 5, 6, 43, 54}"
      ]
     },
     "execution_count": 242,
     "metadata": {},
     "output_type": "execute_result"
    }
   ],
   "source": [
    "s"
   ]
  },
  {
   "cell_type": "code",
   "execution_count": 243,
   "id": "09421be3-449e-4c25-a4f6-0a4072ba9de4",
   "metadata": {},
   "outputs": [
    {
     "data": {
      "text/plain": [
       "set"
      ]
     },
     "execution_count": 243,
     "metadata": {},
     "output_type": "execute_result"
    }
   ],
   "source": [
    "type(s)"
   ]
  },
  {
   "cell_type": "code",
   "execution_count": 244,
   "id": "2901271c-2d33-48a8-b70b-fbc1811fd4ed",
   "metadata": {},
   "outputs": [],
   "source": [
    "s.add(2344)"
   ]
  },
  {
   "cell_type": "code",
   "execution_count": 245,
   "id": "7aafe2c2-eabc-4f56-8180-db37abf952d0",
   "metadata": {},
   "outputs": [
    {
     "data": {
      "text/plain": [
       "{3, 4, 5, 6, 43, 54, 2344}"
      ]
     },
     "execution_count": 245,
     "metadata": {},
     "output_type": "execute_result"
    }
   ],
   "source": [
    "s"
   ]
  },
  {
   "cell_type": "code",
   "execution_count": 246,
   "id": "9cc2e787-711f-4964-a8f5-6367bbe0f72d",
   "metadata": {},
   "outputs": [],
   "source": [
    "s.add(4)"
   ]
  },
  {
   "cell_type": "code",
   "execution_count": 247,
   "id": "13dcc9a5-2342-4dc0-a548-1c88a7aa314b",
   "metadata": {},
   "outputs": [
    {
     "data": {
      "text/plain": [
       "{3, 4, 5, 6, 43, 54, 2344}"
      ]
     },
     "execution_count": 247,
     "metadata": {},
     "output_type": "execute_result"
    }
   ],
   "source": [
    "s"
   ]
  },
  {
   "cell_type": "code",
   "execution_count": 248,
   "id": "87733914-d683-4373-8e32-1e231637dafc",
   "metadata": {},
   "outputs": [],
   "source": [
    "s.clear()"
   ]
  },
  {
   "cell_type": "code",
   "execution_count": 249,
   "id": "c63d68b4-09a3-4873-b1bd-52ed5a6f2e6f",
   "metadata": {},
   "outputs": [
    {
     "data": {
      "text/plain": [
       "set()"
      ]
     },
     "execution_count": 249,
     "metadata": {},
     "output_type": "execute_result"
    }
   ],
   "source": [
    "s"
   ]
  },
  {
   "cell_type": "code",
   "execution_count": 250,
   "id": "4a408c8b-55c1-4247-bbc3-1d2d090bedad",
   "metadata": {},
   "outputs": [],
   "source": [
    "s={3,4,54,6,6,43,3,3,5,5,6}"
   ]
  },
  {
   "cell_type": "code",
   "execution_count": 252,
   "id": "39345c3f-a89e-47d9-b8f1-0ed641a0e68b",
   "metadata": {},
   "outputs": [],
   "source": [
    "s.discard(3)"
   ]
  },
  {
   "cell_type": "code",
   "execution_count": 253,
   "id": "b5f0ca07-e5bd-4250-82d7-6668cbd744c1",
   "metadata": {},
   "outputs": [
    {
     "data": {
      "text/plain": [
       "{4, 5, 6, 43, 54}"
      ]
     },
     "execution_count": 253,
     "metadata": {},
     "output_type": "execute_result"
    }
   ],
   "source": [
    "s"
   ]
  },
  {
   "cell_type": "code",
   "execution_count": 254,
   "id": "f234b479-298e-42f4-b1da-45bf6f69c4b1",
   "metadata": {},
   "outputs": [
    {
     "data": {
      "text/plain": [
       "4"
      ]
     },
     "execution_count": 254,
     "metadata": {},
     "output_type": "execute_result"
    }
   ],
   "source": [
    "s.pop()"
   ]
  },
  {
   "cell_type": "code",
   "execution_count": 255,
   "id": "4a5821d9-b5d7-473a-91e5-2c51c02d946e",
   "metadata": {},
   "outputs": [
    {
     "data": {
      "text/plain": [
       "{5, 6, 43, 54}"
      ]
     },
     "execution_count": 255,
     "metadata": {},
     "output_type": "execute_result"
    }
   ],
   "source": [
    "s"
   ]
  },
  {
   "cell_type": "code",
   "execution_count": 256,
   "id": "987db629-fb4c-4c05-934f-b248b86056c7",
   "metadata": {},
   "outputs": [
    {
     "data": {
      "text/plain": [
       "5"
      ]
     },
     "execution_count": 256,
     "metadata": {},
     "output_type": "execute_result"
    }
   ],
   "source": [
    "s.pop()"
   ]
  },
  {
   "cell_type": "code",
   "execution_count": 257,
   "id": "ef3fbc9f-b4f3-43f4-b4c1-987394f53e2c",
   "metadata": {},
   "outputs": [
    {
     "data": {
      "text/plain": [
       "{6, 43, 54}"
      ]
     },
     "execution_count": 257,
     "metadata": {},
     "output_type": "execute_result"
    }
   ],
   "source": [
    "s"
   ]
  },
  {
   "cell_type": "code",
   "execution_count": 258,
   "id": "252d31b0-1f6d-4901-aeb8-8e3f2b480297",
   "metadata": {},
   "outputs": [],
   "source": [
    "s.remove(43)"
   ]
  },
  {
   "cell_type": "code",
   "execution_count": 259,
   "id": "29967317-c573-4607-bd71-ec0a2506dddb",
   "metadata": {},
   "outputs": [
    {
     "data": {
      "text/plain": [
       "{6, 54}"
      ]
     },
     "execution_count": 259,
     "metadata": {},
     "output_type": "execute_result"
    }
   ],
   "source": [
    "s"
   ]
  },
  {
   "cell_type": "code",
   "execution_count": 260,
   "id": "48943e18-fd75-47f4-b9e7-bf865b391c49",
   "metadata": {},
   "outputs": [],
   "source": [
    "s.update()"
   ]
  },
  {
   "cell_type": "code",
   "execution_count": 261,
   "id": "ad5957f4-6754-4ffb-9aae-b4fc79bf5f83",
   "metadata": {},
   "outputs": [
    {
     "data": {
      "text/plain": [
       "{6, 54}"
      ]
     },
     "execution_count": 261,
     "metadata": {},
     "output_type": "execute_result"
    }
   ],
   "source": [
    "s"
   ]
  },
  {
   "cell_type": "code",
   "execution_count": 262,
   "id": "cf65ac15-9830-4bb3-b788-20b6ab0d764b",
   "metadata": {},
   "outputs": [
    {
     "data": {
      "text/plain": [
       "{'name': 'sudhanshu',\n",
       " 'subject': ['data science', 'big data', 'data analytics'],\n",
       " 'number': 43243}"
      ]
     },
     "execution_count": 262,
     "metadata": {},
     "output_type": "execute_result"
    }
   ],
   "source": [
    "d1"
   ]
  },
  {
   "cell_type": "code",
   "execution_count": 263,
   "id": "3170498a-a40f-4c92-95c6-97950eea5fb8",
   "metadata": {},
   "outputs": [
    {
     "data": {
      "text/plain": [
       "dict_keys(['name', 'subject', 'number'])"
      ]
     },
     "execution_count": 263,
     "metadata": {},
     "output_type": "execute_result"
    }
   ],
   "source": [
    "d1.keys()"
   ]
  },
  {
   "cell_type": "code",
   "execution_count": 264,
   "id": "2628e39a-d41b-44ef-8933-3216017f17e9",
   "metadata": {},
   "outputs": [
    {
     "data": {
      "text/plain": [
       "dict_values(['sudhanshu', ['data science', 'big data', 'data analytics'], 43243])"
      ]
     },
     "execution_count": 264,
     "metadata": {},
     "output_type": "execute_result"
    }
   ],
   "source": [
    "d1.values()"
   ]
  },
  {
   "cell_type": "code",
   "execution_count": 265,
   "id": "8125cead-6b9e-4e59-b88c-10c755422543",
   "metadata": {},
   "outputs": [
    {
     "data": {
      "text/plain": [
       "dict_items([('name', 'sudhanshu'), ('subject', ['data science', 'big data', 'data analytics']), ('number', 43243)])"
      ]
     },
     "execution_count": 265,
     "metadata": {},
     "output_type": "execute_result"
    }
   ],
   "source": [
    "d1.items()"
   ]
  },
  {
   "cell_type": "code",
   "execution_count": 266,
   "id": "db76aa59-bc95-4b0b-9a0b-427cc477627a",
   "metadata": {},
   "outputs": [
    {
     "data": {
      "text/plain": [
       "'sudhanshu'"
      ]
     },
     "execution_count": 266,
     "metadata": {},
     "output_type": "execute_result"
    }
   ],
   "source": [
    "d1.get('name')"
   ]
  },
  {
   "cell_type": "code",
   "execution_count": 267,
   "id": "4b7c07d8-45fb-4094-85f6-36b55e7158bf",
   "metadata": {},
   "outputs": [
    {
     "data": {
      "text/plain": [
       "'sudhanshu'"
      ]
     },
     "execution_count": 267,
     "metadata": {},
     "output_type": "execute_result"
    }
   ],
   "source": [
    "d1['name']"
   ]
  },
  {
   "cell_type": "code",
   "execution_count": 268,
   "id": "7d0bbfac-83bf-4a79-869c-80802c6cd099",
   "metadata": {},
   "outputs": [
    {
     "data": {
      "text/plain": [
       "'sudhanshu'"
      ]
     },
     "execution_count": 268,
     "metadata": {},
     "output_type": "execute_result"
    }
   ],
   "source": [
    "d1.pop('name')"
   ]
  },
  {
   "cell_type": "code",
   "execution_count": 269,
   "id": "c974bbe2-e444-42ae-8092-627c587cace0",
   "metadata": {},
   "outputs": [
    {
     "data": {
      "text/plain": [
       "{'subject': ['data science', 'big data', 'data analytics'], 'number': 43243}"
      ]
     },
     "execution_count": 269,
     "metadata": {},
     "output_type": "execute_result"
    }
   ],
   "source": [
    "d1"
   ]
  },
  {
   "cell_type": "code",
   "execution_count": 272,
   "id": "ffd241fa-00a9-4942-be94-eb048a84b70a",
   "metadata": {},
   "outputs": [],
   "source": [
    "d1['test']=\"sds\""
   ]
  },
  {
   "cell_type": "code",
   "execution_count": 273,
   "id": "a66d3d5c-0783-4c20-916d-9b8b9306d084",
   "metadata": {},
   "outputs": [
    {
     "data": {
      "text/plain": [
       "{'subject': ['data science', 'big data', 'data analytics'],\n",
       " 'number': 43243,\n",
       " 'test': 'sds'}"
      ]
     },
     "execution_count": 273,
     "metadata": {},
     "output_type": "execute_result"
    }
   ],
   "source": [
    "d1"
   ]
  },
  {
   "cell_type": "code",
   "execution_count": null,
   "id": "a7548e12-de23-489b-972d-3f0af7f520c7",
   "metadata": {},
   "outputs": [],
   "source": []
  }
 ],
 "metadata": {
  "kernelspec": {
   "display_name": "Python 3 (ipykernel)",
   "language": "python",
   "name": "python3"
  },
  "language_info": {
   "codemirror_mode": {
    "name": "ipython",
    "version": 3
   },
   "file_extension": ".py",
   "mimetype": "text/x-python",
   "name": "python",
   "nbconvert_exporter": "python",
   "pygments_lexer": "ipython3",
   "version": "3.10.8"
  }
 },
 "nbformat": 4,
 "nbformat_minor": 5
}
